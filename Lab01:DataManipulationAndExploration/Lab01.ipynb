{
 "cells": [
  {
   "cell_type": "markdown",
   "source": [
    "# Lab-1: Data Manipulation and Exploration."
   ],
   "metadata": {
    "collapsed": false,
    "pycharm": {
     "name": "#%% md\n"
    }
   }
  },
  {
   "cell_type": "code",
   "execution_count": 1,
   "metadata": {
    "collapsed": true,
    "pycharm": {
     "name": "#%%\n"
    }
   },
   "outputs": [],
   "source": [
    "from pandas import read_csv, Series, DataFrame, get_dummies, NA\n",
    "from torch.utils.data import Dataset\n",
    "import numpy as np"
   ]
  },
  {
   "cell_type": "markdown",
   "source": [
    "#### Exploration"
   ],
   "metadata": {
    "collapsed": false,
    "pycharm": {
     "name": "#%% md\n"
    }
   }
  },
  {
   "cell_type": "code",
   "execution_count": 2,
   "outputs": [],
   "source": [
    "test_data = read_csv(\"data/test.csv\")"
   ],
   "metadata": {
    "collapsed": false,
    "pycharm": {
     "name": "#%%\n"
    }
   }
  },
  {
   "cell_type": "code",
   "execution_count": 3,
   "outputs": [
    {
     "data": {
      "text/plain": "   galactic year         galaxy  existence expectancy index  \\\n0        1007012        KK98 77                    0.456086   \n1        1007012  Reticulum III                    0.529835   \n2        1008016  Reticulum III                    0.560976   \n3        1007012        Segue 1                    0.565910   \n4        1013042        Virgo I                    0.588274   \n\n   existence expectancy at birth  Gross income per capita  Income Index  \\\n0                      51.562543             12236.576447      0.593325   \n1                      57.228262              3431.883825      0.675407   \n2                      59.379539             27562.914252      0.594624   \n3                      59.952390             20352.232905      0.837700   \n4                      55.428320             23959.704016      0.520579   \n\n   Expected years of education (galactic years)  \\\n0                                     10.414164   \n1                                      7.239485   \n2                                     11.774890   \n3                                     11.613621   \n4                                     10.392416   \n\n   Mean years of education (galactic years)  \\\n0                                 10.699072   \n1                                  5.311122   \n2                                  5.937797   \n3                                 10.067882   \n4                                  6.374637   \n\n   Intergalactic Development Index (IDI)  Education Index  ...  \\\n0                               0.547114         0.556267  ...   \n1                               0.497688         0.409969  ...   \n2                               0.544744         0.486167  ...   \n3                               0.691641         0.523441  ...   \n4                               0.530676         0.580418  ...   \n\n   Current health expenditure (% of GGP)  \\\n0                                    NaN   \n1                                    NaN   \n2                                    NaN   \n3                                    NaN   \n4                               7.357729   \n\n   Intergalactic Development Index (IDI), female  \\\n0                                            NaN   \n1                                            NaN   \n2                                            NaN   \n3                                            NaN   \n4                                       0.583373   \n\n   Intergalactic Development Index (IDI), male  \\\n0                                          NaN   \n1                                          NaN   \n2                                          NaN   \n3                                          NaN   \n4                                     0.600445   \n\n   Gender Development Index (GDI)  \\\n0                             NaN   \n1                             NaN   \n2                             NaN   \n3                             NaN   \n4                        0.856158   \n\n   Intergalactic Development Index (IDI), female, Rank  \\\n0                                                NaN     \n1                                                NaN     \n2                                                NaN     \n3                                                NaN     \n4                                         206.674424     \n\n   Intergalactic Development Index (IDI), male, Rank  Adjusted net savings   \\\n0                                                NaN                    NaN   \n1                                                NaN                    NaN   \n2                                                NaN                    NaN   \n3                                                NaN                    NaN   \n4                                         224.104054                    NaN   \n\n   Creature Immunodeficiency Disease prevalence, adult (% ages 15-49), total  \\\n0                                                NaN                           \n1                                                NaN                           \n2                                                NaN                           \n3                                                NaN                           \n4                                           7.687626                           \n\n   Private galaxy capital flows (% of GGP)  Gender Inequality Index (GII)  \n0                                      NaN                            NaN  \n1                                      NaN                            NaN  \n2                                      NaN                            NaN  \n3                                      NaN                            NaN  \n4                                      NaN                            NaN  \n\n[5 rows x 79 columns]",
      "text/html": "<div>\n<style scoped>\n    .dataframe tbody tr th:only-of-type {\n        vertical-align: middle;\n    }\n\n    .dataframe tbody tr th {\n        vertical-align: top;\n    }\n\n    .dataframe thead th {\n        text-align: right;\n    }\n</style>\n<table border=\"1\" class=\"dataframe\">\n  <thead>\n    <tr style=\"text-align: right;\">\n      <th></th>\n      <th>galactic year</th>\n      <th>galaxy</th>\n      <th>existence expectancy index</th>\n      <th>existence expectancy at birth</th>\n      <th>Gross income per capita</th>\n      <th>Income Index</th>\n      <th>Expected years of education (galactic years)</th>\n      <th>Mean years of education (galactic years)</th>\n      <th>Intergalactic Development Index (IDI)</th>\n      <th>Education Index</th>\n      <th>...</th>\n      <th>Current health expenditure (% of GGP)</th>\n      <th>Intergalactic Development Index (IDI), female</th>\n      <th>Intergalactic Development Index (IDI), male</th>\n      <th>Gender Development Index (GDI)</th>\n      <th>Intergalactic Development Index (IDI), female, Rank</th>\n      <th>Intergalactic Development Index (IDI), male, Rank</th>\n      <th>Adjusted net savings</th>\n      <th>Creature Immunodeficiency Disease prevalence, adult (% ages 15-49), total</th>\n      <th>Private galaxy capital flows (% of GGP)</th>\n      <th>Gender Inequality Index (GII)</th>\n    </tr>\n  </thead>\n  <tbody>\n    <tr>\n      <th>0</th>\n      <td>1007012</td>\n      <td>KK98 77</td>\n      <td>0.456086</td>\n      <td>51.562543</td>\n      <td>12236.576447</td>\n      <td>0.593325</td>\n      <td>10.414164</td>\n      <td>10.699072</td>\n      <td>0.547114</td>\n      <td>0.556267</td>\n      <td>...</td>\n      <td>NaN</td>\n      <td>NaN</td>\n      <td>NaN</td>\n      <td>NaN</td>\n      <td>NaN</td>\n      <td>NaN</td>\n      <td>NaN</td>\n      <td>NaN</td>\n      <td>NaN</td>\n      <td>NaN</td>\n    </tr>\n    <tr>\n      <th>1</th>\n      <td>1007012</td>\n      <td>Reticulum III</td>\n      <td>0.529835</td>\n      <td>57.228262</td>\n      <td>3431.883825</td>\n      <td>0.675407</td>\n      <td>7.239485</td>\n      <td>5.311122</td>\n      <td>0.497688</td>\n      <td>0.409969</td>\n      <td>...</td>\n      <td>NaN</td>\n      <td>NaN</td>\n      <td>NaN</td>\n      <td>NaN</td>\n      <td>NaN</td>\n      <td>NaN</td>\n      <td>NaN</td>\n      <td>NaN</td>\n      <td>NaN</td>\n      <td>NaN</td>\n    </tr>\n    <tr>\n      <th>2</th>\n      <td>1008016</td>\n      <td>Reticulum III</td>\n      <td>0.560976</td>\n      <td>59.379539</td>\n      <td>27562.914252</td>\n      <td>0.594624</td>\n      <td>11.774890</td>\n      <td>5.937797</td>\n      <td>0.544744</td>\n      <td>0.486167</td>\n      <td>...</td>\n      <td>NaN</td>\n      <td>NaN</td>\n      <td>NaN</td>\n      <td>NaN</td>\n      <td>NaN</td>\n      <td>NaN</td>\n      <td>NaN</td>\n      <td>NaN</td>\n      <td>NaN</td>\n      <td>NaN</td>\n    </tr>\n    <tr>\n      <th>3</th>\n      <td>1007012</td>\n      <td>Segue 1</td>\n      <td>0.565910</td>\n      <td>59.952390</td>\n      <td>20352.232905</td>\n      <td>0.837700</td>\n      <td>11.613621</td>\n      <td>10.067882</td>\n      <td>0.691641</td>\n      <td>0.523441</td>\n      <td>...</td>\n      <td>NaN</td>\n      <td>NaN</td>\n      <td>NaN</td>\n      <td>NaN</td>\n      <td>NaN</td>\n      <td>NaN</td>\n      <td>NaN</td>\n      <td>NaN</td>\n      <td>NaN</td>\n      <td>NaN</td>\n    </tr>\n    <tr>\n      <th>4</th>\n      <td>1013042</td>\n      <td>Virgo I</td>\n      <td>0.588274</td>\n      <td>55.428320</td>\n      <td>23959.704016</td>\n      <td>0.520579</td>\n      <td>10.392416</td>\n      <td>6.374637</td>\n      <td>0.530676</td>\n      <td>0.580418</td>\n      <td>...</td>\n      <td>7.357729</td>\n      <td>0.583373</td>\n      <td>0.600445</td>\n      <td>0.856158</td>\n      <td>206.674424</td>\n      <td>224.104054</td>\n      <td>NaN</td>\n      <td>7.687626</td>\n      <td>NaN</td>\n      <td>NaN</td>\n    </tr>\n  </tbody>\n</table>\n<p>5 rows × 79 columns</p>\n</div>"
     },
     "execution_count": 3,
     "metadata": {},
     "output_type": "execute_result"
    }
   ],
   "source": [
    "test_data[0:5]"
   ],
   "metadata": {
    "collapsed": false,
    "pycharm": {
     "name": "#%%\n"
    }
   }
  },
  {
   "cell_type": "code",
   "execution_count": 4,
   "outputs": [
    {
     "data": {
      "text/plain": "                     0        1        2        3        4        5        6  \\\ngalactic year  1007012  1007012  1008016  1007012  1013042  1012036  1011030   \n\n                     7        8        9  \ngalactic year  1009020  1007012  1010025  ",
      "text/html": "<div>\n<style scoped>\n    .dataframe tbody tr th:only-of-type {\n        vertical-align: middle;\n    }\n\n    .dataframe tbody tr th {\n        vertical-align: top;\n    }\n\n    .dataframe thead th {\n        text-align: right;\n    }\n</style>\n<table border=\"1\" class=\"dataframe\">\n  <thead>\n    <tr style=\"text-align: right;\">\n      <th></th>\n      <th>0</th>\n      <th>1</th>\n      <th>2</th>\n      <th>3</th>\n      <th>4</th>\n      <th>5</th>\n      <th>6</th>\n      <th>7</th>\n      <th>8</th>\n      <th>9</th>\n    </tr>\n  </thead>\n  <tbody>\n    <tr>\n      <th>galactic year</th>\n      <td>1007012</td>\n      <td>1007012</td>\n      <td>1008016</td>\n      <td>1007012</td>\n      <td>1013042</td>\n      <td>1012036</td>\n      <td>1011030</td>\n      <td>1009020</td>\n      <td>1007012</td>\n      <td>1010025</td>\n    </tr>\n  </tbody>\n</table>\n</div>"
     },
     "execution_count": 4,
     "metadata": {},
     "output_type": "execute_result"
    }
   ],
   "source": [
    "Series(test_data[\"galactic year\"], [i for i in range(10)]).to_frame().T"
   ],
   "metadata": {
    "collapsed": false,
    "pycharm": {
     "name": "#%%\n"
    }
   }
  },
  {
   "cell_type": "code",
   "execution_count": 5,
   "outputs": [
    {
     "data": {
      "text/plain": "'galactic year'"
     },
     "execution_count": 5,
     "metadata": {},
     "output_type": "execute_result"
    }
   ],
   "source": [
    "Series(test_data[\"galactic year\"], [i for i in range(10)]).name"
   ],
   "metadata": {
    "collapsed": false,
    "pycharm": {
     "name": "#%%\n"
    }
   }
  },
  {
   "cell_type": "code",
   "execution_count": 6,
   "outputs": [
    {
     "data": {
      "text/plain": "  galactic year   galaxy existence expectancy index  \\\n0       1007012  KK98 77                   0.456086   \n\n  existence expectancy at birth Gross income per capita Income Index  \\\n0                     51.562543            12236.576447     0.593325   \n\n  Expected years of education (galactic years)  \\\n0                                    10.414164   \n\n  Mean years of education (galactic years)  \\\n0                                10.699072   \n\n  Intergalactic Development Index (IDI) Education Index  ...  \\\n0                              0.547114        0.556267  ...   \n\n  Current health expenditure (% of GGP)  \\\n0                                   NaN   \n\n  Intergalactic Development Index (IDI), female  \\\n0                                           NaN   \n\n  Intergalactic Development Index (IDI), male Gender Development Index (GDI)  \\\n0                                         NaN                            NaN   \n\n  Intergalactic Development Index (IDI), female, Rank  \\\n0                                                NaN    \n\n  Intergalactic Development Index (IDI), male, Rank Adjusted net savings   \\\n0                                               NaN                   NaN   \n\n  Creature Immunodeficiency Disease prevalence, adult (% ages 15-49), total  \\\n0                                                NaN                          \n\n  Private galaxy capital flows (% of GGP) Gender Inequality Index (GII)  \n0                                     NaN                           NaN  \n\n[1 rows x 79 columns]",
      "text/html": "<div>\n<style scoped>\n    .dataframe tbody tr th:only-of-type {\n        vertical-align: middle;\n    }\n\n    .dataframe tbody tr th {\n        vertical-align: top;\n    }\n\n    .dataframe thead th {\n        text-align: right;\n    }\n</style>\n<table border=\"1\" class=\"dataframe\">\n  <thead>\n    <tr style=\"text-align: right;\">\n      <th></th>\n      <th>galactic year</th>\n      <th>galaxy</th>\n      <th>existence expectancy index</th>\n      <th>existence expectancy at birth</th>\n      <th>Gross income per capita</th>\n      <th>Income Index</th>\n      <th>Expected years of education (galactic years)</th>\n      <th>Mean years of education (galactic years)</th>\n      <th>Intergalactic Development Index (IDI)</th>\n      <th>Education Index</th>\n      <th>...</th>\n      <th>Current health expenditure (% of GGP)</th>\n      <th>Intergalactic Development Index (IDI), female</th>\n      <th>Intergalactic Development Index (IDI), male</th>\n      <th>Gender Development Index (GDI)</th>\n      <th>Intergalactic Development Index (IDI), female, Rank</th>\n      <th>Intergalactic Development Index (IDI), male, Rank</th>\n      <th>Adjusted net savings</th>\n      <th>Creature Immunodeficiency Disease prevalence, adult (% ages 15-49), total</th>\n      <th>Private galaxy capital flows (% of GGP)</th>\n      <th>Gender Inequality Index (GII)</th>\n    </tr>\n  </thead>\n  <tbody>\n    <tr>\n      <th>0</th>\n      <td>1007012</td>\n      <td>KK98 77</td>\n      <td>0.456086</td>\n      <td>51.562543</td>\n      <td>12236.576447</td>\n      <td>0.593325</td>\n      <td>10.414164</td>\n      <td>10.699072</td>\n      <td>0.547114</td>\n      <td>0.556267</td>\n      <td>...</td>\n      <td>NaN</td>\n      <td>NaN</td>\n      <td>NaN</td>\n      <td>NaN</td>\n      <td>NaN</td>\n      <td>NaN</td>\n      <td>NaN</td>\n      <td>NaN</td>\n      <td>NaN</td>\n      <td>NaN</td>\n    </tr>\n  </tbody>\n</table>\n<p>1 rows × 79 columns</p>\n</div>"
     },
     "execution_count": 6,
     "metadata": {},
     "output_type": "execute_result"
    }
   ],
   "source": [
    "test_data.iloc[0].to_frame().T"
   ],
   "metadata": {
    "collapsed": false,
    "pycharm": {
     "name": "#%%\n"
    }
   }
  },
  {
   "cell_type": "code",
   "execution_count": 7,
   "outputs": [
    {
     "data": {
      "text/plain": "RangeIndex(start=0, stop=890, step=1)"
     },
     "execution_count": 7,
     "metadata": {},
     "output_type": "execute_result"
    }
   ],
   "source": [
    "test_data.index"
   ],
   "metadata": {
    "collapsed": false,
    "pycharm": {
     "name": "#%%\n"
    }
   }
  },
  {
   "cell_type": "markdown",
   "source": [
    "#### One-hot-encoding of categorical feature\n",
    "1. Why to encode the categorical feature?\n",
    "<span style=\"color:blue\">Because most of the machine learning and basic deep learning algorithms can only accept numerical data and features.</span>\n",
    "<br> <br>\n",
    "2. Why one-hot-encoding form? why not give each category in the feature a specific code value?\n",
    "<span style=\"color:blue\"> Giving each category a number (e.g. giving categories: red, blue, black -> 1, 2, 3) will indicate to the learning algorithm that there's some ordering (e.g., black is larger than red) which is not true as the categories are nominal.\n",
    "<br> <br>\n",
    "3. How many new features will be added? What if we have some missing values, which is the case in this dataset?\n",
    "<span style=\"color:blue\"> Usually the number of new features is #categories - 1, as one indicator variable can be infered from the others. NaN maybe treated as an extra type\n",
    "<br> <br>\n",
    "4. When is it appropriate to give each category an encoding value?\n",
    "<span style=\"color:blue\"> It will be appropriate if the categorical feature is ordinal (e.g, small, medium, large). Then it is reasonable approach to give them ordered values without transform it to one-hot-encoding form (i.e., small -> 1, medium -> 2, large -> 3)."
   ],
   "metadata": {
    "collapsed": false,
    "pycharm": {
     "name": "#%% md\n"
    }
   }
  },
  {
   "cell_type": "code",
   "execution_count": 8,
   "outputs": [
    {
     "data": {
      "text/plain": "   galaxy_Andromeda I  galaxy_Andromeda II  galaxy_Andromeda III  \\\n0                   0                    0                     0   \n1                   0                    0                     0   \n2                   0                    0                     0   \n3                   0                    0                     0   \n4                   0                    0                     0   \n\n   galaxy_Andromeda IX  galaxy_Andromeda V  galaxy_Andromeda VIII  \\\n0                    0                   0                      0   \n1                    0                   0                      0   \n2                    0                   0                      0   \n3                    0                   0                      0   \n4                    0                   0                      0   \n\n   galaxy_Andromeda X  galaxy_Andromeda XI  galaxy_Andromeda XV  \\\n0                   0                    0                    0   \n1                   0                    0                    0   \n2                   0                    0                    0   \n3                   0                    0                    0   \n4                   0                    0                    0   \n\n   galaxy_Andromeda XVII  ...  galaxy_UGCA 292  galaxy_UGCA 438 (ESO 407-018)  \\\n0                      0  ...                0                              0   \n1                      0  ...                0                              0   \n2                      0  ...                0                              0   \n3                      0  ...                0                              0   \n4                      0  ...                0                              0   \n\n   galaxy_UGCA 86  galaxy_UGCA 92  galaxy_Ursa Major I Dwarf (UMa I dSph)  \\\n0               0               0                                       0   \n1               0               0                                       0   \n2               0               0                                       0   \n3               0               0                                       0   \n4               0               0                                       0   \n\n   galaxy_Ursa Major II Dwarf  galaxy_Ursa Minor Dwarf  galaxy_Virgo I  \\\n0                           0                        0               0   \n1                           0                        0               0   \n2                           0                        0               0   \n3                           0                        0               0   \n4                           0                        0               1   \n\n   galaxy_Willman 1  galaxy_Wolf-Lundmark-Melotte (WLM, DDO 221)  \n0                 0                                            0  \n1                 0                                            0  \n2                 0                                            0  \n3                 0                                            0  \n4                 0                                            0  \n\n[5 rows x 171 columns]",
      "text/html": "<div>\n<style scoped>\n    .dataframe tbody tr th:only-of-type {\n        vertical-align: middle;\n    }\n\n    .dataframe tbody tr th {\n        vertical-align: top;\n    }\n\n    .dataframe thead th {\n        text-align: right;\n    }\n</style>\n<table border=\"1\" class=\"dataframe\">\n  <thead>\n    <tr style=\"text-align: right;\">\n      <th></th>\n      <th>galaxy_Andromeda I</th>\n      <th>galaxy_Andromeda II</th>\n      <th>galaxy_Andromeda III</th>\n      <th>galaxy_Andromeda IX</th>\n      <th>galaxy_Andromeda V</th>\n      <th>galaxy_Andromeda VIII</th>\n      <th>galaxy_Andromeda X</th>\n      <th>galaxy_Andromeda XI</th>\n      <th>galaxy_Andromeda XV</th>\n      <th>galaxy_Andromeda XVII</th>\n      <th>...</th>\n      <th>galaxy_UGCA 292</th>\n      <th>galaxy_UGCA 438 (ESO 407-018)</th>\n      <th>galaxy_UGCA 86</th>\n      <th>galaxy_UGCA 92</th>\n      <th>galaxy_Ursa Major I Dwarf (UMa I dSph)</th>\n      <th>galaxy_Ursa Major II Dwarf</th>\n      <th>galaxy_Ursa Minor Dwarf</th>\n      <th>galaxy_Virgo I</th>\n      <th>galaxy_Willman 1</th>\n      <th>galaxy_Wolf-Lundmark-Melotte (WLM, DDO 221)</th>\n    </tr>\n  </thead>\n  <tbody>\n    <tr>\n      <th>0</th>\n      <td>0</td>\n      <td>0</td>\n      <td>0</td>\n      <td>0</td>\n      <td>0</td>\n      <td>0</td>\n      <td>0</td>\n      <td>0</td>\n      <td>0</td>\n      <td>0</td>\n      <td>...</td>\n      <td>0</td>\n      <td>0</td>\n      <td>0</td>\n      <td>0</td>\n      <td>0</td>\n      <td>0</td>\n      <td>0</td>\n      <td>0</td>\n      <td>0</td>\n      <td>0</td>\n    </tr>\n    <tr>\n      <th>1</th>\n      <td>0</td>\n      <td>0</td>\n      <td>0</td>\n      <td>0</td>\n      <td>0</td>\n      <td>0</td>\n      <td>0</td>\n      <td>0</td>\n      <td>0</td>\n      <td>0</td>\n      <td>...</td>\n      <td>0</td>\n      <td>0</td>\n      <td>0</td>\n      <td>0</td>\n      <td>0</td>\n      <td>0</td>\n      <td>0</td>\n      <td>0</td>\n      <td>0</td>\n      <td>0</td>\n    </tr>\n    <tr>\n      <th>2</th>\n      <td>0</td>\n      <td>0</td>\n      <td>0</td>\n      <td>0</td>\n      <td>0</td>\n      <td>0</td>\n      <td>0</td>\n      <td>0</td>\n      <td>0</td>\n      <td>0</td>\n      <td>...</td>\n      <td>0</td>\n      <td>0</td>\n      <td>0</td>\n      <td>0</td>\n      <td>0</td>\n      <td>0</td>\n      <td>0</td>\n      <td>0</td>\n      <td>0</td>\n      <td>0</td>\n    </tr>\n    <tr>\n      <th>3</th>\n      <td>0</td>\n      <td>0</td>\n      <td>0</td>\n      <td>0</td>\n      <td>0</td>\n      <td>0</td>\n      <td>0</td>\n      <td>0</td>\n      <td>0</td>\n      <td>0</td>\n      <td>...</td>\n      <td>0</td>\n      <td>0</td>\n      <td>0</td>\n      <td>0</td>\n      <td>0</td>\n      <td>0</td>\n      <td>0</td>\n      <td>0</td>\n      <td>0</td>\n      <td>0</td>\n    </tr>\n    <tr>\n      <th>4</th>\n      <td>0</td>\n      <td>0</td>\n      <td>0</td>\n      <td>0</td>\n      <td>0</td>\n      <td>0</td>\n      <td>0</td>\n      <td>0</td>\n      <td>0</td>\n      <td>0</td>\n      <td>...</td>\n      <td>0</td>\n      <td>0</td>\n      <td>0</td>\n      <td>0</td>\n      <td>0</td>\n      <td>0</td>\n      <td>0</td>\n      <td>1</td>\n      <td>0</td>\n      <td>0</td>\n    </tr>\n  </tbody>\n</table>\n<p>5 rows × 171 columns</p>\n</div>"
     },
     "execution_count": 8,
     "metadata": {},
     "output_type": "execute_result"
    }
   ],
   "source": [
    "get_dummies(test_data, columns=[\"galaxy\"]).head().loc[:, \"galaxy_Andromeda I\":]"
   ],
   "metadata": {
    "collapsed": false,
    "pycharm": {
     "name": "#%%\n"
    }
   }
  },
  {
   "cell_type": "markdown",
   "source": [
    "#### Data Imputation\n",
    "\n",
    "By imputation, we refer to filling the missing values in the dataset.\n",
    "Several issues to address:\n",
    "1. Why we should fill them? Why not remove the rows that has missing values?\n",
    "<span style=\"color:blue\">Most of the machine learning algorithms can’t deal with missing values cell (NA/NAN). Removing the rows/cols that have missing values could be an option when the missing values in some rows/cols is a few and the to-be-deleted rows/cols are few comparing to what’s left. However, they are usually not deleted (why?), Some information will be lost due to the deletion which is the non-missing values, so it is better not to lose them. </span>\n",
    "<br><br>\n",
    "2. Filling it with constant value for each value, but what’s it?\n",
    "<span style=\"color:blue\">Estimating a constant value that best to represent the feature is trivially chosen to be the expected value of this feature, which is the mean. Other options is to use some other central tendency measures like the median, mode or mid-range but the best practice is to use mean or median for numerical continuous features and use mode for the discrete ones.</span>\n",
    "<br><br>\n",
    "3. (Advanced) Estimate the filling value, each row for its own.\n",
    "<span style=\"color:blue\">There’s another option of filling the missing values is to infer them from the rest of the data by regression/classification models (one for each feature). </span>\n",
    "<br><br>\n",
    "4. How to choose the imputation strategy?\n",
    "<span style=\"color:blue\">It can be treated as a hyperparamter and choose the best option using a validation set or cross-validation (to be explained).</span>\n",
    "<br><br>\n",
    "5. (Not related only to imputations) Why we fit the imputer to the training data not the concatenation of both train and test set?\n",
    "<span style=\"color:blue\">This would cause data leakage to the model. This means the model got some information from the testset which shouldn’t be considered at all before the testing step. So, the testset shouldn’t affect the preprocessing in anyway (e.g., data imputation or scaling). Same goes for validation set. </span>"
   ],
   "metadata": {
    "collapsed": false,
    "pycharm": {
     "name": "#%% md\n"
    }
   }
  },
  {
   "cell_type": "code",
   "execution_count": 9,
   "outputs": [
    {
     "data": {
      "text/plain": "   galactic year         galaxy  existence expectancy index  \\\n0        1007012        KK98 77                    0.456086   \n1        1007012  Reticulum III                    0.529835   \n2        1008016  Reticulum III                    0.560976   \n3        1007012        Segue 1                    0.565910   \n4        1013042        Virgo I                    0.588274   \n\n   existence expectancy at birth  Gross income per capita  Income Index  \\\n0                      51.562543             12236.576447      0.593325   \n1                      57.228262              3431.883825      0.675407   \n2                      59.379539             27562.914252      0.594624   \n3                      59.952390             20352.232905      0.837700   \n4                      55.428320             23959.704016      0.520579   \n\n   Expected years of education (galactic years)  \\\n0                                     10.414164   \n1                                      7.239485   \n2                                     11.774890   \n3                                     11.613621   \n4                                     10.392416   \n\n   Mean years of education (galactic years)  \\\n0                                 10.699072   \n1                                  5.311122   \n2                                  5.937797   \n3                                 10.067882   \n4                                  6.374637   \n\n   Intergalactic Development Index (IDI)  Education Index  ...  \\\n0                               0.547114         0.556267  ...   \n1                               0.497688         0.409969  ...   \n2                               0.544744         0.486167  ...   \n3                               0.691641         0.523441  ...   \n4                               0.530676         0.580418  ...   \n\n   Current health expenditure (% of GGP)  \\\n0                               8.936240   \n1                               8.936240   \n2                               8.936240   \n3                               8.936240   \n4                               7.357729   \n\n   Intergalactic Development Index (IDI), female  \\\n0                                       0.848007   \n1                                       0.848007   \n2                                       0.848007   \n3                                       0.848007   \n4                                       0.583373   \n\n   Intergalactic Development Index (IDI), male  \\\n0                                     0.862777   \n1                                     0.862777   \n2                                     0.862777   \n3                                     0.862777   \n4                                     0.600445   \n\n   Gender Development Index (GDI)  \\\n0                        1.015743   \n1                        1.015743   \n2                        1.015743   \n3                        1.015743   \n4                        0.856158   \n\n   Intergalactic Development Index (IDI), female, Rank  \\\n0                                         128.712080     \n1                                         128.712080     \n2                                         128.712080     \n3                                         128.712080     \n4                                         206.674424     \n\n   Intergalactic Development Index (IDI), male, Rank  Adjusted net savings   \\\n0                                         128.635268              20.640391   \n1                                         128.635268              20.640391   \n2                                         128.635268              20.640391   \n3                                         128.635268              20.640391   \n4                                         224.104054              20.640391   \n\n   Creature Immunodeficiency Disease prevalence, adult (% ages 15-49), total  \\\n0                                           6.036133                           \n1                                           6.036133                           \n2                                           6.036133                           \n3                                           6.036133                           \n4                                           7.687626                           \n\n   Private galaxy capital flows (% of GGP)  Gender Inequality Index (GII)  \n0                                23.274262                       0.563059  \n1                                23.274262                       0.563059  \n2                                23.274262                       0.563059  \n3                                23.274262                       0.563059  \n4                                23.274262                       0.563059  \n\n[5 rows x 79 columns]",
      "text/html": "<div>\n<style scoped>\n    .dataframe tbody tr th:only-of-type {\n        vertical-align: middle;\n    }\n\n    .dataframe tbody tr th {\n        vertical-align: top;\n    }\n\n    .dataframe thead th {\n        text-align: right;\n    }\n</style>\n<table border=\"1\" class=\"dataframe\">\n  <thead>\n    <tr style=\"text-align: right;\">\n      <th></th>\n      <th>galactic year</th>\n      <th>galaxy</th>\n      <th>existence expectancy index</th>\n      <th>existence expectancy at birth</th>\n      <th>Gross income per capita</th>\n      <th>Income Index</th>\n      <th>Expected years of education (galactic years)</th>\n      <th>Mean years of education (galactic years)</th>\n      <th>Intergalactic Development Index (IDI)</th>\n      <th>Education Index</th>\n      <th>...</th>\n      <th>Current health expenditure (% of GGP)</th>\n      <th>Intergalactic Development Index (IDI), female</th>\n      <th>Intergalactic Development Index (IDI), male</th>\n      <th>Gender Development Index (GDI)</th>\n      <th>Intergalactic Development Index (IDI), female, Rank</th>\n      <th>Intergalactic Development Index (IDI), male, Rank</th>\n      <th>Adjusted net savings</th>\n      <th>Creature Immunodeficiency Disease prevalence, adult (% ages 15-49), total</th>\n      <th>Private galaxy capital flows (% of GGP)</th>\n      <th>Gender Inequality Index (GII)</th>\n    </tr>\n  </thead>\n  <tbody>\n    <tr>\n      <th>0</th>\n      <td>1007012</td>\n      <td>KK98 77</td>\n      <td>0.456086</td>\n      <td>51.562543</td>\n      <td>12236.576447</td>\n      <td>0.593325</td>\n      <td>10.414164</td>\n      <td>10.699072</td>\n      <td>0.547114</td>\n      <td>0.556267</td>\n      <td>...</td>\n      <td>8.936240</td>\n      <td>0.848007</td>\n      <td>0.862777</td>\n      <td>1.015743</td>\n      <td>128.712080</td>\n      <td>128.635268</td>\n      <td>20.640391</td>\n      <td>6.036133</td>\n      <td>23.274262</td>\n      <td>0.563059</td>\n    </tr>\n    <tr>\n      <th>1</th>\n      <td>1007012</td>\n      <td>Reticulum III</td>\n      <td>0.529835</td>\n      <td>57.228262</td>\n      <td>3431.883825</td>\n      <td>0.675407</td>\n      <td>7.239485</td>\n      <td>5.311122</td>\n      <td>0.497688</td>\n      <td>0.409969</td>\n      <td>...</td>\n      <td>8.936240</td>\n      <td>0.848007</td>\n      <td>0.862777</td>\n      <td>1.015743</td>\n      <td>128.712080</td>\n      <td>128.635268</td>\n      <td>20.640391</td>\n      <td>6.036133</td>\n      <td>23.274262</td>\n      <td>0.563059</td>\n    </tr>\n    <tr>\n      <th>2</th>\n      <td>1008016</td>\n      <td>Reticulum III</td>\n      <td>0.560976</td>\n      <td>59.379539</td>\n      <td>27562.914252</td>\n      <td>0.594624</td>\n      <td>11.774890</td>\n      <td>5.937797</td>\n      <td>0.544744</td>\n      <td>0.486167</td>\n      <td>...</td>\n      <td>8.936240</td>\n      <td>0.848007</td>\n      <td>0.862777</td>\n      <td>1.015743</td>\n      <td>128.712080</td>\n      <td>128.635268</td>\n      <td>20.640391</td>\n      <td>6.036133</td>\n      <td>23.274262</td>\n      <td>0.563059</td>\n    </tr>\n    <tr>\n      <th>3</th>\n      <td>1007012</td>\n      <td>Segue 1</td>\n      <td>0.565910</td>\n      <td>59.952390</td>\n      <td>20352.232905</td>\n      <td>0.837700</td>\n      <td>11.613621</td>\n      <td>10.067882</td>\n      <td>0.691641</td>\n      <td>0.523441</td>\n      <td>...</td>\n      <td>8.936240</td>\n      <td>0.848007</td>\n      <td>0.862777</td>\n      <td>1.015743</td>\n      <td>128.712080</td>\n      <td>128.635268</td>\n      <td>20.640391</td>\n      <td>6.036133</td>\n      <td>23.274262</td>\n      <td>0.563059</td>\n    </tr>\n    <tr>\n      <th>4</th>\n      <td>1013042</td>\n      <td>Virgo I</td>\n      <td>0.588274</td>\n      <td>55.428320</td>\n      <td>23959.704016</td>\n      <td>0.520579</td>\n      <td>10.392416</td>\n      <td>6.374637</td>\n      <td>0.530676</td>\n      <td>0.580418</td>\n      <td>...</td>\n      <td>7.357729</td>\n      <td>0.583373</td>\n      <td>0.600445</td>\n      <td>0.856158</td>\n      <td>206.674424</td>\n      <td>224.104054</td>\n      <td>20.640391</td>\n      <td>7.687626</td>\n      <td>23.274262</td>\n      <td>0.563059</td>\n    </tr>\n  </tbody>\n</table>\n<p>5 rows × 79 columns</p>\n</div>"
     },
     "execution_count": 9,
     "metadata": {},
     "output_type": "execute_result"
    }
   ],
   "source": [
    "partially_filled = test_data.fillna(test_data.mean(numeric_only=True))\n",
    "partially_filled.head()"
   ],
   "metadata": {
    "collapsed": false,
    "pycharm": {
     "name": "#%%\n"
    }
   }
  },
  {
   "cell_type": "code",
   "execution_count": 10,
   "outputs": [
    {
     "data": {
      "text/plain": "                      0                                               50  \\\nname       galactic year  Mean years of education, male (galactic years)   \nNAN count              0                                               0   \n\n                                                        57  \\\nname       Rural population with access to electricity (%)   \nNAN count                                                0   \n\n                                                          56  \\\nname       Estimated gross galactic income per capita, fe...   \nNAN count                                                  0   \n\n                                                         55  \\\nname       Estimated gross galactic income per capita, male   \nNAN count                                                 0   \n\n                                                          54  \\\nname       Renewable energy consumption (% of total final...   \nNAN count                                                  0   \n\n                                                          53  \\\nname       Maternal mortality ratio (deaths per 100,000 l...   \nNAN count                                                  0   \n\n                                                          52  \\\nname       Expected years of education, male (galactic ye...   \nNAN count                                                  0   \n\n                                                          51  \\\nname       Expected years of education, female (galactic ...   \nNAN count                                                  0   \n\n                                                         49  ...  \\\nname       Mean years of education, female (galactic years)  ...   \nNAN count                                                 0  ...   \n\n                                                          29  \\\nname       Employment in agriculture (% of total employment)   \nNAN count                                                  0   \n\n                                                        21  \\\nname       Life expectancy at birth, male (galactic years)   \nNAN count                                                0   \n\n                                                28  \\\nname       Unemployment, total (% of labour force)   \nNAN count                                        0   \n\n                                                      27  \\\nname       Vulnerable employment (% of total employment)   \nNAN count                                              0   \n\n                                                       26  \\\nname       Total unemployment rate (female to male ratio)   \nNAN count                                               0   \n\n                                                          25  \\\nname       Adolescent birth rate (births per 1,000 female...   \nNAN count                                                  0   \n\n                                                          24  \\\nname       Young age (0-14) dependency ratio (per 100 cre...   \nNAN count                                                  0   \n\n                                           23  \\\nname       Population, under age 5 (millions)   \nNAN count                                   0   \n\n                                                          22  \\\nname       Life expectancy at birth, female (galactic years)   \nNAN count                                                  0   \n\n                                      78  \nname       Gender Inequality Index (GII)  \nNAN count                              0  \n\n[2 rows x 79 columns]",
      "text/html": "<div>\n<style scoped>\n    .dataframe tbody tr th:only-of-type {\n        vertical-align: middle;\n    }\n\n    .dataframe tbody tr th {\n        vertical-align: top;\n    }\n\n    .dataframe thead th {\n        text-align: right;\n    }\n</style>\n<table border=\"1\" class=\"dataframe\">\n  <thead>\n    <tr style=\"text-align: right;\">\n      <th></th>\n      <th>0</th>\n      <th>50</th>\n      <th>57</th>\n      <th>56</th>\n      <th>55</th>\n      <th>54</th>\n      <th>53</th>\n      <th>52</th>\n      <th>51</th>\n      <th>49</th>\n      <th>...</th>\n      <th>29</th>\n      <th>21</th>\n      <th>28</th>\n      <th>27</th>\n      <th>26</th>\n      <th>25</th>\n      <th>24</th>\n      <th>23</th>\n      <th>22</th>\n      <th>78</th>\n    </tr>\n  </thead>\n  <tbody>\n    <tr>\n      <th>name</th>\n      <td>galactic year</td>\n      <td>Mean years of education, male (galactic years)</td>\n      <td>Rural population with access to electricity (%)</td>\n      <td>Estimated gross galactic income per capita, fe...</td>\n      <td>Estimated gross galactic income per capita, male</td>\n      <td>Renewable energy consumption (% of total final...</td>\n      <td>Maternal mortality ratio (deaths per 100,000 l...</td>\n      <td>Expected years of education, male (galactic ye...</td>\n      <td>Expected years of education, female (galactic ...</td>\n      <td>Mean years of education, female (galactic years)</td>\n      <td>...</td>\n      <td>Employment in agriculture (% of total employment)</td>\n      <td>Life expectancy at birth, male (galactic years)</td>\n      <td>Unemployment, total (% of labour force)</td>\n      <td>Vulnerable employment (% of total employment)</td>\n      <td>Total unemployment rate (female to male ratio)</td>\n      <td>Adolescent birth rate (births per 1,000 female...</td>\n      <td>Young age (0-14) dependency ratio (per 100 cre...</td>\n      <td>Population, under age 5 (millions)</td>\n      <td>Life expectancy at birth, female (galactic years)</td>\n      <td>Gender Inequality Index (GII)</td>\n    </tr>\n    <tr>\n      <th>NAN count</th>\n      <td>0</td>\n      <td>0</td>\n      <td>0</td>\n      <td>0</td>\n      <td>0</td>\n      <td>0</td>\n      <td>0</td>\n      <td>0</td>\n      <td>0</td>\n      <td>0</td>\n      <td>...</td>\n      <td>0</td>\n      <td>0</td>\n      <td>0</td>\n      <td>0</td>\n      <td>0</td>\n      <td>0</td>\n      <td>0</td>\n      <td>0</td>\n      <td>0</td>\n      <td>0</td>\n    </tr>\n  </tbody>\n</table>\n<p>2 rows × 79 columns</p>\n</div>"
     },
     "execution_count": 10,
     "metadata": {},
     "output_type": "execute_result"
    }
   ],
   "source": [
    "table = []\n",
    "for name in partially_filled.columns:\n",
    "    table.append({\"name\": name, \"NAN count\": partially_filled[name].isna().sum()})\n",
    "nan_count = DataFrame(table).sort_values(by=\"NAN count\", ascending=False)\n",
    "nan_count.T"
   ],
   "metadata": {
    "collapsed": false,
    "pycharm": {
     "name": "#%%\n"
    }
   }
  },
  {
   "cell_type": "code",
   "execution_count": 11,
   "outputs": [],
   "source": [
    "assert not nan_count[\"NAN count\"].any()"
   ],
   "metadata": {
    "collapsed": false,
    "pycharm": {
     "name": "#%%\n"
    }
   }
  },
  {
   "cell_type": "code",
   "execution_count": 12,
   "outputs": [
    {
     "data": {
      "text/plain": "<NA>"
     },
     "execution_count": 12,
     "metadata": {},
     "output_type": "execute_result"
    }
   ],
   "source": [
    "test_data.loc[101:110, \"galaxy\"] = NA\n",
    "test_data.loc[103, \"galaxy\"]"
   ],
   "metadata": {
    "collapsed": false,
    "pycharm": {
     "name": "#%%\n"
    }
   }
  },
  {
   "cell_type": "code",
   "execution_count": 13,
   "outputs": [
    {
     "name": "stdout",
     "output_type": "stream",
     "text": [
      "Before: 10\n",
      "After: 10\n"
     ]
    }
   ],
   "source": [
    "print(\"Before\", end=\": \"); print(test_data.loc[:, \"galaxy\"].isna().sum())\n",
    "mode = test_data.loc[:, \"galaxy\"].mode()\n",
    "test_data.loc[:, \"galaxy\"] = test_data.loc[:, \"galaxy\"].fillna(mode)\n",
    "print(\"After\", end=\": \"); print(test_data.loc[:, \"galaxy\"].isna().sum())"
   ],
   "metadata": {
    "collapsed": false,
    "pycharm": {
     "name": "#%%\n"
    }
   }
  },
  {
   "cell_type": "markdown",
   "source": [
    "#### Feature Scaling\n",
    "\n",
    "1. Why we need to make all the features have same range of values?\n",
    "<span style=\"color:blue\">This has something to do with some machine learning algorithms. First, gradient-related algorithms (e.g., linear regression, logisitic regression, deep learning algorithms): feature scaling is important for the congergence of the algorithms as the gradient in one direction/feature could need more/long steps than the others and the scaling solves this issue and make the training stable and relatively faster.</span>\n",
    "<br></br>\n",
    "<span style=\"color:blue\">Second, distance related algorithms (e.g., KNN, K-means). These algorithms depends on the distance between samples both in training and testing. Having features with different ranges would affect the distance measure and produce biased prediciton to the features with larger range. for example: having two features (length in KM [10: 10000] and temperature in C° [20: 40]). The distance value will be much affected by the length feature.</span>\n",
    "<br></br>\n",
    "2. What are the different strategies to scale the features?\n",
    "* <span style=\"color:blue\">Min-Max scaling: transform all features to fall in this range: [0, 1].</span>\n",
    "$$x_i = \\frac{x_i - min(\\mathbf{x})}{max(\\mathbf{x}) - min(\\mathbf{x})}\\\\$$\n",
    "* <span style=\"color:blue; padding-left:50em\">Standard scaling: transform all features to have mean = 0 and standard deviation = 1. And by assuming that all features follow normal distribution, we can say that standard scaling turns featrues to be $\\sim N(0,1)$.</span>\n",
    "$$x_i = \\frac{x_i - mean(\\mathbf{x})}{stdev(\\mathbf{x})}\\\\$$\n",
    "* <span style=\"color:blue\">Robust scaling: robust to the outliers that may affect the previous methods in calculating their mean, stdev, min, or max. It uses the interquartile range to scale the features according to it.</span>\n",
    "$$x_i = \\frac{x_i - Q_1(\\mathbf{x})}{Q_3(\\mathbf{x}) - Q_1(\\mathbf{x})}\\\\$$\n",
    "3. How to choose the strategy?\n",
    "<span style=\"color:blue\">Same as in imputation strategy, using a validation set or using cross-validation.</span>"
   ],
   "metadata": {
    "collapsed": false,
    "pycharm": {
     "name": "#%% md\n"
    }
   }
  },
  {
   "cell_type": "code",
   "execution_count": 13,
   "outputs": [],
   "source": [],
   "metadata": {
    "collapsed": false,
    "pycharm": {
     "name": "#%%\n"
    }
   }
  },
  {
   "cell_type": "markdown",
   "source": [
    "#### DataLoaders\n",
    "The need for DataLoaders stems from having to deal with large datasets that would otherwise take up large memory space on our computer, memory that could be used to speed up computation is instead being used to hold dormant data.\n",
    "\n",
    "Large datasets are increasingly becoming part of our lives, as we are able to harness an ever-growing quantity of data. As such, we need ways to handle these dat in our machine learning model efficiently without wasting our resources.\n",
    "\n",
    "The batch size defines the number of samples that will be propagated through the network."
   ],
   "metadata": {
    "collapsed": false,
    "pycharm": {
     "name": "#%% md\n"
    }
   }
  },
  {
   "cell_type": "markdown",
   "source": [
    "#### Batch Size\n",
    "\n",
    "For instance, let's say you have 1_050 training samples and you want to set up a batch_size equal to 100. The algorithm takes the first 100 samples (from 1st to 100th) from the training dataset and trains the network. Next, it takes the second 100 samples (from 101st to 200th) and trains the network again. We can keep doing this procedure until we have propagated all samples through of the network. Problem might happen with the last set of samples. For example, we have 1050 samples which is not divisible by 100 without remainder. The simplest solution is just to get the final 50 samples and train the network.\n",
    "\n",
    "Advantages of using a batch size < number of all samples:\n",
    "* It requires less memory. Since you train the network using fewer samples, the overall training procedure requires less memory.\n",
    "* Typically, networks train faster with mini-batches. That's because we update the weights after each propagation.\n",
    "\n",
    "Disadvantages of using a batch size < number of all samples:\n",
    "* The smaller the batch the less accurate the estimate of the gradient will be."
   ],
   "metadata": {
    "collapsed": false,
    "pycharm": {
     "name": "#%% md\n"
    }
   }
  },
  {
   "cell_type": "markdown",
   "source": [
    "#### Epoch\n",
    "* one epoch = one forward pass and one backward pass of all the training examples\n",
    "* batch size = the number of training examples in one forward/backward pass. The higher the batch size, the more memory space you'll need and the faster the convergence of model.\n",
    "* number of iterations = number of passes, each pass using [batch size] number of examples. To be clear, one pass = one forward pass + one backward pass (we do not count the forward pass and backward pass as two different passes).\n",
    "\n",
    "Example: if you have 1000 training examples, and your batch size is 500, then it will take 2 iterations to complete 1 epoch."
   ],
   "metadata": {
    "collapsed": false,
    "pycharm": {
     "name": "#%% md\n"
    }
   }
  },
  {
   "cell_type": "markdown",
   "source": [
    "#### Optimal Batch Size\n",
    "Optimizing the exact size of the mini-batch you should use is generally left to trial and error. Let's take the two extremes, on one side each gradient descent step is using the entire dataset. You're computing the gradients for every sample. In this case you know exactly the best directly towards a local minimum. You don't waste time going the wrong direction. So in terms of numbers gradient descent steps, you'll get there in the fewest.\n",
    "\n",
    "Of course computing the gradient over the entire dataset is expensive. So now we go to the other extreme. A batch size of just 1 sample. In this case the gradient of that sample may take you completely the wrong direction. But hey, the cost of computing the one gradient was quite trivial. As you take steps with regard to just one sample you \"wander\" around a bit, but on the average you head towards an equally reasonable local minimum as in full batch gradient descent.\n",
    "\n",
    "This might be a moment to point out that I have seen some literature suggesting that perhaps this bouncing around that 1-sample stochastic gradient descent might help you bounce out of a local minima that full batch mode wouldn't avoid, but that's debatable. Some other good answers here address this question more directly than I have.\n",
    "\n",
    "In terms of computational power, while the single-sample stochastic GD process takes many many more iterations, you end up getting there for less cost than the full batch mode, \"typically.\"\n",
    "\n",
    "We might realize that modern BLAS libraries make computing vector math quite efficient, so computing 10 or 100 samples at once, presuming you've vectorized your code properly, will be barely more work than computing 1 sample (you gain memory call efficiencies as well as computational tricks built into most efficient math libraries). And averaging over a batch of 10, 100, 1000 samples is going to produce a gradient that is a more reasonable approximation of the true, full batch-mode gradient. So our steps are now more accurate, meaning we need fewer of them to converge, and at a cost that is only marginally higher than single-sample GD."
   ],
   "metadata": {
    "collapsed": false,
    "pycharm": {
     "name": "#%% md\n"
    }
   }
  },
  {
   "cell_type": "code",
   "execution_count": 14,
   "outputs": [],
   "source": [
    "class TitanicDataset(Dataset):\n",
    "    def __init__(self, path: str):\n",
    "        self.data = read_csv(path)\n",
    "        self.classes = dict()\n",
    "\n",
    "    def __len__(self):\n",
    "        return self.data.index.stop\n",
    "\n",
    "    def one_hot_encode(self, data: Series):\n",
    "        name = data.name\n",
    "        types = data.unique()\n",
    "\n",
    "    def row_transform(self, row: Series):\n",
    "        pass\n",
    "\n",
    "    def __getitem__(self, idx):\n",
    "        # Should return a tensor tuple: (input, output)\n",
    "        return self.row_transform(\n",
    "            self.data.iloc[idx]\n",
    "        )"
   ],
   "metadata": {
    "collapsed": false,
    "pycharm": {
     "name": "#%%\n"
    }
   }
  },
  {
   "cell_type": "code",
   "execution_count": 15,
   "outputs": [],
   "source": [
    "test_data = TitanicDataset(\"data/test.csv\")\n",
    "train_data = TitanicDataset(\"data/train.csv\")"
   ],
   "metadata": {
    "collapsed": false,
    "pycharm": {
     "name": "#%%\n"
    }
   }
  }
 ],
 "metadata": {
  "kernelspec": {
   "display_name": "Python 3",
   "language": "python",
   "name": "python3"
  },
  "language_info": {
   "codemirror_mode": {
    "name": "ipython",
    "version": 2
   },
   "file_extension": ".py",
   "mimetype": "text/x-python",
   "name": "python",
   "nbconvert_exporter": "python",
   "pygments_lexer": "ipython2",
   "version": "2.7.6"
  }
 },
 "nbformat": 4,
 "nbformat_minor": 0
}