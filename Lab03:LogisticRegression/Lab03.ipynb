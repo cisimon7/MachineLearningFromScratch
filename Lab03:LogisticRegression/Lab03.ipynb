{
 "cells": [
  {
   "cell_type": "markdown",
   "source": [
    "# Lab-03: Logistic Regression"
   ],
   "metadata": {
    "collapsed": false,
    "pycharm": {
     "name": "#%% md\n"
    }
   }
  },
  {
   "cell_type": "markdown",
   "source": [
    "### Imports"
   ],
   "metadata": {
    "collapsed": false,
    "pycharm": {
     "name": "#%% md\n"
    }
   }
  },
  {
   "cell_type": "code",
   "execution_count": 1,
   "metadata": {
    "collapsed": true,
    "pycharm": {
     "name": "#%%\n"
    }
   },
   "outputs": [],
   "source": [
    "from IPython.display import clear_output\n",
    "!pip3 install ../Libs/plotting_funcs-0.0.1-py3-none-any.whl  ##--force-reinstall\n",
    "clear_output()"
   ]
  },
  {
   "cell_type": "code",
   "execution_count": 2,
   "outputs": [],
   "source": [
    "import numpy as np\n",
    "import pandas as pd\n",
    "from math import ceil, floor\n",
    "from typing import Optional, Dict, Any\n",
    "from plotting_funcs.graphs import show, list_plot, line_plot, show_multi, confusion_graph"
   ],
   "metadata": {
    "collapsed": false,
    "pycharm": {
     "name": "#%%\n"
    }
   }
  },
  {
   "cell_type": "code",
   "execution_count": 3,
   "outputs": [],
   "source": [
    "import torch\n",
    "from torch import nn\n",
    "from tqdm import tqdm, trange\n",
    "from functools import partial\n",
    "from torch.utils.data import Dataset, DataLoader"
   ],
   "metadata": {
    "collapsed": false,
    "pycharm": {
     "name": "#%%\n"
    }
   }
  },
  {
   "cell_type": "code",
   "execution_count": 4,
   "outputs": [],
   "source": [
    "from ray import tune\n",
    "from ray.tune import CLIReporter\n",
    "from ray.tune.schedulers import ASHAScheduler"
   ],
   "metadata": {
    "collapsed": false,
    "pycharm": {
     "name": "#%%\n"
    }
   }
  },
  {
   "cell_type": "markdown",
   "source": [
    "### Data Exploration and Cleaning"
   ],
   "metadata": {
    "collapsed": false,
    "pycharm": {
     "name": "#%% md\n"
    }
   }
  },
  {
   "cell_type": "code",
   "execution_count": 5,
   "outputs": [
    {
     "data": {
      "text/plain": "   survived  pclass                                             name     sex  \\\n0         1       1                    Allen, Miss. Elisabeth Walton  female   \n1         1       1                   Allison, Master. Hudson Trevor    male   \n2         0       1                     Allison, Miss. Helen Loraine  female   \n3         0       1             Allison, Mr. Hudson Joshua Creighton    male   \n4         0       1  Allison, Mrs. Hudson J C (Bessie Waldo Daniels)  female   \n\n     age  sibsp  parch      fare embarked  \n0  29.00      0      0  211.3375        S  \n1   0.92      1      2  151.5500        S  \n2   2.00      1      2  151.5500        S  \n3  30.00      1      2  151.5500        S  \n4  25.00      1      2  151.5500        S  ",
      "text/html": "<div>\n<style scoped>\n    .dataframe tbody tr th:only-of-type {\n        vertical-align: middle;\n    }\n\n    .dataframe tbody tr th {\n        vertical-align: top;\n    }\n\n    .dataframe thead th {\n        text-align: right;\n    }\n</style>\n<table border=\"1\" class=\"dataframe\">\n  <thead>\n    <tr style=\"text-align: right;\">\n      <th></th>\n      <th>survived</th>\n      <th>pclass</th>\n      <th>name</th>\n      <th>sex</th>\n      <th>age</th>\n      <th>sibsp</th>\n      <th>parch</th>\n      <th>fare</th>\n      <th>embarked</th>\n    </tr>\n  </thead>\n  <tbody>\n    <tr>\n      <th>0</th>\n      <td>1</td>\n      <td>1</td>\n      <td>Allen, Miss. Elisabeth Walton</td>\n      <td>female</td>\n      <td>29.00</td>\n      <td>0</td>\n      <td>0</td>\n      <td>211.3375</td>\n      <td>S</td>\n    </tr>\n    <tr>\n      <th>1</th>\n      <td>1</td>\n      <td>1</td>\n      <td>Allison, Master. Hudson Trevor</td>\n      <td>male</td>\n      <td>0.92</td>\n      <td>1</td>\n      <td>2</td>\n      <td>151.5500</td>\n      <td>S</td>\n    </tr>\n    <tr>\n      <th>2</th>\n      <td>0</td>\n      <td>1</td>\n      <td>Allison, Miss. Helen Loraine</td>\n      <td>female</td>\n      <td>2.00</td>\n      <td>1</td>\n      <td>2</td>\n      <td>151.5500</td>\n      <td>S</td>\n    </tr>\n    <tr>\n      <th>3</th>\n      <td>0</td>\n      <td>1</td>\n      <td>Allison, Mr. Hudson Joshua Creighton</td>\n      <td>male</td>\n      <td>30.00</td>\n      <td>1</td>\n      <td>2</td>\n      <td>151.5500</td>\n      <td>S</td>\n    </tr>\n    <tr>\n      <th>4</th>\n      <td>0</td>\n      <td>1</td>\n      <td>Allison, Mrs. Hudson J C (Bessie Waldo Daniels)</td>\n      <td>female</td>\n      <td>25.00</td>\n      <td>1</td>\n      <td>2</td>\n      <td>151.5500</td>\n      <td>S</td>\n    </tr>\n  </tbody>\n</table>\n</div>"
     },
     "execution_count": 5,
     "metadata": {},
     "output_type": "execute_result"
    }
   ],
   "source": [
    "titanic_data = pd.read_csv(\"data/titanic.csv\")\n",
    "titanic_data.head()"
   ],
   "metadata": {
    "collapsed": false,
    "pycharm": {
     "name": "#%%\n"
    }
   }
  },
  {
   "cell_type": "code",
   "execution_count": 6,
   "outputs": [
    {
     "data": {
      "text/plain": "  survived pclass    name     sex      age  sibsp  parch     fare embarked\n0    int64  int64  object  object  float64  int64  int64  float64   object",
      "text/html": "<div>\n<style scoped>\n    .dataframe tbody tr th:only-of-type {\n        vertical-align: middle;\n    }\n\n    .dataframe tbody tr th {\n        vertical-align: top;\n    }\n\n    .dataframe thead th {\n        text-align: right;\n    }\n</style>\n<table border=\"1\" class=\"dataframe\">\n  <thead>\n    <tr style=\"text-align: right;\">\n      <th></th>\n      <th>survived</th>\n      <th>pclass</th>\n      <th>name</th>\n      <th>sex</th>\n      <th>age</th>\n      <th>sibsp</th>\n      <th>parch</th>\n      <th>fare</th>\n      <th>embarked</th>\n    </tr>\n  </thead>\n  <tbody>\n    <tr>\n      <th>0</th>\n      <td>int64</td>\n      <td>int64</td>\n      <td>object</td>\n      <td>object</td>\n      <td>float64</td>\n      <td>int64</td>\n      <td>int64</td>\n      <td>float64</td>\n      <td>object</td>\n    </tr>\n  </tbody>\n</table>\n</div>"
     },
     "execution_count": 6,
     "metadata": {},
     "output_type": "execute_result"
    }
   ],
   "source": [
    "# Check types to be sure they can be used in model\n",
    "titanic_data.dtypes.to_frame().T"
   ],
   "metadata": {
    "collapsed": false,
    "pycharm": {
     "name": "#%%\n"
    }
   }
  },
  {
   "cell_type": "code",
   "execution_count": 7,
   "outputs": [
    {
     "name": "stdout",
     "output_type": "stream",
     "text": [
      "NaN values present: 266.0\n"
     ]
    },
    {
     "data": {
      "text/plain": "266.0"
     },
     "execution_count": 7,
     "metadata": {},
     "output_type": "execute_result"
    }
   ],
   "source": [
    "# Check for empty cells count\n",
    "def check_nan(data: pd.DataFrame):\n",
    "    count = data.where(titanic_data.isna(), 0).where(data.notna(), 1).to_numpy().sum()\n",
    "    print(f\"NaN values present: {count}\")\n",
    "    return count\n",
    "\n",
    "\n",
    "check_nan(titanic_data)"
   ],
   "metadata": {
    "collapsed": false,
    "pycharm": {
     "name": "#%%\n"
    }
   }
  },
  {
   "cell_type": "code",
   "execution_count": 8,
   "outputs": [],
   "source": [
    "# Fill NaN types with most frequent\n",
    "titanic_data.replace(np.nan, titanic_data.mode(numeric_only=False).iloc[0], inplace=True)"
   ],
   "metadata": {
    "collapsed": false,
    "pycharm": {
     "name": "#%%\n"
    }
   }
  },
  {
   "cell_type": "code",
   "execution_count": 9,
   "outputs": [
    {
     "name": "stdout",
     "output_type": "stream",
     "text": [
      "NaN values present: 0.0\n"
     ]
    }
   ],
   "source": [
    "assert check_nan(titanic_data) == 0, \"Data contains NaN values\""
   ],
   "metadata": {
    "collapsed": false,
    "pycharm": {
     "name": "#%%\n"
    }
   }
  },
  {
   "cell_type": "code",
   "execution_count": 10,
   "outputs": [],
   "source": [
    "titanic_data.drop([\"name\"], axis=1, inplace=True)  # Name does not affect survival probability\n",
    "\n",
    "# one-hot-encoding for the columns [sex, embarked]\n",
    "titanic_data = pd.get_dummies(titanic_data, columns=[\"sex\", \"embarked\"])"
   ],
   "metadata": {
    "collapsed": false,
    "pycharm": {
     "name": "#%%\n"
    }
   }
  },
  {
   "cell_type": "code",
   "execution_count": 11,
   "outputs": [
    {
     "data": {
      "text/plain": "   survived  pclass    age  sibsp  parch      fare  sex_female  sex_male  \\\n0         1       1  29.00      0      0  211.3375           1         0   \n1         1       1   0.92      1      2  151.5500           0         1   \n2         0       1   2.00      1      2  151.5500           1         0   \n3         0       1  30.00      1      2  151.5500           0         1   \n4         0       1  25.00      1      2  151.5500           1         0   \n\n   embarked_C  embarked_Q  embarked_S  \n0           0           0           1  \n1           0           0           1  \n2           0           0           1  \n3           0           0           1  \n4           0           0           1  ",
      "text/html": "<div>\n<style scoped>\n    .dataframe tbody tr th:only-of-type {\n        vertical-align: middle;\n    }\n\n    .dataframe tbody tr th {\n        vertical-align: top;\n    }\n\n    .dataframe thead th {\n        text-align: right;\n    }\n</style>\n<table border=\"1\" class=\"dataframe\">\n  <thead>\n    <tr style=\"text-align: right;\">\n      <th></th>\n      <th>survived</th>\n      <th>pclass</th>\n      <th>age</th>\n      <th>sibsp</th>\n      <th>parch</th>\n      <th>fare</th>\n      <th>sex_female</th>\n      <th>sex_male</th>\n      <th>embarked_C</th>\n      <th>embarked_Q</th>\n      <th>embarked_S</th>\n    </tr>\n  </thead>\n  <tbody>\n    <tr>\n      <th>0</th>\n      <td>1</td>\n      <td>1</td>\n      <td>29.00</td>\n      <td>0</td>\n      <td>0</td>\n      <td>211.3375</td>\n      <td>1</td>\n      <td>0</td>\n      <td>0</td>\n      <td>0</td>\n      <td>1</td>\n    </tr>\n    <tr>\n      <th>1</th>\n      <td>1</td>\n      <td>1</td>\n      <td>0.92</td>\n      <td>1</td>\n      <td>2</td>\n      <td>151.5500</td>\n      <td>0</td>\n      <td>1</td>\n      <td>0</td>\n      <td>0</td>\n      <td>1</td>\n    </tr>\n    <tr>\n      <th>2</th>\n      <td>0</td>\n      <td>1</td>\n      <td>2.00</td>\n      <td>1</td>\n      <td>2</td>\n      <td>151.5500</td>\n      <td>1</td>\n      <td>0</td>\n      <td>0</td>\n      <td>0</td>\n      <td>1</td>\n    </tr>\n    <tr>\n      <th>3</th>\n      <td>0</td>\n      <td>1</td>\n      <td>30.00</td>\n      <td>1</td>\n      <td>2</td>\n      <td>151.5500</td>\n      <td>0</td>\n      <td>1</td>\n      <td>0</td>\n      <td>0</td>\n      <td>1</td>\n    </tr>\n    <tr>\n      <th>4</th>\n      <td>0</td>\n      <td>1</td>\n      <td>25.00</td>\n      <td>1</td>\n      <td>2</td>\n      <td>151.5500</td>\n      <td>1</td>\n      <td>0</td>\n      <td>0</td>\n      <td>0</td>\n      <td>1</td>\n    </tr>\n  </tbody>\n</table>\n</div>"
     },
     "execution_count": 11,
     "metadata": {},
     "output_type": "execute_result"
    }
   ],
   "source": [
    "titanic_data.head()"
   ],
   "metadata": {
    "collapsed": false,
    "pycharm": {
     "name": "#%%\n"
    }
   }
  },
  {
   "cell_type": "code",
   "execution_count": 12,
   "outputs": [
    {
     "data": {
      "text/plain": "  survived pclass      age  sibsp  parch     fare sex_female sex_male  \\\n0    int64  int64  float64  int64  int64  float64      uint8    uint8   \n\n  embarked_C embarked_Q embarked_S  \n0      uint8      uint8      uint8  ",
      "text/html": "<div>\n<style scoped>\n    .dataframe tbody tr th:only-of-type {\n        vertical-align: middle;\n    }\n\n    .dataframe tbody tr th {\n        vertical-align: top;\n    }\n\n    .dataframe thead th {\n        text-align: right;\n    }\n</style>\n<table border=\"1\" class=\"dataframe\">\n  <thead>\n    <tr style=\"text-align: right;\">\n      <th></th>\n      <th>survived</th>\n      <th>pclass</th>\n      <th>age</th>\n      <th>sibsp</th>\n      <th>parch</th>\n      <th>fare</th>\n      <th>sex_female</th>\n      <th>sex_male</th>\n      <th>embarked_C</th>\n      <th>embarked_Q</th>\n      <th>embarked_S</th>\n    </tr>\n  </thead>\n  <tbody>\n    <tr>\n      <th>0</th>\n      <td>int64</td>\n      <td>int64</td>\n      <td>float64</td>\n      <td>int64</td>\n      <td>int64</td>\n      <td>float64</td>\n      <td>uint8</td>\n      <td>uint8</td>\n      <td>uint8</td>\n      <td>uint8</td>\n      <td>uint8</td>\n    </tr>\n  </tbody>\n</table>\n</div>"
     },
     "execution_count": 12,
     "metadata": {},
     "output_type": "execute_result"
    }
   ],
   "source": [
    "# Confirm types\n",
    "titanic_data.dtypes.to_frame().T"
   ],
   "metadata": {
    "collapsed": false,
    "pycharm": {
     "name": "#%%\n"
    }
   }
  },
  {
   "cell_type": "code",
   "execution_count": 13,
   "outputs": [],
   "source": [
    "train_data = titanic_data.sample(frac=0.8)\n",
    "test_data = titanic_data.drop(train_data.index)"
   ],
   "metadata": {
    "collapsed": false,
    "pycharm": {
     "name": "#%%\n"
    }
   }
  },
  {
   "cell_type": "code",
   "execution_count": 14,
   "outputs": [],
   "source": [
    "class TitanicDataset(Dataset):\n",
    "    def __init__(self, data: pd.DataFrame):\n",
    "        self.data = (data - data.min()) / (data.max() - data.min())  # Scaling data\n",
    "\n",
    "    def __len__(self):\n",
    "        return self.data.shape[0]\n",
    "\n",
    "    def __getitem__(self, idx):\n",
    "        input_ = torch.from_numpy(self.data.iloc[idx, 1:].to_numpy()).float()\n",
    "        output_ = torch.tensor(self.data.iloc[idx, 0]).unsqueeze(0).float()\n",
    "        return input_, output_"
   ],
   "metadata": {
    "collapsed": false,
    "pycharm": {
     "name": "#%%\n"
    }
   }
  },
  {
   "cell_type": "code",
   "execution_count": 15,
   "outputs": [],
   "source": [
    "train_dataset = TitanicDataset(train_data)\n",
    "test_dataset = TitanicDataset(test_data)"
   ],
   "metadata": {
    "collapsed": false,
    "pycharm": {
     "name": "#%%\n"
    }
   }
  },
  {
   "cell_type": "code",
   "execution_count": 16,
   "outputs": [],
   "source": [
    "train_subset, val_subset = torch.utils.data.random_split(\n",
    "    train_dataset,\n",
    "    [ceil(len(train_dataset) * 0.8), floor(train_dataset.__len__() * 0.2)]\n",
    ")"
   ],
   "metadata": {
    "collapsed": false,
    "pycharm": {
     "name": "#%%\n"
    }
   }
  },
  {
   "cell_type": "code",
   "execution_count": 17,
   "outputs": [],
   "source": [
    "train_dataloader = DataLoader(train_dataset, batch_size=100, shuffle=True, num_workers=0)\n",
    "test_dataloader = DataLoader(test_dataset, batch_size=100, shuffle=True, num_workers=0)"
   ],
   "metadata": {
    "collapsed": false,
    "pycharm": {
     "name": "#%%\n"
    }
   }
  },
  {
   "cell_type": "code",
   "execution_count": 18,
   "outputs": [],
   "source": [
    "def precision(prediction: torch.Tensor, actual: torch.Tensor, threshold=0.5):\n",
    "    with torch.no_grad():\n",
    "        n_samples = prediction.size(dim=0)  # total number of samples\n",
    "        prediction = torch.where(prediction > threshold, torch.tensor(1), torch.tensor(0))\n",
    "        n_true_pos = torch.where((actual - prediction) == 0)[0].size(dim=0)  # number of true positives\n",
    "        return n_true_pos / n_samples\n",
    "\n",
    "\n",
    "def recall(prediction: torch.Tensor, actual: torch.Tensor, threshold=0.5):\n",
    "    with torch.no_grad():\n",
    "        prediction = torch.where(prediction > threshold, torch.tensor(1), torch.tensor(0))\n",
    "        n_true_pos = torch.where((actual - prediction) == 0)[0].size(dim=0)  # number of true positives\n",
    "        n_false_neg = torch.where((actual - prediction) > 0)[0].size(dim=0)  # number of false negatives\n",
    "        return n_true_pos / (n_true_pos + n_false_neg)\n",
    "\n",
    "\n",
    "def f_score(prediction: torch.Tensor, actual: torch.Tensor, beta=0.1, threshold=0.5):\n",
    "    p = precision(prediction, actual, threshold)\n",
    "    r = recall(prediction, actual, threshold)\n",
    "    beta_2 = beta ** 2\n",
    "    return (beta_2 + 1) * ((p * r) / ((beta_2 * p) + r))"
   ],
   "metadata": {
    "collapsed": false,
    "pycharm": {
     "name": "#%%\n"
    }
   }
  },
  {
   "cell_type": "code",
   "execution_count": 19,
   "outputs": [],
   "source": [
    "class TorchLogisticRegression(nn.Module):\n",
    "    def __init__(self, n_=1):\n",
    "        super(TorchLogisticRegression, self).__init__()\n",
    "        self.threshold = 0.5\n",
    "        self.node = nn.Sequential(\n",
    "            nn.Linear(n_, 1),\n",
    "            nn.Sigmoid()\n",
    "        )\n",
    "\n",
    "    def forward(self, input_):\n",
    "        return self.node(input_)\n",
    "\n",
    "    def train_model(self, config: Optional[Dict[str, Any]], dataset: DataLoader, optimizer=None,\n",
    "                    loss_func=nn.BCEWithLogitsLoss(), n=2, device=torch.device(\"cpu\")):\n",
    "        optimizer = torch.optim.Adam(self.parameters(), lr=0.001) if optimizer is None else optimizer\n",
    "        losses = []\n",
    "        accuracy = 0\n",
    "\n",
    "        with tqdm(total=n, desc=\"epoch\", postfix={\"loss\": torch.inf}) as tqdm_control:\n",
    "            for epoch in range(n):\n",
    "                predictions, actual = [], []\n",
    "                losses.append([])\n",
    "                for (j, batch) in enumerate(dataset):\n",
    "                    inputs, outputs = batch\n",
    "                    inputs, outputs = inputs.to(device), outputs.to(device)\n",
    "                    actual.append(outputs)\n",
    "                    pred = self(inputs)\n",
    "                    loss = loss_func(pred, outputs)\n",
    "                    loss.backward()\n",
    "                    optimizer.step()\n",
    "                    optimizer.zero_grad()\n",
    "                    losses[epoch].append(loss)\n",
    "                    predictions.append(pred)\n",
    "\n",
    "                acc = f_score(\n",
    "                    torch.vstack(predictions).to(torch.device(\"cpu\")),\n",
    "                    torch.vstack(actual).to(torch.device(\"cpu\")),\n",
    "                    threshold=config[\"threshold\"]\n",
    "                )\n",
    "                accuracy = acc if (acc > accuracy) else accuracy\n",
    "\n",
    "                tqdm_control.update()\n",
    "                if epoch % 10 == 0:\n",
    "                    tqdm_control.set_postfix({\"loss\": torch.tensor(losses).min()})\n",
    "\n",
    "        # tune.report(loss=torch.tensor(losses).min(), accuracy=accuracy)\n",
    "\n",
    "    def test_model(self, dataset: DataLoader, threshold: float = 0.5):\n",
    "        predictions, actual = [], []\n",
    "        with torch.no_grad():\n",
    "            for (j, batch) in enumerate(dataset):\n",
    "                inputs, truth = batch\n",
    "                actual.append(truth)\n",
    "                pred = torch.where(self(inputs) > threshold, torch.tensor(1), torch.tensor(0))\n",
    "                predictions.append(pred)\n",
    "\n",
    "        return actual, predictions"
   ],
   "metadata": {
    "collapsed": false,
    "pycharm": {
     "name": "#%%\n"
    }
   }
  },
  {
   "cell_type": "code",
   "execution_count": 20,
   "outputs": [],
   "source": [
    "device = torch.device(\"cpu\")\n",
    "config = dict(threshold=tune.uniform(0, 1))\n",
    "predictor = TorchLogisticRegression(10).to(device=device)"
   ],
   "metadata": {
    "collapsed": false,
    "pycharm": {
     "name": "#%%\n"
    }
   }
  },
  {
   "cell_type": "code",
   "execution_count": 330,
   "outputs": [
    {
     "name": "stderr",
     "output_type": "stream",
     "text": [
      "epoch: 100%|██████████| 1000/1000 [01:04<00:00, 15.43it/s, loss=tensor(0.5413)]\n"
     ]
    }
   ],
   "source": [
    "predictor.train_model(dataset=train_dataloader, config=dict(threshold=0.5), n=1_000, device=device)"
   ],
   "metadata": {
    "collapsed": false,
    "pycharm": {
     "name": "#%%\n"
    }
   }
  },
  {
   "cell_type": "code",
   "execution_count": null,
   "outputs": [],
   "source": [
    "# epochs = 1_000\n",
    "#CPU: 1:15\n",
    "#MPS: 3:06"
   ],
   "metadata": {
    "collapsed": false,
    "pycharm": {
     "name": "#%%\n"
    }
   }
  },
  {
   "cell_type": "code",
   "execution_count": null,
   "outputs": [],
   "source": [
    "# result = tune.run(\n",
    "#     partial(predictor.train_model, dataset=train_dataloader, n=10_000, device=device),\n",
    "#     resources_per_trial={\"cpu\": 10, \"gpu\": 0},\n",
    "#     metric=\"accuracy\",\n",
    "#     mode=\"max\",\n",
    "#     config=config,\n",
    "#     num_samples=10,\n",
    "#     progress_reporter=CLIReporter(metric_columns=[\"loss\", \"accuracy\", \"training_iteration\"]),\n",
    "#     checkpoint_at_end=False,\n",
    "#     local_dir=\"ray_results/\",\n",
    "#     verbose=1\n",
    "# )\n",
    "# best_trial = result.get_best_trial(metric=\"accuracy\", mode=\"max\", scope=\"all\")\n",
    "# print(\"Best trial config: {}\".format(best_trial.config))"
   ],
   "metadata": {
    "collapsed": false,
    "pycharm": {
     "name": "#%%\n",
     "is_executing": true
    }
   }
  },
  {
   "cell_type": "code",
   "execution_count": 321,
   "outputs": [],
   "source": [
    "actual, predictions = predictor.test_model(test_dataloader, threshold=0.7)"
   ],
   "metadata": {
    "collapsed": false,
    "pycharm": {
     "name": "#%%\n"
    }
   }
  },
  {
   "cell_type": "code",
   "execution_count": 322,
   "outputs": [
    {
     "data": {
      "application/vnd.plotly.v1+json": {
       "data": [
        {
         "colorscale": [
          [
           0.0,
           "rgb(247,251,255)"
          ],
          [
           0.125,
           "rgb(222,235,247)"
          ],
          [
           0.25,
           "rgb(198,219,239)"
          ],
          [
           0.375,
           "rgb(158,202,225)"
          ],
          [
           0.5,
           "rgb(107,174,214)"
          ],
          [
           0.625,
           "rgb(66,146,198)"
          ],
          [
           0.75,
           "rgb(33,113,181)"
          ],
          [
           0.875,
           "rgb(8,81,156)"
          ],
          [
           1.0,
           "rgb(8,48,107)"
          ]
         ],
         "showscale": false,
         "text": [
          [
           156,
           2
          ],
          [
           60,
           44
          ]
         ],
         "texttemplate": "%{text}",
         "x": [
          "True",
          "False"
         ],
         "y": [
          "True",
          "False"
         ],
         "z": [
          [
           156,
           2
          ],
          [
           60,
           44
          ]
         ],
         "type": "heatmap"
        }
       ],
       "layout": {
        "height": 700,
        "title": {
         "text": "",
         "x": 0.5
        },
        "width": 1000,
        "template": {
         "data": {
          "histogram2dcontour": [
           {
            "type": "histogram2dcontour",
            "colorbar": {
             "outlinewidth": 0,
             "ticks": ""
            },
            "colorscale": [
             [
              0.0,
              "#0d0887"
             ],
             [
              0.1111111111111111,
              "#46039f"
             ],
             [
              0.2222222222222222,
              "#7201a8"
             ],
             [
              0.3333333333333333,
              "#9c179e"
             ],
             [
              0.4444444444444444,
              "#bd3786"
             ],
             [
              0.5555555555555556,
              "#d8576b"
             ],
             [
              0.6666666666666666,
              "#ed7953"
             ],
             [
              0.7777777777777778,
              "#fb9f3a"
             ],
             [
              0.8888888888888888,
              "#fdca26"
             ],
             [
              1.0,
              "#f0f921"
             ]
            ]
           }
          ],
          "choropleth": [
           {
            "type": "choropleth",
            "colorbar": {
             "outlinewidth": 0,
             "ticks": ""
            }
           }
          ],
          "histogram2d": [
           {
            "type": "histogram2d",
            "colorbar": {
             "outlinewidth": 0,
             "ticks": ""
            },
            "colorscale": [
             [
              0.0,
              "#0d0887"
             ],
             [
              0.1111111111111111,
              "#46039f"
             ],
             [
              0.2222222222222222,
              "#7201a8"
             ],
             [
              0.3333333333333333,
              "#9c179e"
             ],
             [
              0.4444444444444444,
              "#bd3786"
             ],
             [
              0.5555555555555556,
              "#d8576b"
             ],
             [
              0.6666666666666666,
              "#ed7953"
             ],
             [
              0.7777777777777778,
              "#fb9f3a"
             ],
             [
              0.8888888888888888,
              "#fdca26"
             ],
             [
              1.0,
              "#f0f921"
             ]
            ]
           }
          ],
          "heatmap": [
           {
            "type": "heatmap",
            "colorbar": {
             "outlinewidth": 0,
             "ticks": ""
            },
            "colorscale": [
             [
              0.0,
              "#0d0887"
             ],
             [
              0.1111111111111111,
              "#46039f"
             ],
             [
              0.2222222222222222,
              "#7201a8"
             ],
             [
              0.3333333333333333,
              "#9c179e"
             ],
             [
              0.4444444444444444,
              "#bd3786"
             ],
             [
              0.5555555555555556,
              "#d8576b"
             ],
             [
              0.6666666666666666,
              "#ed7953"
             ],
             [
              0.7777777777777778,
              "#fb9f3a"
             ],
             [
              0.8888888888888888,
              "#fdca26"
             ],
             [
              1.0,
              "#f0f921"
             ]
            ]
           }
          ],
          "heatmapgl": [
           {
            "type": "heatmapgl",
            "colorbar": {
             "outlinewidth": 0,
             "ticks": ""
            },
            "colorscale": [
             [
              0.0,
              "#0d0887"
             ],
             [
              0.1111111111111111,
              "#46039f"
             ],
             [
              0.2222222222222222,
              "#7201a8"
             ],
             [
              0.3333333333333333,
              "#9c179e"
             ],
             [
              0.4444444444444444,
              "#bd3786"
             ],
             [
              0.5555555555555556,
              "#d8576b"
             ],
             [
              0.6666666666666666,
              "#ed7953"
             ],
             [
              0.7777777777777778,
              "#fb9f3a"
             ],
             [
              0.8888888888888888,
              "#fdca26"
             ],
             [
              1.0,
              "#f0f921"
             ]
            ]
           }
          ],
          "contourcarpet": [
           {
            "type": "contourcarpet",
            "colorbar": {
             "outlinewidth": 0,
             "ticks": ""
            }
           }
          ],
          "contour": [
           {
            "type": "contour",
            "colorbar": {
             "outlinewidth": 0,
             "ticks": ""
            },
            "colorscale": [
             [
              0.0,
              "#0d0887"
             ],
             [
              0.1111111111111111,
              "#46039f"
             ],
             [
              0.2222222222222222,
              "#7201a8"
             ],
             [
              0.3333333333333333,
              "#9c179e"
             ],
             [
              0.4444444444444444,
              "#bd3786"
             ],
             [
              0.5555555555555556,
              "#d8576b"
             ],
             [
              0.6666666666666666,
              "#ed7953"
             ],
             [
              0.7777777777777778,
              "#fb9f3a"
             ],
             [
              0.8888888888888888,
              "#fdca26"
             ],
             [
              1.0,
              "#f0f921"
             ]
            ]
           }
          ],
          "surface": [
           {
            "type": "surface",
            "colorbar": {
             "outlinewidth": 0,
             "ticks": ""
            },
            "colorscale": [
             [
              0.0,
              "#0d0887"
             ],
             [
              0.1111111111111111,
              "#46039f"
             ],
             [
              0.2222222222222222,
              "#7201a8"
             ],
             [
              0.3333333333333333,
              "#9c179e"
             ],
             [
              0.4444444444444444,
              "#bd3786"
             ],
             [
              0.5555555555555556,
              "#d8576b"
             ],
             [
              0.6666666666666666,
              "#ed7953"
             ],
             [
              0.7777777777777778,
              "#fb9f3a"
             ],
             [
              0.8888888888888888,
              "#fdca26"
             ],
             [
              1.0,
              "#f0f921"
             ]
            ]
           }
          ],
          "mesh3d": [
           {
            "type": "mesh3d",
            "colorbar": {
             "outlinewidth": 0,
             "ticks": ""
            }
           }
          ],
          "scatter": [
           {
            "fillpattern": {
             "fillmode": "overlay",
             "size": 10,
             "solidity": 0.2
            },
            "type": "scatter"
           }
          ],
          "parcoords": [
           {
            "type": "parcoords",
            "line": {
             "colorbar": {
              "outlinewidth": 0,
              "ticks": ""
             }
            }
           }
          ],
          "scatterpolargl": [
           {
            "type": "scatterpolargl",
            "marker": {
             "colorbar": {
              "outlinewidth": 0,
              "ticks": ""
             }
            }
           }
          ],
          "bar": [
           {
            "error_x": {
             "color": "#2a3f5f"
            },
            "error_y": {
             "color": "#2a3f5f"
            },
            "marker": {
             "line": {
              "color": "#E5ECF6",
              "width": 0.5
             },
             "pattern": {
              "fillmode": "overlay",
              "size": 10,
              "solidity": 0.2
             }
            },
            "type": "bar"
           }
          ],
          "scattergeo": [
           {
            "type": "scattergeo",
            "marker": {
             "colorbar": {
              "outlinewidth": 0,
              "ticks": ""
             }
            }
           }
          ],
          "scatterpolar": [
           {
            "type": "scatterpolar",
            "marker": {
             "colorbar": {
              "outlinewidth": 0,
              "ticks": ""
             }
            }
           }
          ],
          "histogram": [
           {
            "marker": {
             "pattern": {
              "fillmode": "overlay",
              "size": 10,
              "solidity": 0.2
             }
            },
            "type": "histogram"
           }
          ],
          "scattergl": [
           {
            "type": "scattergl",
            "marker": {
             "colorbar": {
              "outlinewidth": 0,
              "ticks": ""
             }
            }
           }
          ],
          "scatter3d": [
           {
            "type": "scatter3d",
            "line": {
             "colorbar": {
              "outlinewidth": 0,
              "ticks": ""
             }
            },
            "marker": {
             "colorbar": {
              "outlinewidth": 0,
              "ticks": ""
             }
            }
           }
          ],
          "scattermapbox": [
           {
            "type": "scattermapbox",
            "marker": {
             "colorbar": {
              "outlinewidth": 0,
              "ticks": ""
             }
            }
           }
          ],
          "scatterternary": [
           {
            "type": "scatterternary",
            "marker": {
             "colorbar": {
              "outlinewidth": 0,
              "ticks": ""
             }
            }
           }
          ],
          "scattercarpet": [
           {
            "type": "scattercarpet",
            "marker": {
             "colorbar": {
              "outlinewidth": 0,
              "ticks": ""
             }
            }
           }
          ],
          "carpet": [
           {
            "aaxis": {
             "endlinecolor": "#2a3f5f",
             "gridcolor": "white",
             "linecolor": "white",
             "minorgridcolor": "white",
             "startlinecolor": "#2a3f5f"
            },
            "baxis": {
             "endlinecolor": "#2a3f5f",
             "gridcolor": "white",
             "linecolor": "white",
             "minorgridcolor": "white",
             "startlinecolor": "#2a3f5f"
            },
            "type": "carpet"
           }
          ],
          "table": [
           {
            "cells": {
             "fill": {
              "color": "#EBF0F8"
             },
             "line": {
              "color": "white"
             }
            },
            "header": {
             "fill": {
              "color": "#C8D4E3"
             },
             "line": {
              "color": "white"
             }
            },
            "type": "table"
           }
          ],
          "barpolar": [
           {
            "marker": {
             "line": {
              "color": "#E5ECF6",
              "width": 0.5
             },
             "pattern": {
              "fillmode": "overlay",
              "size": 10,
              "solidity": 0.2
             }
            },
            "type": "barpolar"
           }
          ],
          "pie": [
           {
            "automargin": true,
            "type": "pie"
           }
          ]
         },
         "layout": {
          "autotypenumbers": "strict",
          "colorway": [
           "#636efa",
           "#EF553B",
           "#00cc96",
           "#ab63fa",
           "#FFA15A",
           "#19d3f3",
           "#FF6692",
           "#B6E880",
           "#FF97FF",
           "#FECB52"
          ],
          "font": {
           "color": "#2a3f5f"
          },
          "hovermode": "closest",
          "hoverlabel": {
           "align": "left"
          },
          "paper_bgcolor": "white",
          "plot_bgcolor": "#E5ECF6",
          "polar": {
           "bgcolor": "#E5ECF6",
           "angularaxis": {
            "gridcolor": "white",
            "linecolor": "white",
            "ticks": ""
           },
           "radialaxis": {
            "gridcolor": "white",
            "linecolor": "white",
            "ticks": ""
           }
          },
          "ternary": {
           "bgcolor": "#E5ECF6",
           "aaxis": {
            "gridcolor": "white",
            "linecolor": "white",
            "ticks": ""
           },
           "baxis": {
            "gridcolor": "white",
            "linecolor": "white",
            "ticks": ""
           },
           "caxis": {
            "gridcolor": "white",
            "linecolor": "white",
            "ticks": ""
           }
          },
          "coloraxis": {
           "colorbar": {
            "outlinewidth": 0,
            "ticks": ""
           }
          },
          "colorscale": {
           "sequential": [
            [
             0.0,
             "#0d0887"
            ],
            [
             0.1111111111111111,
             "#46039f"
            ],
            [
             0.2222222222222222,
             "#7201a8"
            ],
            [
             0.3333333333333333,
             "#9c179e"
            ],
            [
             0.4444444444444444,
             "#bd3786"
            ],
            [
             0.5555555555555556,
             "#d8576b"
            ],
            [
             0.6666666666666666,
             "#ed7953"
            ],
            [
             0.7777777777777778,
             "#fb9f3a"
            ],
            [
             0.8888888888888888,
             "#fdca26"
            ],
            [
             1.0,
             "#f0f921"
            ]
           ],
           "sequentialminus": [
            [
             0.0,
             "#0d0887"
            ],
            [
             0.1111111111111111,
             "#46039f"
            ],
            [
             0.2222222222222222,
             "#7201a8"
            ],
            [
             0.3333333333333333,
             "#9c179e"
            ],
            [
             0.4444444444444444,
             "#bd3786"
            ],
            [
             0.5555555555555556,
             "#d8576b"
            ],
            [
             0.6666666666666666,
             "#ed7953"
            ],
            [
             0.7777777777777778,
             "#fb9f3a"
            ],
            [
             0.8888888888888888,
             "#fdca26"
            ],
            [
             1.0,
             "#f0f921"
            ]
           ],
           "diverging": [
            [
             0,
             "#8e0152"
            ],
            [
             0.1,
             "#c51b7d"
            ],
            [
             0.2,
             "#de77ae"
            ],
            [
             0.3,
             "#f1b6da"
            ],
            [
             0.4,
             "#fde0ef"
            ],
            [
             0.5,
             "#f7f7f7"
            ],
            [
             0.6,
             "#e6f5d0"
            ],
            [
             0.7,
             "#b8e186"
            ],
            [
             0.8,
             "#7fbc41"
            ],
            [
             0.9,
             "#4d9221"
            ],
            [
             1,
             "#276419"
            ]
           ]
          },
          "xaxis": {
           "gridcolor": "white",
           "linecolor": "white",
           "ticks": "",
           "title": {
            "standoff": 15
           },
           "zerolinecolor": "white",
           "automargin": true,
           "zerolinewidth": 2
          },
          "yaxis": {
           "gridcolor": "white",
           "linecolor": "white",
           "ticks": "",
           "title": {
            "standoff": 15
           },
           "zerolinecolor": "white",
           "automargin": true,
           "zerolinewidth": 2
          },
          "scene": {
           "xaxis": {
            "backgroundcolor": "#E5ECF6",
            "gridcolor": "white",
            "linecolor": "white",
            "showbackground": true,
            "ticks": "",
            "zerolinecolor": "white",
            "gridwidth": 2
           },
           "yaxis": {
            "backgroundcolor": "#E5ECF6",
            "gridcolor": "white",
            "linecolor": "white",
            "showbackground": true,
            "ticks": "",
            "zerolinecolor": "white",
            "gridwidth": 2
           },
           "zaxis": {
            "backgroundcolor": "#E5ECF6",
            "gridcolor": "white",
            "linecolor": "white",
            "showbackground": true,
            "ticks": "",
            "zerolinecolor": "white",
            "gridwidth": 2
           }
          },
          "shapedefaults": {
           "line": {
            "color": "#2a3f5f"
           }
          },
          "annotationdefaults": {
           "arrowcolor": "#2a3f5f",
           "arrowhead": 0,
           "arrowwidth": 1
          },
          "geo": {
           "bgcolor": "white",
           "landcolor": "#E5ECF6",
           "subunitcolor": "white",
           "showland": true,
           "showlakes": true,
           "lakecolor": "white"
          },
          "title": {
           "x": 0.05
          },
          "mapbox": {
           "style": "light"
          }
         }
        }
       },
       "config": {
        "plotlyServerURL": "https://plot.ly"
       }
      },
      "text/html": "<div>                            <div id=\"655e8942-dcce-4906-a38f-e83f1e4258e0\" class=\"plotly-graph-div\" style=\"height:700px; width:1000px;\"></div>            <script type=\"text/javascript\">                require([\"plotly\"], function(Plotly) {                    window.PLOTLYENV=window.PLOTLYENV || {};                                    if (document.getElementById(\"655e8942-dcce-4906-a38f-e83f1e4258e0\")) {                    Plotly.newPlot(                        \"655e8942-dcce-4906-a38f-e83f1e4258e0\",                        [{\"colorscale\":[[0.0,\"rgb(247,251,255)\"],[0.125,\"rgb(222,235,247)\"],[0.25,\"rgb(198,219,239)\"],[0.375,\"rgb(158,202,225)\"],[0.5,\"rgb(107,174,214)\"],[0.625,\"rgb(66,146,198)\"],[0.75,\"rgb(33,113,181)\"],[0.875,\"rgb(8,81,156)\"],[1.0,\"rgb(8,48,107)\"]],\"showscale\":false,\"text\":[[156,2],[60,44]],\"texttemplate\":\"%{text}\",\"x\":[\"True\",\"False\"],\"y\":[\"True\",\"False\"],\"z\":[[156,2],[60,44]],\"type\":\"heatmap\"}],                        {\"height\":700,\"title\":{\"text\":\"\",\"x\":0.5},\"width\":1000,\"template\":{\"data\":{\"histogram2dcontour\":[{\"type\":\"histogram2dcontour\",\"colorbar\":{\"outlinewidth\":0,\"ticks\":\"\"},\"colorscale\":[[0.0,\"#0d0887\"],[0.1111111111111111,\"#46039f\"],[0.2222222222222222,\"#7201a8\"],[0.3333333333333333,\"#9c179e\"],[0.4444444444444444,\"#bd3786\"],[0.5555555555555556,\"#d8576b\"],[0.6666666666666666,\"#ed7953\"],[0.7777777777777778,\"#fb9f3a\"],[0.8888888888888888,\"#fdca26\"],[1.0,\"#f0f921\"]]}],\"choropleth\":[{\"type\":\"choropleth\",\"colorbar\":{\"outlinewidth\":0,\"ticks\":\"\"}}],\"histogram2d\":[{\"type\":\"histogram2d\",\"colorbar\":{\"outlinewidth\":0,\"ticks\":\"\"},\"colorscale\":[[0.0,\"#0d0887\"],[0.1111111111111111,\"#46039f\"],[0.2222222222222222,\"#7201a8\"],[0.3333333333333333,\"#9c179e\"],[0.4444444444444444,\"#bd3786\"],[0.5555555555555556,\"#d8576b\"],[0.6666666666666666,\"#ed7953\"],[0.7777777777777778,\"#fb9f3a\"],[0.8888888888888888,\"#fdca26\"],[1.0,\"#f0f921\"]]}],\"heatmap\":[{\"type\":\"heatmap\",\"colorbar\":{\"outlinewidth\":0,\"ticks\":\"\"},\"colorscale\":[[0.0,\"#0d0887\"],[0.1111111111111111,\"#46039f\"],[0.2222222222222222,\"#7201a8\"],[0.3333333333333333,\"#9c179e\"],[0.4444444444444444,\"#bd3786\"],[0.5555555555555556,\"#d8576b\"],[0.6666666666666666,\"#ed7953\"],[0.7777777777777778,\"#fb9f3a\"],[0.8888888888888888,\"#fdca26\"],[1.0,\"#f0f921\"]]}],\"heatmapgl\":[{\"type\":\"heatmapgl\",\"colorbar\":{\"outlinewidth\":0,\"ticks\":\"\"},\"colorscale\":[[0.0,\"#0d0887\"],[0.1111111111111111,\"#46039f\"],[0.2222222222222222,\"#7201a8\"],[0.3333333333333333,\"#9c179e\"],[0.4444444444444444,\"#bd3786\"],[0.5555555555555556,\"#d8576b\"],[0.6666666666666666,\"#ed7953\"],[0.7777777777777778,\"#fb9f3a\"],[0.8888888888888888,\"#fdca26\"],[1.0,\"#f0f921\"]]}],\"contourcarpet\":[{\"type\":\"contourcarpet\",\"colorbar\":{\"outlinewidth\":0,\"ticks\":\"\"}}],\"contour\":[{\"type\":\"contour\",\"colorbar\":{\"outlinewidth\":0,\"ticks\":\"\"},\"colorscale\":[[0.0,\"#0d0887\"],[0.1111111111111111,\"#46039f\"],[0.2222222222222222,\"#7201a8\"],[0.3333333333333333,\"#9c179e\"],[0.4444444444444444,\"#bd3786\"],[0.5555555555555556,\"#d8576b\"],[0.6666666666666666,\"#ed7953\"],[0.7777777777777778,\"#fb9f3a\"],[0.8888888888888888,\"#fdca26\"],[1.0,\"#f0f921\"]]}],\"surface\":[{\"type\":\"surface\",\"colorbar\":{\"outlinewidth\":0,\"ticks\":\"\"},\"colorscale\":[[0.0,\"#0d0887\"],[0.1111111111111111,\"#46039f\"],[0.2222222222222222,\"#7201a8\"],[0.3333333333333333,\"#9c179e\"],[0.4444444444444444,\"#bd3786\"],[0.5555555555555556,\"#d8576b\"],[0.6666666666666666,\"#ed7953\"],[0.7777777777777778,\"#fb9f3a\"],[0.8888888888888888,\"#fdca26\"],[1.0,\"#f0f921\"]]}],\"mesh3d\":[{\"type\":\"mesh3d\",\"colorbar\":{\"outlinewidth\":0,\"ticks\":\"\"}}],\"scatter\":[{\"fillpattern\":{\"fillmode\":\"overlay\",\"size\":10,\"solidity\":0.2},\"type\":\"scatter\"}],\"parcoords\":[{\"type\":\"parcoords\",\"line\":{\"colorbar\":{\"outlinewidth\":0,\"ticks\":\"\"}}}],\"scatterpolargl\":[{\"type\":\"scatterpolargl\",\"marker\":{\"colorbar\":{\"outlinewidth\":0,\"ticks\":\"\"}}}],\"bar\":[{\"error_x\":{\"color\":\"#2a3f5f\"},\"error_y\":{\"color\":\"#2a3f5f\"},\"marker\":{\"line\":{\"color\":\"#E5ECF6\",\"width\":0.5},\"pattern\":{\"fillmode\":\"overlay\",\"size\":10,\"solidity\":0.2}},\"type\":\"bar\"}],\"scattergeo\":[{\"type\":\"scattergeo\",\"marker\":{\"colorbar\":{\"outlinewidth\":0,\"ticks\":\"\"}}}],\"scatterpolar\":[{\"type\":\"scatterpolar\",\"marker\":{\"colorbar\":{\"outlinewidth\":0,\"ticks\":\"\"}}}],\"histogram\":[{\"marker\":{\"pattern\":{\"fillmode\":\"overlay\",\"size\":10,\"solidity\":0.2}},\"type\":\"histogram\"}],\"scattergl\":[{\"type\":\"scattergl\",\"marker\":{\"colorbar\":{\"outlinewidth\":0,\"ticks\":\"\"}}}],\"scatter3d\":[{\"type\":\"scatter3d\",\"line\":{\"colorbar\":{\"outlinewidth\":0,\"ticks\":\"\"}},\"marker\":{\"colorbar\":{\"outlinewidth\":0,\"ticks\":\"\"}}}],\"scattermapbox\":[{\"type\":\"scattermapbox\",\"marker\":{\"colorbar\":{\"outlinewidth\":0,\"ticks\":\"\"}}}],\"scatterternary\":[{\"type\":\"scatterternary\",\"marker\":{\"colorbar\":{\"outlinewidth\":0,\"ticks\":\"\"}}}],\"scattercarpet\":[{\"type\":\"scattercarpet\",\"marker\":{\"colorbar\":{\"outlinewidth\":0,\"ticks\":\"\"}}}],\"carpet\":[{\"aaxis\":{\"endlinecolor\":\"#2a3f5f\",\"gridcolor\":\"white\",\"linecolor\":\"white\",\"minorgridcolor\":\"white\",\"startlinecolor\":\"#2a3f5f\"},\"baxis\":{\"endlinecolor\":\"#2a3f5f\",\"gridcolor\":\"white\",\"linecolor\":\"white\",\"minorgridcolor\":\"white\",\"startlinecolor\":\"#2a3f5f\"},\"type\":\"carpet\"}],\"table\":[{\"cells\":{\"fill\":{\"color\":\"#EBF0F8\"},\"line\":{\"color\":\"white\"}},\"header\":{\"fill\":{\"color\":\"#C8D4E3\"},\"line\":{\"color\":\"white\"}},\"type\":\"table\"}],\"barpolar\":[{\"marker\":{\"line\":{\"color\":\"#E5ECF6\",\"width\":0.5},\"pattern\":{\"fillmode\":\"overlay\",\"size\":10,\"solidity\":0.2}},\"type\":\"barpolar\"}],\"pie\":[{\"automargin\":true,\"type\":\"pie\"}]},\"layout\":{\"autotypenumbers\":\"strict\",\"colorway\":[\"#636efa\",\"#EF553B\",\"#00cc96\",\"#ab63fa\",\"#FFA15A\",\"#19d3f3\",\"#FF6692\",\"#B6E880\",\"#FF97FF\",\"#FECB52\"],\"font\":{\"color\":\"#2a3f5f\"},\"hovermode\":\"closest\",\"hoverlabel\":{\"align\":\"left\"},\"paper_bgcolor\":\"white\",\"plot_bgcolor\":\"#E5ECF6\",\"polar\":{\"bgcolor\":\"#E5ECF6\",\"angularaxis\":{\"gridcolor\":\"white\",\"linecolor\":\"white\",\"ticks\":\"\"},\"radialaxis\":{\"gridcolor\":\"white\",\"linecolor\":\"white\",\"ticks\":\"\"}},\"ternary\":{\"bgcolor\":\"#E5ECF6\",\"aaxis\":{\"gridcolor\":\"white\",\"linecolor\":\"white\",\"ticks\":\"\"},\"baxis\":{\"gridcolor\":\"white\",\"linecolor\":\"white\",\"ticks\":\"\"},\"caxis\":{\"gridcolor\":\"white\",\"linecolor\":\"white\",\"ticks\":\"\"}},\"coloraxis\":{\"colorbar\":{\"outlinewidth\":0,\"ticks\":\"\"}},\"colorscale\":{\"sequential\":[[0.0,\"#0d0887\"],[0.1111111111111111,\"#46039f\"],[0.2222222222222222,\"#7201a8\"],[0.3333333333333333,\"#9c179e\"],[0.4444444444444444,\"#bd3786\"],[0.5555555555555556,\"#d8576b\"],[0.6666666666666666,\"#ed7953\"],[0.7777777777777778,\"#fb9f3a\"],[0.8888888888888888,\"#fdca26\"],[1.0,\"#f0f921\"]],\"sequentialminus\":[[0.0,\"#0d0887\"],[0.1111111111111111,\"#46039f\"],[0.2222222222222222,\"#7201a8\"],[0.3333333333333333,\"#9c179e\"],[0.4444444444444444,\"#bd3786\"],[0.5555555555555556,\"#d8576b\"],[0.6666666666666666,\"#ed7953\"],[0.7777777777777778,\"#fb9f3a\"],[0.8888888888888888,\"#fdca26\"],[1.0,\"#f0f921\"]],\"diverging\":[[0,\"#8e0152\"],[0.1,\"#c51b7d\"],[0.2,\"#de77ae\"],[0.3,\"#f1b6da\"],[0.4,\"#fde0ef\"],[0.5,\"#f7f7f7\"],[0.6,\"#e6f5d0\"],[0.7,\"#b8e186\"],[0.8,\"#7fbc41\"],[0.9,\"#4d9221\"],[1,\"#276419\"]]},\"xaxis\":{\"gridcolor\":\"white\",\"linecolor\":\"white\",\"ticks\":\"\",\"title\":{\"standoff\":15},\"zerolinecolor\":\"white\",\"automargin\":true,\"zerolinewidth\":2},\"yaxis\":{\"gridcolor\":\"white\",\"linecolor\":\"white\",\"ticks\":\"\",\"title\":{\"standoff\":15},\"zerolinecolor\":\"white\",\"automargin\":true,\"zerolinewidth\":2},\"scene\":{\"xaxis\":{\"backgroundcolor\":\"#E5ECF6\",\"gridcolor\":\"white\",\"linecolor\":\"white\",\"showbackground\":true,\"ticks\":\"\",\"zerolinecolor\":\"white\",\"gridwidth\":2},\"yaxis\":{\"backgroundcolor\":\"#E5ECF6\",\"gridcolor\":\"white\",\"linecolor\":\"white\",\"showbackground\":true,\"ticks\":\"\",\"zerolinecolor\":\"white\",\"gridwidth\":2},\"zaxis\":{\"backgroundcolor\":\"#E5ECF6\",\"gridcolor\":\"white\",\"linecolor\":\"white\",\"showbackground\":true,\"ticks\":\"\",\"zerolinecolor\":\"white\",\"gridwidth\":2}},\"shapedefaults\":{\"line\":{\"color\":\"#2a3f5f\"}},\"annotationdefaults\":{\"arrowcolor\":\"#2a3f5f\",\"arrowhead\":0,\"arrowwidth\":1},\"geo\":{\"bgcolor\":\"white\",\"landcolor\":\"#E5ECF6\",\"subunitcolor\":\"white\",\"showland\":true,\"showlakes\":true,\"lakecolor\":\"white\"},\"title\":{\"x\":0.05},\"mapbox\":{\"style\":\"light\"}}}},                        {\"responsive\": true}                    ).then(function(){\n                            \nvar gd = document.getElementById('655e8942-dcce-4906-a38f-e83f1e4258e0');\nvar x = new MutationObserver(function (mutations, observer) {{\n        var display = window.getComputedStyle(gd).display;\n        if (!display || display === 'none') {{\n            console.log([gd, 'removed!']);\n            Plotly.purge(gd);\n            observer.disconnect();\n        }}\n}});\n\n// Listen for the removal of the full notebook cells\nvar notebookContainer = gd.closest('#notebook-container');\nif (notebookContainer) {{\n    x.observe(notebookContainer, {childList: true});\n}}\n\n// Listen for the clearing of the current output cell\nvar outputEl = gd.closest('.output');\nif (outputEl) {{\n    x.observe(outputEl, {childList: true});\n}}\n\n                        })                };                });            </script>        </div>"
     },
     "metadata": {},
     "output_type": "display_data"
    }
   ],
   "source": [
    "show(confusion_graph(\n",
    "    labels=[\"True\", \"False\"],\n",
    "    enc_labels=[0, 1],\n",
    "    actual=torch.vstack(actual).numpy().ravel(),\n",
    "    prediction=torch.vstack(predictions).numpy().ravel()\n",
    "))"
   ],
   "metadata": {
    "collapsed": false,
    "pycharm": {
     "name": "#%%\n"
    }
   }
  },
  {
   "cell_type": "code",
   "execution_count": 21,
   "outputs": [],
   "source": [
    "def sigmoid_func(a, b, x):\n",
    "    x = (a * x) + b\n",
    "    return np.exp(x) / (1 + np.exp(x))"
   ],
   "metadata": {
    "collapsed": false,
    "pycharm": {
     "name": "#%%\n"
    }
   }
  },
  {
   "cell_type": "code",
   "execution_count": 34,
   "outputs": [
    {
     "data": {
      "application/vnd.plotly.v1+json": {
       "data": [
        {
         "marker": {
          "size": 5
         },
         "mode": "lines",
         "name": "[a=1, b=-5]",
         "visible": true,
         "x": [
          -10.0,
          -9.797979797979798,
          -9.595959595959595,
          -9.393939393939394,
          -9.191919191919192,
          -8.98989898989899,
          -8.787878787878787,
          -8.585858585858587,
          -8.383838383838384,
          -8.181818181818182,
          -7.979797979797979,
          -7.777777777777778,
          -7.575757575757576,
          -7.373737373737374,
          -7.171717171717171,
          -6.96969696969697,
          -6.767676767676768,
          -6.565656565656566,
          -6.363636363636363,
          -6.161616161616162,
          -5.959595959595959,
          -5.757575757575758,
          -5.555555555555555,
          -5.353535353535354,
          -5.151515151515151,
          -4.94949494949495,
          -4.747474747474747,
          -4.545454545454546,
          -4.343434343434343,
          -4.141414141414142,
          -3.9393939393939394,
          -3.737373737373738,
          -3.5353535353535355,
          -3.333333333333333,
          -3.1313131313131315,
          -2.929292929292929,
          -2.7272727272727275,
          -2.525252525252525,
          -2.3232323232323235,
          -2.121212121212121,
          -1.9191919191919187,
          -1.717171717171718,
          -1.5151515151515156,
          -1.3131313131313131,
          -1.1111111111111107,
          -0.9090909090909101,
          -0.7070707070707076,
          -0.5050505050505052,
          -0.30303030303030276,
          -0.10101010101010033,
          0.10101010101010033,
          0.30303030303030276,
          0.5050505050505052,
          0.7070707070707076,
          0.9090909090909083,
          1.1111111111111107,
          1.3131313131313131,
          1.5151515151515156,
          1.7171717171717162,
          1.9191919191919187,
          2.121212121212121,
          2.3232323232323235,
          2.525252525252524,
          2.7272727272727266,
          2.929292929292929,
          3.1313131313131315,
          3.333333333333334,
          3.5353535353535346,
          3.737373737373737,
          3.9393939393939394,
          4.141414141414142,
          4.3434343434343425,
          4.545454545454545,
          4.747474747474747,
          4.94949494949495,
          5.1515151515151505,
          5.353535353535353,
          5.555555555555555,
          5.757575757575758,
          5.9595959595959584,
          6.161616161616163,
          6.363636363636363,
          6.565656565656564,
          6.767676767676768,
          6.969696969696969,
          7.171717171717173,
          7.373737373737374,
          7.575757575757574,
          7.777777777777779,
          7.979797979797979,
          8.18181818181818,
          8.383838383838384,
          8.585858585858585,
          8.787878787878789,
          8.98989898989899,
          9.19191919191919,
          9.393939393939394,
          9.595959595959595,
          9.7979797979798,
          10.0
         ],
         "y": [
          3.059022269256247E-7,
          3.7438536872556216E-7,
          4.582000058499815E-7,
          5.607784356963248E-7,
          6.863213502953829E-7,
          8.399698573423101E-7,
          1.0280160112616687E-6,
          1.2581604752625912E-6,
          1.539827865142784E-6,
          1.8845526873360723E-6,
          2.30645167401761E-6,
          2.8228018552467237E-6,
          3.4547480368431424E-6,
          4.2281686500022396E-6,
          5.1747354211587054E-6,
          6.3332102432744435E-6,
          7.751032336663982E-6,
          9.486260665074935E-6,
          1.1609951105744416E-5,
          1.4209065653199503E-5,
          1.7390032690069667E-5,
          2.128310396935608E-5,
          2.6047686502819377E-5,
          3.187886735979003E-5,
          3.9015398061198876E-5,
          4.774946477027837E-5,
          5.843864322924198E-5,
          7.1520526286181E-5,
          8.753062044408382E-5,
          1.071242404493269E-4,
          1.311032927375645E-4,
          1.604490358789781E-4,
          1.9636214661781953E-4,
          2.4031171281892674E-4,
          2.940951305402059E-4,
          3.599113145298554E-4,
          4.404501550181943E-4,
          5.390017866275777E-4,
          6.595899981805367E-4,
          8.071350284840316E-4,
          9.876520885462562E-4,
          0.0012084932524554547,
          0.0014786418945442624,
          0.0018090706436424834,
          0.002213175892282979,
          0.002707304239618331,
          0.0033113888326726446,
          0.004049716324370245,
          0.00495184793439168,
          0.006053720606541651,
          0.007398956049719667,
          0.009040405808933128,
          0.011041958337494755,
          0.013480627700845842,
          0.016448930693417945,
          0.020057536537850404,
          0.024438136618332742,
          0.029746425384074217,
          0.036165001220187704,
          0.043905881149938986,
          0.053212170773911056,
          0.06435824095339866,
          0.07764754608342472,
          0.09340700471683211,
          0.11197670961974694,
          0.13369373589385358,
          0.1588691048809152,
          0.1877576890548204,
          0.22052212704556928,
          0.2571936527643822,
          0.2976348849744225,
          0.34151151059747914,
          0.3882805885928385,
          0.4372020463056176,
          0.48737642056992503,
          0.5378064890731508,
          0.5874746295981816,
          0.6354235592583606,
          0.6808271732785297,
          0.7230409022118409,
          0.7616262557896034,
          0.7963500664977806,
          0.8271635355338107,
          0.854168516465085,
          0.877578561013787,
          0.89768079649193,
          0.9148025989384116,
          0.9292849879728562,
          0.9414630971256321,
          0.9516530772801022,
          0.9601443010541102,
          0.9671956090900572,
          0.9730344296319098,
          0.9778577960418678,
          0.9818345074928443,
          0.9851078836367396,
          0.9877987357393639,
          0.990008310063792,
          0.9918210571437178,
          0.9933071490757152
         ],
         "type": "scatter"
        },
        {
         "marker": {
          "size": 5
         },
         "mode": "lines",
         "name": "[a=-1, b=0]",
         "visible": true,
         "x": [
          -10.0,
          -9.797979797979798,
          -9.595959595959595,
          -9.393939393939394,
          -9.191919191919192,
          -8.98989898989899,
          -8.787878787878787,
          -8.585858585858587,
          -8.383838383838384,
          -8.181818181818182,
          -7.979797979797979,
          -7.777777777777778,
          -7.575757575757576,
          -7.373737373737374,
          -7.171717171717171,
          -6.96969696969697,
          -6.767676767676768,
          -6.565656565656566,
          -6.363636363636363,
          -6.161616161616162,
          -5.959595959595959,
          -5.757575757575758,
          -5.555555555555555,
          -5.353535353535354,
          -5.151515151515151,
          -4.94949494949495,
          -4.747474747474747,
          -4.545454545454546,
          -4.343434343434343,
          -4.141414141414142,
          -3.9393939393939394,
          -3.737373737373738,
          -3.5353535353535355,
          -3.333333333333333,
          -3.1313131313131315,
          -2.929292929292929,
          -2.7272727272727275,
          -2.525252525252525,
          -2.3232323232323235,
          -2.121212121212121,
          -1.9191919191919187,
          -1.717171717171718,
          -1.5151515151515156,
          -1.3131313131313131,
          -1.1111111111111107,
          -0.9090909090909101,
          -0.7070707070707076,
          -0.5050505050505052,
          -0.30303030303030276,
          -0.10101010101010033,
          0.10101010101010033,
          0.30303030303030276,
          0.5050505050505052,
          0.7070707070707076,
          0.9090909090909083,
          1.1111111111111107,
          1.3131313131313131,
          1.5151515151515156,
          1.7171717171717162,
          1.9191919191919187,
          2.121212121212121,
          2.3232323232323235,
          2.525252525252524,
          2.7272727272727266,
          2.929292929292929,
          3.1313131313131315,
          3.333333333333334,
          3.5353535353535346,
          3.737373737373737,
          3.9393939393939394,
          4.141414141414142,
          4.3434343434343425,
          4.545454545454545,
          4.747474747474747,
          4.94949494949495,
          5.1515151515151505,
          5.353535353535353,
          5.555555555555555,
          5.757575757575758,
          5.9595959595959584,
          6.161616161616163,
          6.363636363636363,
          6.565656565656564,
          6.767676767676768,
          6.969696969696969,
          7.171717171717173,
          7.373737373737374,
          7.575757575757574,
          7.777777777777779,
          7.979797979797979,
          8.18181818181818,
          8.383838383838384,
          8.585858585858585,
          8.787878787878789,
          8.98989898989899,
          9.19191919191919,
          9.393939393939394,
          9.595959595959595,
          9.7979797979798,
          10.0
         ],
         "y": [
          0.9999546021312976,
          0.9999444393510606,
          0.9999320016825577,
          0.999916779980278,
          0.9998981511845728,
          0.9998753528540558,
          0.9998474520137535,
          0.9998133070550387,
          0.9997715211446787,
          0.9997203852613508,
          0.9996578085662834,
          0.9995812333155556,
          0.9994875309178055,
          0.9993728750127243,
          0.9992325865700817,
          0.9990609449609382,
          0.9988509577051191,
          0.9985940801244914,
          0.9982798744047807,
          0.9978955955708816,
          0.9974256896068625,
          0.9968511864223202,
          0.9961489676440698,
          0.995290886427886,
          0.9942427138780918,
          0.9929628846354356,
          0.9914010133898106,
          0.9894961554867145,
          0.9871747899072353,
          0.9843485138571816,
          0.9809114580100766,
          0.9767374641691144,
          0.9716771179556968,
          0.9655548043337888,
          0.9581660599944802,
          0.9492756394379457,
          0.9386168925965077,
          0.9258932636749526,
          0.9107829397488015,
          0.8929478537858229,
          0.8720482950755473,
          0.8477641768561095,
          0.8198234066423302,
          0.7880366661307628,
          0.7523361988609283,
          0.7128140986174976,
          0.6697535703681885,
          0.623645482503293,
          0.5751831319371523,
          0.5252310760920886,
          0.4747689239079114,
          0.4248168680628477,
          0.376354517496707,
          0.3302464296318115,
          0.28718590138250283,
          0.24766380113907174,
          0.21196333386923716,
          0.18017659335766972,
          0.15223582314389075,
          0.12795170492445268,
          0.10705214621417714,
          0.08921706025119842,
          0.0741067363250474,
          0.06138310740349223,
          0.050724360562054364,
          0.04183394000551972,
          0.034445195666211154,
          0.02832288204430322,
          0.02326253583088552,
          0.019088541989923383,
          0.01565148614281837,
          0.012825210092764695,
          0.010503844513285425,
          0.008598986610189428,
          0.007037115364564376,
          0.00575728612190819,
          0.004709113572114015,
          0.003851032355930255,
          0.0031488135776798517,
          0.0025743103931375336,
          0.0021044044291184316,
          0.0017201255952192598,
          0.0014059198755086344,
          0.001149042294880872,
          9.390550390618312E-4,
          7.674134299182648E-4,
          6.271249872756847E-4,
          5.124690821944592E-4,
          4.187666844443732E-4,
          3.4219143371662803E-4,
          2.796147386491927E-4,
          2.2847885532128423E-4,
          1.866929449613085E-4,
          1.525479862464962E-4,
          1.2464714594414533E-4,
          1.0184881542721287E-4,
          8.322001972209245E-5,
          6.799831744235803E-5,
          5.556064893935837E-5,
          4.5397868702434395E-5
         ],
         "type": "scatter"
        },
        {
         "marker": {
          "size": 5
         },
         "mode": "lines",
         "name": "[a=2, b=0]",
         "visible": true,
         "x": [
          -10.0,
          -9.797979797979798,
          -9.595959595959595,
          -9.393939393939394,
          -9.191919191919192,
          -8.98989898989899,
          -8.787878787878787,
          -8.585858585858587,
          -8.383838383838384,
          -8.181818181818182,
          -7.979797979797979,
          -7.777777777777778,
          -7.575757575757576,
          -7.373737373737374,
          -7.171717171717171,
          -6.96969696969697,
          -6.767676767676768,
          -6.565656565656566,
          -6.363636363636363,
          -6.161616161616162,
          -5.959595959595959,
          -5.757575757575758,
          -5.555555555555555,
          -5.353535353535354,
          -5.151515151515151,
          -4.94949494949495,
          -4.747474747474747,
          -4.545454545454546,
          -4.343434343434343,
          -4.141414141414142,
          -3.9393939393939394,
          -3.737373737373738,
          -3.5353535353535355,
          -3.333333333333333,
          -3.1313131313131315,
          -2.929292929292929,
          -2.7272727272727275,
          -2.525252525252525,
          -2.3232323232323235,
          -2.121212121212121,
          -1.9191919191919187,
          -1.717171717171718,
          -1.5151515151515156,
          -1.3131313131313131,
          -1.1111111111111107,
          -0.9090909090909101,
          -0.7070707070707076,
          -0.5050505050505052,
          -0.30303030303030276,
          -0.10101010101010033,
          0.10101010101010033,
          0.30303030303030276,
          0.5050505050505052,
          0.7070707070707076,
          0.9090909090909083,
          1.1111111111111107,
          1.3131313131313131,
          1.5151515151515156,
          1.7171717171717162,
          1.9191919191919187,
          2.121212121212121,
          2.3232323232323235,
          2.525252525252524,
          2.7272727272727266,
          2.929292929292929,
          3.1313131313131315,
          3.333333333333334,
          3.5353535353535346,
          3.737373737373737,
          3.9393939393939394,
          4.141414141414142,
          4.3434343434343425,
          4.545454545454545,
          4.747474747474747,
          4.94949494949495,
          5.1515151515151505,
          5.353535353535353,
          5.555555555555555,
          5.757575757575758,
          5.9595959595959584,
          6.161616161616163,
          6.363636363636363,
          6.565656565656564,
          6.767676767676768,
          6.969696969696969,
          7.171717171717173,
          7.373737373737374,
          7.575757575757574,
          7.777777777777779,
          7.979797979797979,
          8.18181818181818,
          8.383838383838384,
          8.585858585858585,
          8.787878787878789,
          8.98989898989899,
          9.19191919191919,
          9.393939393939394,
          9.595959595959595,
          9.7979797979798,
          10.0
         ],
         "y": [
          2.0611536181902033E-9,
          3.087328759480287E-9,
          4.624400035070485E-9,
          6.92672447089656E-9,
          1.0375294411567877E-8,
          1.5540784738036146E-8,
          2.3277989045167742E-8,
          3.4867272215245655E-8,
          5.2226447153939444E-8,
          7.822813731775803E-8,
          1.1717514252783525E-7,
          1.7551247199480786E-7,
          2.6289387208313746E-7,
          3.9377933765415523E-7,
          5.898279614899505E-7,
          8.834820848427416E-7,
          1.3233358387273202E-6,
          1.9821764228272036E-6,
          2.9690286981269723E-6,
          4.44719601028049E-6,
          6.661282126215009E-6,
          9.977664701523608E-6,
          1.4945115164976019E-5,
          2.2385590375441967E-5,
          3.353020666906254E-5,
          5.0222866695513536E-5,
          7.522516643569822E-5,
          1.1267288389847108E-4,
          1.6875924232932486E-4,
          2.527572358434821E-4,
          3.7854844587133555E-4,
          5.669074228733035E-4,
          8.489108847501614E-4,
          0.001271016263081359,
          0.0019026061381274754,
          0.0028471491925988668,
          0.004258607051910033,
          0.006365320365320529,
          0.009504267527927608,
          0.014169058922504332,
          0.02107466348342941,
          0.031239217498255204,
          0.04607550624931939,
          0.06746720912569881,
          0.09777259985079938,
          0.13965218341675986,
          0.19558166828746176,
          0.2669600833870327,
          0.35295834979419605,
          0.4496660197129983,
          0.5503339802870018,
          0.6470416502058041,
          0.7330399166129673,
          0.8044183317125383,
          0.8603478165832397,
          0.9022274001492006,
          0.9325327908743012,
          0.9539244937506807,
          0.9687607825017447,
          0.9789253365165705,
          0.9858309410774957,
          0.9904957324720723,
          0.9936346796346794,
          0.9957413929480899,
          0.9971528508074011,
          0.9980973938618726,
          0.9987289837369187,
          0.9991510891152499,
          0.9994330925771266,
          0.9996214515541286,
          0.9997472427641565,
          0.9998312407576707,
          0.9998873271161015,
          0.9999247748335643,
          0.9999497771333045,
          0.9999664697933309,
          0.9999776144096245,
          0.999985054884835,
          0.9999900223352984,
          0.9999933387178738,
          0.9999955528039898,
          0.9999970309713019,
          0.9999980178235772,
          0.9999986766641613,
          0.9999991165179152,
          0.9999994101720385,
          0.9999996062206623,
          0.9999997371061279,
          0.999999824487528,
          0.9999998828248575,
          0.9999999217718627,
          0.9999999477735528,
          0.9999999651327278,
          0.9999999767220109,
          0.9999999844592152,
          0.9999999896247056,
          0.9999999930732756,
          0.9999999953755999,
          0.9999999969126713,
          0.9999999979388464
         ],
         "type": "scatter"
        },
        {
         "marker": {
          "size": 5
         },
         "mode": "lines",
         "name": "[a=3, b=0]",
         "visible": true,
         "x": [
          -10.0,
          -9.797979797979798,
          -9.595959595959595,
          -9.393939393939394,
          -9.191919191919192,
          -8.98989898989899,
          -8.787878787878787,
          -8.585858585858587,
          -8.383838383838384,
          -8.181818181818182,
          -7.979797979797979,
          -7.777777777777778,
          -7.575757575757576,
          -7.373737373737374,
          -7.171717171717171,
          -6.96969696969697,
          -6.767676767676768,
          -6.565656565656566,
          -6.363636363636363,
          -6.161616161616162,
          -5.959595959595959,
          -5.757575757575758,
          -5.555555555555555,
          -5.353535353535354,
          -5.151515151515151,
          -4.94949494949495,
          -4.747474747474747,
          -4.545454545454546,
          -4.343434343434343,
          -4.141414141414142,
          -3.9393939393939394,
          -3.737373737373738,
          -3.5353535353535355,
          -3.333333333333333,
          -3.1313131313131315,
          -2.929292929292929,
          -2.7272727272727275,
          -2.525252525252525,
          -2.3232323232323235,
          -2.121212121212121,
          -1.9191919191919187,
          -1.717171717171718,
          -1.5151515151515156,
          -1.3131313131313131,
          -1.1111111111111107,
          -0.9090909090909101,
          -0.7070707070707076,
          -0.5050505050505052,
          -0.30303030303030276,
          -0.10101010101010033,
          0.10101010101010033,
          0.30303030303030276,
          0.5050505050505052,
          0.7070707070707076,
          0.9090909090909083,
          1.1111111111111107,
          1.3131313131313131,
          1.5151515151515156,
          1.7171717171717162,
          1.9191919191919187,
          2.121212121212121,
          2.3232323232323235,
          2.525252525252524,
          2.7272727272727266,
          2.929292929292929,
          3.1313131313131315,
          3.333333333333334,
          3.5353535353535346,
          3.737373737373737,
          3.9393939393939394,
          4.141414141414142,
          4.3434343434343425,
          4.545454545454545,
          4.747474747474747,
          4.94949494949495,
          5.1515151515151505,
          5.353535353535353,
          5.555555555555555,
          5.757575757575758,
          5.9595959595959584,
          6.161616161616163,
          6.363636363636363,
          6.565656565656564,
          6.767676767676768,
          6.969696969696969,
          7.171717171717173,
          7.373737373737374,
          7.575757575757574,
          7.777777777777779,
          7.979797979797979,
          8.18181818181818,
          8.383838383838384,
          8.585858585858585,
          8.787878787878789,
          8.98989898989899,
          9.19191919191919,
          9.393939393939394,
          9.595959595959595,
          9.7979797979798,
          10.0
         ],
         "y": [
          9.3576229688393E-14,
          1.7154352096476817E-13,
          3.144728066409576E-13,
          5.764901265897402E-13,
          1.05681909226201E-12,
          1.9373559793225646E-12,
          3.551552217494949E-12,
          6.51068945934593E-12,
          1.1935366465154369E-11,
          2.18798598130648E-11,
          4.011006003318486E-11,
          7.352958060913178E-11,
          1.34794094547132E-10,
          2.4710392434357497E-10,
          4.529897962178983E-10,
          8.304188449756115E-10,
          1.52232006908619E-9,
          2.790710260765653E-9,
          5.11591741412638E-9,
          9.378476621315512E-9,
          1.7192580783519607E-8,
          3.151736086877712E-8,
          5.777748185595393E-8,
          1.0591741327815614E-7,
          1.9416730575990154E-7,
          3.559465690020443E-7,
          6.525194466204743E-7,
          1.1961950474749674E-6,
          2.192857164399292E-6,
          4.019928489476531E-6,
          7.369290039823624E-6,
          1.3509266217705213E-5,
          2.476484697035208E-5,
          4.5397868702434395E-5,
          8.322001972209245E-5,
          1.5254798624649647E-4,
          2.7961473864919175E-4,
          5.124690821944588E-4,
          9.390550390618296E-4,
          0.0017201255952192598,
          0.003148813577679857,
          0.005757286121908169,
          0.010503844513285406,
          0.019088541989923383,
          0.034445195666211216,
          0.061383107403492024,
          0.10705214621417697,
          0.18017659335766972,
          0.28718590138250283,
          0.42481686806284813,
          0.5751831319371519,
          0.7128140986174972,
          0.8198234066423302,
          0.8929478537858231,
          0.9386168925965077,
          0.9655548043337888,
          0.9809114580100766,
          0.9894961554867145,
          0.9942427138780918,
          0.9968511864223202,
          0.9982798744047807,
          0.9990609449609382,
          0.9994875309178055,
          0.9997203852613508,
          0.9998474520137535,
          0.999916779980278,
          0.9999546021312976,
          0.9999752351530297,
          0.9999864907337823,
          0.9999926307099601,
          0.9999959800715105,
          0.9999978071428356,
          0.9999988038049525,
          0.9999993474805534,
          0.999999644053431,
          0.9999998058326942,
          0.9999998940825867,
          0.9999999422225181,
          0.9999999684826392,
          0.9999999828074192,
          0.9999999906215233,
          0.9999999948840825,
          0.9999999972092898,
          0.99999999847768,
          0.9999999991695812,
          0.9999999995470102,
          0.9999999997528961,
          0.9999999998652059,
          0.9999999999264704,
          0.99999999995989,
          0.9999999999781202,
          0.9999999999880647,
          0.9999999999934893,
          0.9999999999964484,
          0.9999999999980627,
          0.9999999999989432,
          0.9999999999994235,
          0.9999999999996855,
          0.9999999999998285,
          0.9999999999999064
         ],
         "type": "scatter"
        },
        {
         "marker": {
          "size": 5
         },
         "mode": "lines",
         "name": "[a=1, b=5]",
         "visible": true,
         "x": [
          -10.0,
          -9.797979797979798,
          -9.595959595959595,
          -9.393939393939394,
          -9.191919191919192,
          -8.98989898989899,
          -8.787878787878787,
          -8.585858585858587,
          -8.383838383838384,
          -8.181818181818182,
          -7.979797979797979,
          -7.777777777777778,
          -7.575757575757576,
          -7.373737373737374,
          -7.171717171717171,
          -6.96969696969697,
          -6.767676767676768,
          -6.565656565656566,
          -6.363636363636363,
          -6.161616161616162,
          -5.959595959595959,
          -5.757575757575758,
          -5.555555555555555,
          -5.353535353535354,
          -5.151515151515151,
          -4.94949494949495,
          -4.747474747474747,
          -4.545454545454546,
          -4.343434343434343,
          -4.141414141414142,
          -3.9393939393939394,
          -3.737373737373738,
          -3.5353535353535355,
          -3.333333333333333,
          -3.1313131313131315,
          -2.929292929292929,
          -2.7272727272727275,
          -2.525252525252525,
          -2.3232323232323235,
          -2.121212121212121,
          -1.9191919191919187,
          -1.717171717171718,
          -1.5151515151515156,
          -1.3131313131313131,
          -1.1111111111111107,
          -0.9090909090909101,
          -0.7070707070707076,
          -0.5050505050505052,
          -0.30303030303030276,
          -0.10101010101010033,
          0.10101010101010033,
          0.30303030303030276,
          0.5050505050505052,
          0.7070707070707076,
          0.9090909090909083,
          1.1111111111111107,
          1.3131313131313131,
          1.5151515151515156,
          1.7171717171717162,
          1.9191919191919187,
          2.121212121212121,
          2.3232323232323235,
          2.525252525252524,
          2.7272727272727266,
          2.929292929292929,
          3.1313131313131315,
          3.333333333333334,
          3.5353535353535346,
          3.737373737373737,
          3.9393939393939394,
          4.141414141414142,
          4.3434343434343425,
          4.545454545454545,
          4.747474747474747,
          4.94949494949495,
          5.1515151515151505,
          5.353535353535353,
          5.555555555555555,
          5.757575757575758,
          5.9595959595959584,
          6.161616161616163,
          6.363636363636363,
          6.565656565656564,
          6.767676767676768,
          6.969696969696969,
          7.171717171717173,
          7.373737373737374,
          7.575757575757574,
          7.777777777777779,
          7.979797979797979,
          8.18181818181818,
          8.383838383838384,
          8.585858585858585,
          8.787878787878789,
          8.98989898989899,
          9.19191919191919,
          9.393939393939394,
          9.595959595959595,
          9.7979797979798,
          10.0
         ],
         "y": [
          0.006692850924284856,
          0.008178942856282161,
          0.009991689936208059,
          0.012201264260636073,
          0.01489211636326034,
          0.018165492507155687,
          0.022142203958132146,
          0.026965570368090212,
          0.03280439090994282,
          0.039855698945889695,
          0.04834692271989781,
          0.05853690287436789,
          0.07071501202714364,
          0.08519740106158838,
          0.10231920350807021,
          0.12242143898621305,
          0.145831483534915,
          0.17283646446618905,
          0.20364993350221933,
          0.23837374421039673,
          0.2769590977881589,
          0.31917282672147035,
          0.36457644074163936,
          0.4125253704018182,
          0.462193510926849,
          0.512623579430075,
          0.5627979536943825,
          0.6117194114071612,
          0.6584884894025207,
          0.7023651150255775,
          0.7428063472356178,
          0.7794778729544306,
          0.8122423109451794,
          0.8411308951190849,
          0.8663062641061464,
          0.8880232903802531,
          0.9065929952831678,
          0.9223524539165752,
          0.9356417590466013,
          0.946787829226089,
          0.956094118850061,
          0.9638349987798123,
          0.9702535746159258,
          0.9755618633816673,
          0.9799424634621496,
          0.983551069306582,
          0.9865193722991542,
          0.9889580416625052,
          0.9909595941910668,
          0.9926010439502804,
          0.9939462793934584,
          0.9950481520656084,
          0.9959502836756298,
          0.9966886111673273,
          0.9972926957603817,
          0.997786824107717,
          0.9981909293563576,
          0.9985213581054557,
          0.9987915067475446,
          0.9990123479114538,
          0.9991928649715159,
          0.9993404100018195,
          0.9994609982133724,
          0.9995595498449819,
          0.9996400886854702,
          0.9997059048694598,
          0.9997596882871811,
          0.9998036378533822,
          0.999839550964121,
          0.9998688967072624,
          0.9998928757595507,
          0.9999124693795559,
          0.9999284794737138,
          0.9999415613567707,
          0.9999522505352297,
          0.9999609846019388,
          0.9999681211326402,
          0.9999739523134972,
          0.9999787168960307,
          0.9999826099673099,
          0.9999857909343468,
          0.9999883900488943,
          0.9999905137393349,
          0.9999922489676634,
          0.9999936667897568,
          0.9999948252645788,
          0.99999577183135,
          0.9999965452519631,
          0.9999971771981447,
          0.999997693548326,
          0.9999981154473127,
          0.9999984601721349,
          0.9999987418395248,
          0.9999989719839888,
          0.9999991600301427,
          0.9999993136786497,
          0.9999994392215643,
          0.9999995417999942,
          0.9999996256146313,
          0.9999996940977731
         ],
         "type": "scatter"
        }
       ],
       "layout": {
        "height": 700,
        "title": {
         "text": "",
         "x": 0.5
        },
        "width": 1000,
        "template": {
         "data": {
          "histogram2dcontour": [
           {
            "type": "histogram2dcontour",
            "colorbar": {
             "outlinewidth": 0,
             "ticks": ""
            },
            "colorscale": [
             [
              0.0,
              "#0d0887"
             ],
             [
              0.1111111111111111,
              "#46039f"
             ],
             [
              0.2222222222222222,
              "#7201a8"
             ],
             [
              0.3333333333333333,
              "#9c179e"
             ],
             [
              0.4444444444444444,
              "#bd3786"
             ],
             [
              0.5555555555555556,
              "#d8576b"
             ],
             [
              0.6666666666666666,
              "#ed7953"
             ],
             [
              0.7777777777777778,
              "#fb9f3a"
             ],
             [
              0.8888888888888888,
              "#fdca26"
             ],
             [
              1.0,
              "#f0f921"
             ]
            ]
           }
          ],
          "choropleth": [
           {
            "type": "choropleth",
            "colorbar": {
             "outlinewidth": 0,
             "ticks": ""
            }
           }
          ],
          "histogram2d": [
           {
            "type": "histogram2d",
            "colorbar": {
             "outlinewidth": 0,
             "ticks": ""
            },
            "colorscale": [
             [
              0.0,
              "#0d0887"
             ],
             [
              0.1111111111111111,
              "#46039f"
             ],
             [
              0.2222222222222222,
              "#7201a8"
             ],
             [
              0.3333333333333333,
              "#9c179e"
             ],
             [
              0.4444444444444444,
              "#bd3786"
             ],
             [
              0.5555555555555556,
              "#d8576b"
             ],
             [
              0.6666666666666666,
              "#ed7953"
             ],
             [
              0.7777777777777778,
              "#fb9f3a"
             ],
             [
              0.8888888888888888,
              "#fdca26"
             ],
             [
              1.0,
              "#f0f921"
             ]
            ]
           }
          ],
          "heatmap": [
           {
            "type": "heatmap",
            "colorbar": {
             "outlinewidth": 0,
             "ticks": ""
            },
            "colorscale": [
             [
              0.0,
              "#0d0887"
             ],
             [
              0.1111111111111111,
              "#46039f"
             ],
             [
              0.2222222222222222,
              "#7201a8"
             ],
             [
              0.3333333333333333,
              "#9c179e"
             ],
             [
              0.4444444444444444,
              "#bd3786"
             ],
             [
              0.5555555555555556,
              "#d8576b"
             ],
             [
              0.6666666666666666,
              "#ed7953"
             ],
             [
              0.7777777777777778,
              "#fb9f3a"
             ],
             [
              0.8888888888888888,
              "#fdca26"
             ],
             [
              1.0,
              "#f0f921"
             ]
            ]
           }
          ],
          "heatmapgl": [
           {
            "type": "heatmapgl",
            "colorbar": {
             "outlinewidth": 0,
             "ticks": ""
            },
            "colorscale": [
             [
              0.0,
              "#0d0887"
             ],
             [
              0.1111111111111111,
              "#46039f"
             ],
             [
              0.2222222222222222,
              "#7201a8"
             ],
             [
              0.3333333333333333,
              "#9c179e"
             ],
             [
              0.4444444444444444,
              "#bd3786"
             ],
             [
              0.5555555555555556,
              "#d8576b"
             ],
             [
              0.6666666666666666,
              "#ed7953"
             ],
             [
              0.7777777777777778,
              "#fb9f3a"
             ],
             [
              0.8888888888888888,
              "#fdca26"
             ],
             [
              1.0,
              "#f0f921"
             ]
            ]
           }
          ],
          "contourcarpet": [
           {
            "type": "contourcarpet",
            "colorbar": {
             "outlinewidth": 0,
             "ticks": ""
            }
           }
          ],
          "contour": [
           {
            "type": "contour",
            "colorbar": {
             "outlinewidth": 0,
             "ticks": ""
            },
            "colorscale": [
             [
              0.0,
              "#0d0887"
             ],
             [
              0.1111111111111111,
              "#46039f"
             ],
             [
              0.2222222222222222,
              "#7201a8"
             ],
             [
              0.3333333333333333,
              "#9c179e"
             ],
             [
              0.4444444444444444,
              "#bd3786"
             ],
             [
              0.5555555555555556,
              "#d8576b"
             ],
             [
              0.6666666666666666,
              "#ed7953"
             ],
             [
              0.7777777777777778,
              "#fb9f3a"
             ],
             [
              0.8888888888888888,
              "#fdca26"
             ],
             [
              1.0,
              "#f0f921"
             ]
            ]
           }
          ],
          "surface": [
           {
            "type": "surface",
            "colorbar": {
             "outlinewidth": 0,
             "ticks": ""
            },
            "colorscale": [
             [
              0.0,
              "#0d0887"
             ],
             [
              0.1111111111111111,
              "#46039f"
             ],
             [
              0.2222222222222222,
              "#7201a8"
             ],
             [
              0.3333333333333333,
              "#9c179e"
             ],
             [
              0.4444444444444444,
              "#bd3786"
             ],
             [
              0.5555555555555556,
              "#d8576b"
             ],
             [
              0.6666666666666666,
              "#ed7953"
             ],
             [
              0.7777777777777778,
              "#fb9f3a"
             ],
             [
              0.8888888888888888,
              "#fdca26"
             ],
             [
              1.0,
              "#f0f921"
             ]
            ]
           }
          ],
          "mesh3d": [
           {
            "type": "mesh3d",
            "colorbar": {
             "outlinewidth": 0,
             "ticks": ""
            }
           }
          ],
          "scatter": [
           {
            "fillpattern": {
             "fillmode": "overlay",
             "size": 10,
             "solidity": 0.2
            },
            "type": "scatter"
           }
          ],
          "parcoords": [
           {
            "type": "parcoords",
            "line": {
             "colorbar": {
              "outlinewidth": 0,
              "ticks": ""
             }
            }
           }
          ],
          "scatterpolargl": [
           {
            "type": "scatterpolargl",
            "marker": {
             "colorbar": {
              "outlinewidth": 0,
              "ticks": ""
             }
            }
           }
          ],
          "bar": [
           {
            "error_x": {
             "color": "#2a3f5f"
            },
            "error_y": {
             "color": "#2a3f5f"
            },
            "marker": {
             "line": {
              "color": "#E5ECF6",
              "width": 0.5
             },
             "pattern": {
              "fillmode": "overlay",
              "size": 10,
              "solidity": 0.2
             }
            },
            "type": "bar"
           }
          ],
          "scattergeo": [
           {
            "type": "scattergeo",
            "marker": {
             "colorbar": {
              "outlinewidth": 0,
              "ticks": ""
             }
            }
           }
          ],
          "scatterpolar": [
           {
            "type": "scatterpolar",
            "marker": {
             "colorbar": {
              "outlinewidth": 0,
              "ticks": ""
             }
            }
           }
          ],
          "histogram": [
           {
            "marker": {
             "pattern": {
              "fillmode": "overlay",
              "size": 10,
              "solidity": 0.2
             }
            },
            "type": "histogram"
           }
          ],
          "scattergl": [
           {
            "type": "scattergl",
            "marker": {
             "colorbar": {
              "outlinewidth": 0,
              "ticks": ""
             }
            }
           }
          ],
          "scatter3d": [
           {
            "type": "scatter3d",
            "line": {
             "colorbar": {
              "outlinewidth": 0,
              "ticks": ""
             }
            },
            "marker": {
             "colorbar": {
              "outlinewidth": 0,
              "ticks": ""
             }
            }
           }
          ],
          "scattermapbox": [
           {
            "type": "scattermapbox",
            "marker": {
             "colorbar": {
              "outlinewidth": 0,
              "ticks": ""
             }
            }
           }
          ],
          "scatterternary": [
           {
            "type": "scatterternary",
            "marker": {
             "colorbar": {
              "outlinewidth": 0,
              "ticks": ""
             }
            }
           }
          ],
          "scattercarpet": [
           {
            "type": "scattercarpet",
            "marker": {
             "colorbar": {
              "outlinewidth": 0,
              "ticks": ""
             }
            }
           }
          ],
          "carpet": [
           {
            "aaxis": {
             "endlinecolor": "#2a3f5f",
             "gridcolor": "white",
             "linecolor": "white",
             "minorgridcolor": "white",
             "startlinecolor": "#2a3f5f"
            },
            "baxis": {
             "endlinecolor": "#2a3f5f",
             "gridcolor": "white",
             "linecolor": "white",
             "minorgridcolor": "white",
             "startlinecolor": "#2a3f5f"
            },
            "type": "carpet"
           }
          ],
          "table": [
           {
            "cells": {
             "fill": {
              "color": "#EBF0F8"
             },
             "line": {
              "color": "white"
             }
            },
            "header": {
             "fill": {
              "color": "#C8D4E3"
             },
             "line": {
              "color": "white"
             }
            },
            "type": "table"
           }
          ],
          "barpolar": [
           {
            "marker": {
             "line": {
              "color": "#E5ECF6",
              "width": 0.5
             },
             "pattern": {
              "fillmode": "overlay",
              "size": 10,
              "solidity": 0.2
             }
            },
            "type": "barpolar"
           }
          ],
          "pie": [
           {
            "automargin": true,
            "type": "pie"
           }
          ]
         },
         "layout": {
          "autotypenumbers": "strict",
          "colorway": [
           "#636efa",
           "#EF553B",
           "#00cc96",
           "#ab63fa",
           "#FFA15A",
           "#19d3f3",
           "#FF6692",
           "#B6E880",
           "#FF97FF",
           "#FECB52"
          ],
          "font": {
           "color": "#2a3f5f"
          },
          "hovermode": "closest",
          "hoverlabel": {
           "align": "left"
          },
          "paper_bgcolor": "white",
          "plot_bgcolor": "#E5ECF6",
          "polar": {
           "bgcolor": "#E5ECF6",
           "angularaxis": {
            "gridcolor": "white",
            "linecolor": "white",
            "ticks": ""
           },
           "radialaxis": {
            "gridcolor": "white",
            "linecolor": "white",
            "ticks": ""
           }
          },
          "ternary": {
           "bgcolor": "#E5ECF6",
           "aaxis": {
            "gridcolor": "white",
            "linecolor": "white",
            "ticks": ""
           },
           "baxis": {
            "gridcolor": "white",
            "linecolor": "white",
            "ticks": ""
           },
           "caxis": {
            "gridcolor": "white",
            "linecolor": "white",
            "ticks": ""
           }
          },
          "coloraxis": {
           "colorbar": {
            "outlinewidth": 0,
            "ticks": ""
           }
          },
          "colorscale": {
           "sequential": [
            [
             0.0,
             "#0d0887"
            ],
            [
             0.1111111111111111,
             "#46039f"
            ],
            [
             0.2222222222222222,
             "#7201a8"
            ],
            [
             0.3333333333333333,
             "#9c179e"
            ],
            [
             0.4444444444444444,
             "#bd3786"
            ],
            [
             0.5555555555555556,
             "#d8576b"
            ],
            [
             0.6666666666666666,
             "#ed7953"
            ],
            [
             0.7777777777777778,
             "#fb9f3a"
            ],
            [
             0.8888888888888888,
             "#fdca26"
            ],
            [
             1.0,
             "#f0f921"
            ]
           ],
           "sequentialminus": [
            [
             0.0,
             "#0d0887"
            ],
            [
             0.1111111111111111,
             "#46039f"
            ],
            [
             0.2222222222222222,
             "#7201a8"
            ],
            [
             0.3333333333333333,
             "#9c179e"
            ],
            [
             0.4444444444444444,
             "#bd3786"
            ],
            [
             0.5555555555555556,
             "#d8576b"
            ],
            [
             0.6666666666666666,
             "#ed7953"
            ],
            [
             0.7777777777777778,
             "#fb9f3a"
            ],
            [
             0.8888888888888888,
             "#fdca26"
            ],
            [
             1.0,
             "#f0f921"
            ]
           ],
           "diverging": [
            [
             0,
             "#8e0152"
            ],
            [
             0.1,
             "#c51b7d"
            ],
            [
             0.2,
             "#de77ae"
            ],
            [
             0.3,
             "#f1b6da"
            ],
            [
             0.4,
             "#fde0ef"
            ],
            [
             0.5,
             "#f7f7f7"
            ],
            [
             0.6,
             "#e6f5d0"
            ],
            [
             0.7,
             "#b8e186"
            ],
            [
             0.8,
             "#7fbc41"
            ],
            [
             0.9,
             "#4d9221"
            ],
            [
             1,
             "#276419"
            ]
           ]
          },
          "xaxis": {
           "gridcolor": "white",
           "linecolor": "white",
           "ticks": "",
           "title": {
            "standoff": 15
           },
           "zerolinecolor": "white",
           "automargin": true,
           "zerolinewidth": 2
          },
          "yaxis": {
           "gridcolor": "white",
           "linecolor": "white",
           "ticks": "",
           "title": {
            "standoff": 15
           },
           "zerolinecolor": "white",
           "automargin": true,
           "zerolinewidth": 2
          },
          "scene": {
           "xaxis": {
            "backgroundcolor": "#E5ECF6",
            "gridcolor": "white",
            "linecolor": "white",
            "showbackground": true,
            "ticks": "",
            "zerolinecolor": "white",
            "gridwidth": 2
           },
           "yaxis": {
            "backgroundcolor": "#E5ECF6",
            "gridcolor": "white",
            "linecolor": "white",
            "showbackground": true,
            "ticks": "",
            "zerolinecolor": "white",
            "gridwidth": 2
           },
           "zaxis": {
            "backgroundcolor": "#E5ECF6",
            "gridcolor": "white",
            "linecolor": "white",
            "showbackground": true,
            "ticks": "",
            "zerolinecolor": "white",
            "gridwidth": 2
           }
          },
          "shapedefaults": {
           "line": {
            "color": "#2a3f5f"
           }
          },
          "annotationdefaults": {
           "arrowcolor": "#2a3f5f",
           "arrowhead": 0,
           "arrowwidth": 1
          },
          "geo": {
           "bgcolor": "white",
           "landcolor": "#E5ECF6",
           "subunitcolor": "white",
           "showland": true,
           "showlakes": true,
           "lakecolor": "white"
          },
          "title": {
           "x": 0.05
          },
          "mapbox": {
           "style": "light"
          }
         }
        }
       },
       "config": {
        "plotlyServerURL": "https://plot.ly"
       }
      },
      "text/html": "<div>                            <div id=\"40ebec02-a782-4afd-bfa0-013ec8cf0504\" class=\"plotly-graph-div\" style=\"height:700px; width:1000px;\"></div>            <script type=\"text/javascript\">                require([\"plotly\"], function(Plotly) {                    window.PLOTLYENV=window.PLOTLYENV || {};                                    if (document.getElementById(\"40ebec02-a782-4afd-bfa0-013ec8cf0504\")) {                    Plotly.newPlot(                        \"40ebec02-a782-4afd-bfa0-013ec8cf0504\",                        [{\"marker\":{\"size\":5},\"mode\":\"lines\",\"name\":\"[a=1, b=-5]\",\"visible\":true,\"x\":[-10.0,-9.797979797979798,-9.595959595959595,-9.393939393939394,-9.191919191919192,-8.98989898989899,-8.787878787878787,-8.585858585858587,-8.383838383838384,-8.181818181818182,-7.979797979797979,-7.777777777777778,-7.575757575757576,-7.373737373737374,-7.171717171717171,-6.96969696969697,-6.767676767676768,-6.565656565656566,-6.363636363636363,-6.161616161616162,-5.959595959595959,-5.757575757575758,-5.555555555555555,-5.353535353535354,-5.151515151515151,-4.94949494949495,-4.747474747474747,-4.545454545454546,-4.343434343434343,-4.141414141414142,-3.9393939393939394,-3.737373737373738,-3.5353535353535355,-3.333333333333333,-3.1313131313131315,-2.929292929292929,-2.7272727272727275,-2.525252525252525,-2.3232323232323235,-2.121212121212121,-1.9191919191919187,-1.717171717171718,-1.5151515151515156,-1.3131313131313131,-1.1111111111111107,-0.9090909090909101,-0.7070707070707076,-0.5050505050505052,-0.30303030303030276,-0.10101010101010033,0.10101010101010033,0.30303030303030276,0.5050505050505052,0.7070707070707076,0.9090909090909083,1.1111111111111107,1.3131313131313131,1.5151515151515156,1.7171717171717162,1.9191919191919187,2.121212121212121,2.3232323232323235,2.525252525252524,2.7272727272727266,2.929292929292929,3.1313131313131315,3.333333333333334,3.5353535353535346,3.737373737373737,3.9393939393939394,4.141414141414142,4.3434343434343425,4.545454545454545,4.747474747474747,4.94949494949495,5.1515151515151505,5.353535353535353,5.555555555555555,5.757575757575758,5.9595959595959584,6.161616161616163,6.363636363636363,6.565656565656564,6.767676767676768,6.969696969696969,7.171717171717173,7.373737373737374,7.575757575757574,7.777777777777779,7.979797979797979,8.18181818181818,8.383838383838384,8.585858585858585,8.787878787878789,8.98989898989899,9.19191919191919,9.393939393939394,9.595959595959595,9.7979797979798,10.0],\"y\":[3.059022269256247e-07,3.7438536872556216e-07,4.582000058499815e-07,5.607784356963248e-07,6.863213502953829e-07,8.399698573423101e-07,1.0280160112616687e-06,1.2581604752625912e-06,1.539827865142784e-06,1.8845526873360723e-06,2.30645167401761e-06,2.8228018552467237e-06,3.4547480368431424e-06,4.2281686500022396e-06,5.1747354211587054e-06,6.3332102432744435e-06,7.751032336663982e-06,9.486260665074935e-06,1.1609951105744416e-05,1.4209065653199503e-05,1.7390032690069667e-05,2.128310396935608e-05,2.6047686502819377e-05,3.187886735979003e-05,3.9015398061198876e-05,4.774946477027837e-05,5.843864322924198e-05,7.1520526286181e-05,8.753062044408382e-05,0.0001071242404493269,0.0001311032927375645,0.0001604490358789781,0.00019636214661781953,0.00024031171281892674,0.0002940951305402059,0.0003599113145298554,0.0004404501550181943,0.0005390017866275777,0.0006595899981805367,0.0008071350284840316,0.0009876520885462562,0.0012084932524554547,0.0014786418945442624,0.0018090706436424834,0.002213175892282979,0.002707304239618331,0.0033113888326726446,0.004049716324370245,0.00495184793439168,0.006053720606541651,0.007398956049719667,0.009040405808933128,0.011041958337494755,0.013480627700845842,0.016448930693417945,0.020057536537850404,0.024438136618332742,0.029746425384074217,0.036165001220187704,0.043905881149938986,0.053212170773911056,0.06435824095339866,0.07764754608342472,0.09340700471683211,0.11197670961974694,0.13369373589385358,0.1588691048809152,0.1877576890548204,0.22052212704556928,0.2571936527643822,0.2976348849744225,0.34151151059747914,0.3882805885928385,0.4372020463056176,0.48737642056992503,0.5378064890731508,0.5874746295981816,0.6354235592583606,0.6808271732785297,0.7230409022118409,0.7616262557896034,0.7963500664977806,0.8271635355338107,0.854168516465085,0.877578561013787,0.89768079649193,0.9148025989384116,0.9292849879728562,0.9414630971256321,0.9516530772801022,0.9601443010541102,0.9671956090900572,0.9730344296319098,0.9778577960418678,0.9818345074928443,0.9851078836367396,0.9877987357393639,0.990008310063792,0.9918210571437178,0.9933071490757152],\"type\":\"scatter\"},{\"marker\":{\"size\":5},\"mode\":\"lines\",\"name\":\"[a=-1, b=0]\",\"visible\":true,\"x\":[-10.0,-9.797979797979798,-9.595959595959595,-9.393939393939394,-9.191919191919192,-8.98989898989899,-8.787878787878787,-8.585858585858587,-8.383838383838384,-8.181818181818182,-7.979797979797979,-7.777777777777778,-7.575757575757576,-7.373737373737374,-7.171717171717171,-6.96969696969697,-6.767676767676768,-6.565656565656566,-6.363636363636363,-6.161616161616162,-5.959595959595959,-5.757575757575758,-5.555555555555555,-5.353535353535354,-5.151515151515151,-4.94949494949495,-4.747474747474747,-4.545454545454546,-4.343434343434343,-4.141414141414142,-3.9393939393939394,-3.737373737373738,-3.5353535353535355,-3.333333333333333,-3.1313131313131315,-2.929292929292929,-2.7272727272727275,-2.525252525252525,-2.3232323232323235,-2.121212121212121,-1.9191919191919187,-1.717171717171718,-1.5151515151515156,-1.3131313131313131,-1.1111111111111107,-0.9090909090909101,-0.7070707070707076,-0.5050505050505052,-0.30303030303030276,-0.10101010101010033,0.10101010101010033,0.30303030303030276,0.5050505050505052,0.7070707070707076,0.9090909090909083,1.1111111111111107,1.3131313131313131,1.5151515151515156,1.7171717171717162,1.9191919191919187,2.121212121212121,2.3232323232323235,2.525252525252524,2.7272727272727266,2.929292929292929,3.1313131313131315,3.333333333333334,3.5353535353535346,3.737373737373737,3.9393939393939394,4.141414141414142,4.3434343434343425,4.545454545454545,4.747474747474747,4.94949494949495,5.1515151515151505,5.353535353535353,5.555555555555555,5.757575757575758,5.9595959595959584,6.161616161616163,6.363636363636363,6.565656565656564,6.767676767676768,6.969696969696969,7.171717171717173,7.373737373737374,7.575757575757574,7.777777777777779,7.979797979797979,8.18181818181818,8.383838383838384,8.585858585858585,8.787878787878789,8.98989898989899,9.19191919191919,9.393939393939394,9.595959595959595,9.7979797979798,10.0],\"y\":[0.9999546021312976,0.9999444393510606,0.9999320016825577,0.999916779980278,0.9998981511845728,0.9998753528540558,0.9998474520137535,0.9998133070550387,0.9997715211446787,0.9997203852613508,0.9996578085662834,0.9995812333155556,0.9994875309178055,0.9993728750127243,0.9992325865700817,0.9990609449609382,0.9988509577051191,0.9985940801244914,0.9982798744047807,0.9978955955708816,0.9974256896068625,0.9968511864223202,0.9961489676440698,0.995290886427886,0.9942427138780918,0.9929628846354356,0.9914010133898106,0.9894961554867145,0.9871747899072353,0.9843485138571816,0.9809114580100766,0.9767374641691144,0.9716771179556968,0.9655548043337888,0.9581660599944802,0.9492756394379457,0.9386168925965077,0.9258932636749526,0.9107829397488015,0.8929478537858229,0.8720482950755473,0.8477641768561095,0.8198234066423302,0.7880366661307628,0.7523361988609283,0.7128140986174976,0.6697535703681885,0.623645482503293,0.5751831319371523,0.5252310760920886,0.4747689239079114,0.4248168680628477,0.376354517496707,0.3302464296318115,0.28718590138250283,0.24766380113907174,0.21196333386923716,0.18017659335766972,0.15223582314389075,0.12795170492445268,0.10705214621417714,0.08921706025119842,0.0741067363250474,0.06138310740349223,0.050724360562054364,0.04183394000551972,0.034445195666211154,0.02832288204430322,0.02326253583088552,0.019088541989923383,0.01565148614281837,0.012825210092764695,0.010503844513285425,0.008598986610189428,0.007037115364564376,0.00575728612190819,0.004709113572114015,0.003851032355930255,0.0031488135776798517,0.0025743103931375336,0.0021044044291184316,0.0017201255952192598,0.0014059198755086344,0.001149042294880872,0.0009390550390618312,0.0007674134299182648,0.0006271249872756847,0.0005124690821944592,0.0004187666844443732,0.00034219143371662803,0.0002796147386491927,0.00022847885532128423,0.0001866929449613085,0.0001525479862464962,0.00012464714594414533,0.00010184881542721287,8.322001972209245e-05,6.799831744235803e-05,5.556064893935837e-05,4.5397868702434395e-05],\"type\":\"scatter\"},{\"marker\":{\"size\":5},\"mode\":\"lines\",\"name\":\"[a=2, b=0]\",\"visible\":true,\"x\":[-10.0,-9.797979797979798,-9.595959595959595,-9.393939393939394,-9.191919191919192,-8.98989898989899,-8.787878787878787,-8.585858585858587,-8.383838383838384,-8.181818181818182,-7.979797979797979,-7.777777777777778,-7.575757575757576,-7.373737373737374,-7.171717171717171,-6.96969696969697,-6.767676767676768,-6.565656565656566,-6.363636363636363,-6.161616161616162,-5.959595959595959,-5.757575757575758,-5.555555555555555,-5.353535353535354,-5.151515151515151,-4.94949494949495,-4.747474747474747,-4.545454545454546,-4.343434343434343,-4.141414141414142,-3.9393939393939394,-3.737373737373738,-3.5353535353535355,-3.333333333333333,-3.1313131313131315,-2.929292929292929,-2.7272727272727275,-2.525252525252525,-2.3232323232323235,-2.121212121212121,-1.9191919191919187,-1.717171717171718,-1.5151515151515156,-1.3131313131313131,-1.1111111111111107,-0.9090909090909101,-0.7070707070707076,-0.5050505050505052,-0.30303030303030276,-0.10101010101010033,0.10101010101010033,0.30303030303030276,0.5050505050505052,0.7070707070707076,0.9090909090909083,1.1111111111111107,1.3131313131313131,1.5151515151515156,1.7171717171717162,1.9191919191919187,2.121212121212121,2.3232323232323235,2.525252525252524,2.7272727272727266,2.929292929292929,3.1313131313131315,3.333333333333334,3.5353535353535346,3.737373737373737,3.9393939393939394,4.141414141414142,4.3434343434343425,4.545454545454545,4.747474747474747,4.94949494949495,5.1515151515151505,5.353535353535353,5.555555555555555,5.757575757575758,5.9595959595959584,6.161616161616163,6.363636363636363,6.565656565656564,6.767676767676768,6.969696969696969,7.171717171717173,7.373737373737374,7.575757575757574,7.777777777777779,7.979797979797979,8.18181818181818,8.383838383838384,8.585858585858585,8.787878787878789,8.98989898989899,9.19191919191919,9.393939393939394,9.595959595959595,9.7979797979798,10.0],\"y\":[2.0611536181902033e-09,3.087328759480287e-09,4.624400035070485e-09,6.92672447089656e-09,1.0375294411567877e-08,1.5540784738036146e-08,2.3277989045167742e-08,3.4867272215245655e-08,5.2226447153939444e-08,7.822813731775803e-08,1.1717514252783525e-07,1.7551247199480786e-07,2.6289387208313746e-07,3.9377933765415523e-07,5.898279614899505e-07,8.834820848427416e-07,1.3233358387273202e-06,1.9821764228272036e-06,2.9690286981269723e-06,4.44719601028049e-06,6.661282126215009e-06,9.977664701523608e-06,1.4945115164976019e-05,2.2385590375441967e-05,3.353020666906254e-05,5.0222866695513536e-05,7.522516643569822e-05,0.00011267288389847108,0.00016875924232932486,0.0002527572358434821,0.00037854844587133555,0.0005669074228733035,0.0008489108847501614,0.001271016263081359,0.0019026061381274754,0.0028471491925988668,0.004258607051910033,0.006365320365320529,0.009504267527927608,0.014169058922504332,0.02107466348342941,0.031239217498255204,0.04607550624931939,0.06746720912569881,0.09777259985079938,0.13965218341675986,0.19558166828746176,0.2669600833870327,0.35295834979419605,0.4496660197129983,0.5503339802870018,0.6470416502058041,0.7330399166129673,0.8044183317125383,0.8603478165832397,0.9022274001492006,0.9325327908743012,0.9539244937506807,0.9687607825017447,0.9789253365165705,0.9858309410774957,0.9904957324720723,0.9936346796346794,0.9957413929480899,0.9971528508074011,0.9980973938618726,0.9987289837369187,0.9991510891152499,0.9994330925771266,0.9996214515541286,0.9997472427641565,0.9998312407576707,0.9998873271161015,0.9999247748335643,0.9999497771333045,0.9999664697933309,0.9999776144096245,0.999985054884835,0.9999900223352984,0.9999933387178738,0.9999955528039898,0.9999970309713019,0.9999980178235772,0.9999986766641613,0.9999991165179152,0.9999994101720385,0.9999996062206623,0.9999997371061279,0.999999824487528,0.9999998828248575,0.9999999217718627,0.9999999477735528,0.9999999651327278,0.9999999767220109,0.9999999844592152,0.9999999896247056,0.9999999930732756,0.9999999953755999,0.9999999969126713,0.9999999979388464],\"type\":\"scatter\"},{\"marker\":{\"size\":5},\"mode\":\"lines\",\"name\":\"[a=3, b=0]\",\"visible\":true,\"x\":[-10.0,-9.797979797979798,-9.595959595959595,-9.393939393939394,-9.191919191919192,-8.98989898989899,-8.787878787878787,-8.585858585858587,-8.383838383838384,-8.181818181818182,-7.979797979797979,-7.777777777777778,-7.575757575757576,-7.373737373737374,-7.171717171717171,-6.96969696969697,-6.767676767676768,-6.565656565656566,-6.363636363636363,-6.161616161616162,-5.959595959595959,-5.757575757575758,-5.555555555555555,-5.353535353535354,-5.151515151515151,-4.94949494949495,-4.747474747474747,-4.545454545454546,-4.343434343434343,-4.141414141414142,-3.9393939393939394,-3.737373737373738,-3.5353535353535355,-3.333333333333333,-3.1313131313131315,-2.929292929292929,-2.7272727272727275,-2.525252525252525,-2.3232323232323235,-2.121212121212121,-1.9191919191919187,-1.717171717171718,-1.5151515151515156,-1.3131313131313131,-1.1111111111111107,-0.9090909090909101,-0.7070707070707076,-0.5050505050505052,-0.30303030303030276,-0.10101010101010033,0.10101010101010033,0.30303030303030276,0.5050505050505052,0.7070707070707076,0.9090909090909083,1.1111111111111107,1.3131313131313131,1.5151515151515156,1.7171717171717162,1.9191919191919187,2.121212121212121,2.3232323232323235,2.525252525252524,2.7272727272727266,2.929292929292929,3.1313131313131315,3.333333333333334,3.5353535353535346,3.737373737373737,3.9393939393939394,4.141414141414142,4.3434343434343425,4.545454545454545,4.747474747474747,4.94949494949495,5.1515151515151505,5.353535353535353,5.555555555555555,5.757575757575758,5.9595959595959584,6.161616161616163,6.363636363636363,6.565656565656564,6.767676767676768,6.969696969696969,7.171717171717173,7.373737373737374,7.575757575757574,7.777777777777779,7.979797979797979,8.18181818181818,8.383838383838384,8.585858585858585,8.787878787878789,8.98989898989899,9.19191919191919,9.393939393939394,9.595959595959595,9.7979797979798,10.0],\"y\":[9.3576229688393e-14,1.7154352096476817e-13,3.144728066409576e-13,5.764901265897402e-13,1.05681909226201e-12,1.9373559793225646e-12,3.551552217494949e-12,6.51068945934593e-12,1.1935366465154369e-11,2.18798598130648e-11,4.011006003318486e-11,7.352958060913178e-11,1.34794094547132e-10,2.4710392434357497e-10,4.529897962178983e-10,8.304188449756115e-10,1.52232006908619e-09,2.790710260765653e-09,5.11591741412638e-09,9.378476621315512e-09,1.7192580783519607e-08,3.151736086877712e-08,5.777748185595393e-08,1.0591741327815614e-07,1.9416730575990154e-07,3.559465690020443e-07,6.525194466204743e-07,1.1961950474749674e-06,2.192857164399292e-06,4.019928489476531e-06,7.369290039823624e-06,1.3509266217705213e-05,2.476484697035208e-05,4.5397868702434395e-05,8.322001972209245e-05,0.00015254798624649647,0.00027961473864919175,0.0005124690821944588,0.0009390550390618296,0.0017201255952192598,0.003148813577679857,0.005757286121908169,0.010503844513285406,0.019088541989923383,0.034445195666211216,0.061383107403492024,0.10705214621417697,0.18017659335766972,0.28718590138250283,0.42481686806284813,0.5751831319371519,0.7128140986174972,0.8198234066423302,0.8929478537858231,0.9386168925965077,0.9655548043337888,0.9809114580100766,0.9894961554867145,0.9942427138780918,0.9968511864223202,0.9982798744047807,0.9990609449609382,0.9994875309178055,0.9997203852613508,0.9998474520137535,0.999916779980278,0.9999546021312976,0.9999752351530297,0.9999864907337823,0.9999926307099601,0.9999959800715105,0.9999978071428356,0.9999988038049525,0.9999993474805534,0.999999644053431,0.9999998058326942,0.9999998940825867,0.9999999422225181,0.9999999684826392,0.9999999828074192,0.9999999906215233,0.9999999948840825,0.9999999972092898,0.99999999847768,0.9999999991695812,0.9999999995470102,0.9999999997528961,0.9999999998652059,0.9999999999264704,0.99999999995989,0.9999999999781202,0.9999999999880647,0.9999999999934893,0.9999999999964484,0.9999999999980627,0.9999999999989432,0.9999999999994235,0.9999999999996855,0.9999999999998285,0.9999999999999064],\"type\":\"scatter\"},{\"marker\":{\"size\":5},\"mode\":\"lines\",\"name\":\"[a=1, b=5]\",\"visible\":true,\"x\":[-10.0,-9.797979797979798,-9.595959595959595,-9.393939393939394,-9.191919191919192,-8.98989898989899,-8.787878787878787,-8.585858585858587,-8.383838383838384,-8.181818181818182,-7.979797979797979,-7.777777777777778,-7.575757575757576,-7.373737373737374,-7.171717171717171,-6.96969696969697,-6.767676767676768,-6.565656565656566,-6.363636363636363,-6.161616161616162,-5.959595959595959,-5.757575757575758,-5.555555555555555,-5.353535353535354,-5.151515151515151,-4.94949494949495,-4.747474747474747,-4.545454545454546,-4.343434343434343,-4.141414141414142,-3.9393939393939394,-3.737373737373738,-3.5353535353535355,-3.333333333333333,-3.1313131313131315,-2.929292929292929,-2.7272727272727275,-2.525252525252525,-2.3232323232323235,-2.121212121212121,-1.9191919191919187,-1.717171717171718,-1.5151515151515156,-1.3131313131313131,-1.1111111111111107,-0.9090909090909101,-0.7070707070707076,-0.5050505050505052,-0.30303030303030276,-0.10101010101010033,0.10101010101010033,0.30303030303030276,0.5050505050505052,0.7070707070707076,0.9090909090909083,1.1111111111111107,1.3131313131313131,1.5151515151515156,1.7171717171717162,1.9191919191919187,2.121212121212121,2.3232323232323235,2.525252525252524,2.7272727272727266,2.929292929292929,3.1313131313131315,3.333333333333334,3.5353535353535346,3.737373737373737,3.9393939393939394,4.141414141414142,4.3434343434343425,4.545454545454545,4.747474747474747,4.94949494949495,5.1515151515151505,5.353535353535353,5.555555555555555,5.757575757575758,5.9595959595959584,6.161616161616163,6.363636363636363,6.565656565656564,6.767676767676768,6.969696969696969,7.171717171717173,7.373737373737374,7.575757575757574,7.777777777777779,7.979797979797979,8.18181818181818,8.383838383838384,8.585858585858585,8.787878787878789,8.98989898989899,9.19191919191919,9.393939393939394,9.595959595959595,9.7979797979798,10.0],\"y\":[0.006692850924284856,0.008178942856282161,0.009991689936208059,0.012201264260636073,0.01489211636326034,0.018165492507155687,0.022142203958132146,0.026965570368090212,0.03280439090994282,0.039855698945889695,0.04834692271989781,0.05853690287436789,0.07071501202714364,0.08519740106158838,0.10231920350807021,0.12242143898621305,0.145831483534915,0.17283646446618905,0.20364993350221933,0.23837374421039673,0.2769590977881589,0.31917282672147035,0.36457644074163936,0.4125253704018182,0.462193510926849,0.512623579430075,0.5627979536943825,0.6117194114071612,0.6584884894025207,0.7023651150255775,0.7428063472356178,0.7794778729544306,0.8122423109451794,0.8411308951190849,0.8663062641061464,0.8880232903802531,0.9065929952831678,0.9223524539165752,0.9356417590466013,0.946787829226089,0.956094118850061,0.9638349987798123,0.9702535746159258,0.9755618633816673,0.9799424634621496,0.983551069306582,0.9865193722991542,0.9889580416625052,0.9909595941910668,0.9926010439502804,0.9939462793934584,0.9950481520656084,0.9959502836756298,0.9966886111673273,0.9972926957603817,0.997786824107717,0.9981909293563576,0.9985213581054557,0.9987915067475446,0.9990123479114538,0.9991928649715159,0.9993404100018195,0.9994609982133724,0.9995595498449819,0.9996400886854702,0.9997059048694598,0.9997596882871811,0.9998036378533822,0.999839550964121,0.9998688967072624,0.9998928757595507,0.9999124693795559,0.9999284794737138,0.9999415613567707,0.9999522505352297,0.9999609846019388,0.9999681211326402,0.9999739523134972,0.9999787168960307,0.9999826099673099,0.9999857909343468,0.9999883900488943,0.9999905137393349,0.9999922489676634,0.9999936667897568,0.9999948252645788,0.99999577183135,0.9999965452519631,0.9999971771981447,0.999997693548326,0.9999981154473127,0.9999984601721349,0.9999987418395248,0.9999989719839888,0.9999991600301427,0.9999993136786497,0.9999994392215643,0.9999995417999942,0.9999996256146313,0.9999996940977731],\"type\":\"scatter\"}],                        {\"height\":700,\"title\":{\"text\":\"\",\"x\":0.5},\"width\":1000,\"template\":{\"data\":{\"histogram2dcontour\":[{\"type\":\"histogram2dcontour\",\"colorbar\":{\"outlinewidth\":0,\"ticks\":\"\"},\"colorscale\":[[0.0,\"#0d0887\"],[0.1111111111111111,\"#46039f\"],[0.2222222222222222,\"#7201a8\"],[0.3333333333333333,\"#9c179e\"],[0.4444444444444444,\"#bd3786\"],[0.5555555555555556,\"#d8576b\"],[0.6666666666666666,\"#ed7953\"],[0.7777777777777778,\"#fb9f3a\"],[0.8888888888888888,\"#fdca26\"],[1.0,\"#f0f921\"]]}],\"choropleth\":[{\"type\":\"choropleth\",\"colorbar\":{\"outlinewidth\":0,\"ticks\":\"\"}}],\"histogram2d\":[{\"type\":\"histogram2d\",\"colorbar\":{\"outlinewidth\":0,\"ticks\":\"\"},\"colorscale\":[[0.0,\"#0d0887\"],[0.1111111111111111,\"#46039f\"],[0.2222222222222222,\"#7201a8\"],[0.3333333333333333,\"#9c179e\"],[0.4444444444444444,\"#bd3786\"],[0.5555555555555556,\"#d8576b\"],[0.6666666666666666,\"#ed7953\"],[0.7777777777777778,\"#fb9f3a\"],[0.8888888888888888,\"#fdca26\"],[1.0,\"#f0f921\"]]}],\"heatmap\":[{\"type\":\"heatmap\",\"colorbar\":{\"outlinewidth\":0,\"ticks\":\"\"},\"colorscale\":[[0.0,\"#0d0887\"],[0.1111111111111111,\"#46039f\"],[0.2222222222222222,\"#7201a8\"],[0.3333333333333333,\"#9c179e\"],[0.4444444444444444,\"#bd3786\"],[0.5555555555555556,\"#d8576b\"],[0.6666666666666666,\"#ed7953\"],[0.7777777777777778,\"#fb9f3a\"],[0.8888888888888888,\"#fdca26\"],[1.0,\"#f0f921\"]]}],\"heatmapgl\":[{\"type\":\"heatmapgl\",\"colorbar\":{\"outlinewidth\":0,\"ticks\":\"\"},\"colorscale\":[[0.0,\"#0d0887\"],[0.1111111111111111,\"#46039f\"],[0.2222222222222222,\"#7201a8\"],[0.3333333333333333,\"#9c179e\"],[0.4444444444444444,\"#bd3786\"],[0.5555555555555556,\"#d8576b\"],[0.6666666666666666,\"#ed7953\"],[0.7777777777777778,\"#fb9f3a\"],[0.8888888888888888,\"#fdca26\"],[1.0,\"#f0f921\"]]}],\"contourcarpet\":[{\"type\":\"contourcarpet\",\"colorbar\":{\"outlinewidth\":0,\"ticks\":\"\"}}],\"contour\":[{\"type\":\"contour\",\"colorbar\":{\"outlinewidth\":0,\"ticks\":\"\"},\"colorscale\":[[0.0,\"#0d0887\"],[0.1111111111111111,\"#46039f\"],[0.2222222222222222,\"#7201a8\"],[0.3333333333333333,\"#9c179e\"],[0.4444444444444444,\"#bd3786\"],[0.5555555555555556,\"#d8576b\"],[0.6666666666666666,\"#ed7953\"],[0.7777777777777778,\"#fb9f3a\"],[0.8888888888888888,\"#fdca26\"],[1.0,\"#f0f921\"]]}],\"surface\":[{\"type\":\"surface\",\"colorbar\":{\"outlinewidth\":0,\"ticks\":\"\"},\"colorscale\":[[0.0,\"#0d0887\"],[0.1111111111111111,\"#46039f\"],[0.2222222222222222,\"#7201a8\"],[0.3333333333333333,\"#9c179e\"],[0.4444444444444444,\"#bd3786\"],[0.5555555555555556,\"#d8576b\"],[0.6666666666666666,\"#ed7953\"],[0.7777777777777778,\"#fb9f3a\"],[0.8888888888888888,\"#fdca26\"],[1.0,\"#f0f921\"]]}],\"mesh3d\":[{\"type\":\"mesh3d\",\"colorbar\":{\"outlinewidth\":0,\"ticks\":\"\"}}],\"scatter\":[{\"fillpattern\":{\"fillmode\":\"overlay\",\"size\":10,\"solidity\":0.2},\"type\":\"scatter\"}],\"parcoords\":[{\"type\":\"parcoords\",\"line\":{\"colorbar\":{\"outlinewidth\":0,\"ticks\":\"\"}}}],\"scatterpolargl\":[{\"type\":\"scatterpolargl\",\"marker\":{\"colorbar\":{\"outlinewidth\":0,\"ticks\":\"\"}}}],\"bar\":[{\"error_x\":{\"color\":\"#2a3f5f\"},\"error_y\":{\"color\":\"#2a3f5f\"},\"marker\":{\"line\":{\"color\":\"#E5ECF6\",\"width\":0.5},\"pattern\":{\"fillmode\":\"overlay\",\"size\":10,\"solidity\":0.2}},\"type\":\"bar\"}],\"scattergeo\":[{\"type\":\"scattergeo\",\"marker\":{\"colorbar\":{\"outlinewidth\":0,\"ticks\":\"\"}}}],\"scatterpolar\":[{\"type\":\"scatterpolar\",\"marker\":{\"colorbar\":{\"outlinewidth\":0,\"ticks\":\"\"}}}],\"histogram\":[{\"marker\":{\"pattern\":{\"fillmode\":\"overlay\",\"size\":10,\"solidity\":0.2}},\"type\":\"histogram\"}],\"scattergl\":[{\"type\":\"scattergl\",\"marker\":{\"colorbar\":{\"outlinewidth\":0,\"ticks\":\"\"}}}],\"scatter3d\":[{\"type\":\"scatter3d\",\"line\":{\"colorbar\":{\"outlinewidth\":0,\"ticks\":\"\"}},\"marker\":{\"colorbar\":{\"outlinewidth\":0,\"ticks\":\"\"}}}],\"scattermapbox\":[{\"type\":\"scattermapbox\",\"marker\":{\"colorbar\":{\"outlinewidth\":0,\"ticks\":\"\"}}}],\"scatterternary\":[{\"type\":\"scatterternary\",\"marker\":{\"colorbar\":{\"outlinewidth\":0,\"ticks\":\"\"}}}],\"scattercarpet\":[{\"type\":\"scattercarpet\",\"marker\":{\"colorbar\":{\"outlinewidth\":0,\"ticks\":\"\"}}}],\"carpet\":[{\"aaxis\":{\"endlinecolor\":\"#2a3f5f\",\"gridcolor\":\"white\",\"linecolor\":\"white\",\"minorgridcolor\":\"white\",\"startlinecolor\":\"#2a3f5f\"},\"baxis\":{\"endlinecolor\":\"#2a3f5f\",\"gridcolor\":\"white\",\"linecolor\":\"white\",\"minorgridcolor\":\"white\",\"startlinecolor\":\"#2a3f5f\"},\"type\":\"carpet\"}],\"table\":[{\"cells\":{\"fill\":{\"color\":\"#EBF0F8\"},\"line\":{\"color\":\"white\"}},\"header\":{\"fill\":{\"color\":\"#C8D4E3\"},\"line\":{\"color\":\"white\"}},\"type\":\"table\"}],\"barpolar\":[{\"marker\":{\"line\":{\"color\":\"#E5ECF6\",\"width\":0.5},\"pattern\":{\"fillmode\":\"overlay\",\"size\":10,\"solidity\":0.2}},\"type\":\"barpolar\"}],\"pie\":[{\"automargin\":true,\"type\":\"pie\"}]},\"layout\":{\"autotypenumbers\":\"strict\",\"colorway\":[\"#636efa\",\"#EF553B\",\"#00cc96\",\"#ab63fa\",\"#FFA15A\",\"#19d3f3\",\"#FF6692\",\"#B6E880\",\"#FF97FF\",\"#FECB52\"],\"font\":{\"color\":\"#2a3f5f\"},\"hovermode\":\"closest\",\"hoverlabel\":{\"align\":\"left\"},\"paper_bgcolor\":\"white\",\"plot_bgcolor\":\"#E5ECF6\",\"polar\":{\"bgcolor\":\"#E5ECF6\",\"angularaxis\":{\"gridcolor\":\"white\",\"linecolor\":\"white\",\"ticks\":\"\"},\"radialaxis\":{\"gridcolor\":\"white\",\"linecolor\":\"white\",\"ticks\":\"\"}},\"ternary\":{\"bgcolor\":\"#E5ECF6\",\"aaxis\":{\"gridcolor\":\"white\",\"linecolor\":\"white\",\"ticks\":\"\"},\"baxis\":{\"gridcolor\":\"white\",\"linecolor\":\"white\",\"ticks\":\"\"},\"caxis\":{\"gridcolor\":\"white\",\"linecolor\":\"white\",\"ticks\":\"\"}},\"coloraxis\":{\"colorbar\":{\"outlinewidth\":0,\"ticks\":\"\"}},\"colorscale\":{\"sequential\":[[0.0,\"#0d0887\"],[0.1111111111111111,\"#46039f\"],[0.2222222222222222,\"#7201a8\"],[0.3333333333333333,\"#9c179e\"],[0.4444444444444444,\"#bd3786\"],[0.5555555555555556,\"#d8576b\"],[0.6666666666666666,\"#ed7953\"],[0.7777777777777778,\"#fb9f3a\"],[0.8888888888888888,\"#fdca26\"],[1.0,\"#f0f921\"]],\"sequentialminus\":[[0.0,\"#0d0887\"],[0.1111111111111111,\"#46039f\"],[0.2222222222222222,\"#7201a8\"],[0.3333333333333333,\"#9c179e\"],[0.4444444444444444,\"#bd3786\"],[0.5555555555555556,\"#d8576b\"],[0.6666666666666666,\"#ed7953\"],[0.7777777777777778,\"#fb9f3a\"],[0.8888888888888888,\"#fdca26\"],[1.0,\"#f0f921\"]],\"diverging\":[[0,\"#8e0152\"],[0.1,\"#c51b7d\"],[0.2,\"#de77ae\"],[0.3,\"#f1b6da\"],[0.4,\"#fde0ef\"],[0.5,\"#f7f7f7\"],[0.6,\"#e6f5d0\"],[0.7,\"#b8e186\"],[0.8,\"#7fbc41\"],[0.9,\"#4d9221\"],[1,\"#276419\"]]},\"xaxis\":{\"gridcolor\":\"white\",\"linecolor\":\"white\",\"ticks\":\"\",\"title\":{\"standoff\":15},\"zerolinecolor\":\"white\",\"automargin\":true,\"zerolinewidth\":2},\"yaxis\":{\"gridcolor\":\"white\",\"linecolor\":\"white\",\"ticks\":\"\",\"title\":{\"standoff\":15},\"zerolinecolor\":\"white\",\"automargin\":true,\"zerolinewidth\":2},\"scene\":{\"xaxis\":{\"backgroundcolor\":\"#E5ECF6\",\"gridcolor\":\"white\",\"linecolor\":\"white\",\"showbackground\":true,\"ticks\":\"\",\"zerolinecolor\":\"white\",\"gridwidth\":2},\"yaxis\":{\"backgroundcolor\":\"#E5ECF6\",\"gridcolor\":\"white\",\"linecolor\":\"white\",\"showbackground\":true,\"ticks\":\"\",\"zerolinecolor\":\"white\",\"gridwidth\":2},\"zaxis\":{\"backgroundcolor\":\"#E5ECF6\",\"gridcolor\":\"white\",\"linecolor\":\"white\",\"showbackground\":true,\"ticks\":\"\",\"zerolinecolor\":\"white\",\"gridwidth\":2}},\"shapedefaults\":{\"line\":{\"color\":\"#2a3f5f\"}},\"annotationdefaults\":{\"arrowcolor\":\"#2a3f5f\",\"arrowhead\":0,\"arrowwidth\":1},\"geo\":{\"bgcolor\":\"white\",\"landcolor\":\"#E5ECF6\",\"subunitcolor\":\"white\",\"showland\":true,\"showlakes\":true,\"lakecolor\":\"white\"},\"title\":{\"x\":0.05},\"mapbox\":{\"style\":\"light\"}}}},                        {\"responsive\": true}                    ).then(function(){\n                            \nvar gd = document.getElementById('40ebec02-a782-4afd-bfa0-013ec8cf0504');\nvar x = new MutationObserver(function (mutations, observer) {{\n        var display = window.getComputedStyle(gd).display;\n        if (!display || display === 'none') {{\n            console.log([gd, 'removed!']);\n            Plotly.purge(gd);\n            observer.disconnect();\n        }}\n}});\n\n// Listen for the removal of the full notebook cells\nvar notebookContainer = gd.closest('#notebook-container');\nif (notebookContainer) {{\n    x.observe(notebookContainer, {childList: true});\n}}\n\n// Listen for the clearing of the current output cell\nvar outputEl = gd.closest('.output');\nif (outputEl) {{\n    x.observe(outputEl, {childList: true});\n}}\n\n                        })                };                });            </script>        </div>"
     },
     "metadata": {},
     "output_type": "display_data"
    }
   ],
   "source": [
    "x_axis = np.linspace(-10, 10, 100)\n",
    "y_axis = sigmoid_func(1, 1, x_axis)\n",
    "graphs = [\n",
    "    line_plot(x_data=x_axis, y_data=sigmoid_func(a, b, x_axis), marker=dict(size=5), visible=True, name=f\"[a={a}, b={b}]\")\n",
    "    for (a, b) in zip([1, -1, 2, 3, 1],[-5, 0, 0, 0, 5])\n",
    "]\n",
    "show(graphs, )"
   ],
   "metadata": {
    "collapsed": false,
    "pycharm": {
     "name": "#%%\n"
    }
   }
  },
  {
   "cell_type": "code",
   "execution_count": 51,
   "outputs": [
    {
     "name": "stderr",
     "output_type": "stream",
     "text": [
      "/var/folders/my/7brgd61x6pq5_s2st4mhk0xr0000gn/T/ipykernel_50402/350276557.py:4: RuntimeWarning:\n",
      "\n",
      "divide by zero encountered in log\n",
      "\n"
     ]
    },
    {
     "data": {
      "application/vnd.plotly.v1+json": {
       "data": [
        {
         "marker": {
          "size": 5
         },
         "mode": "lines",
         "name": "",
         "visible": true,
         "x": [
          0.001,
          0.011090909090909092,
          0.021181818181818184,
          0.03127272727272727,
          0.041363636363636366,
          0.05145454545454546,
          0.06154545454545455,
          0.07163636363636364,
          0.08172727272727273,
          0.09181818181818183,
          0.10190909090909092,
          0.112,
          0.1220909090909091,
          0.13218181818181818,
          0.14227272727272727,
          0.15236363636363637,
          0.16245454545454546,
          0.17254545454545456,
          0.18263636363636365,
          0.19272727272727275,
          0.20281818181818184,
          0.2129090909090909,
          0.223,
          0.2330909090909091,
          0.2431818181818182,
          0.25327272727272726,
          0.26336363636363636,
          0.27345454545454545,
          0.28354545454545454,
          0.29363636363636364,
          0.30372727272727273,
          0.31381818181818183,
          0.3239090909090909,
          0.334,
          0.3440909090909091,
          0.3541818181818182,
          0.3642727272727273,
          0.3743636363636364,
          0.3844545454545455,
          0.3945454545454546,
          0.4046363636363637,
          0.4147272727272727,
          0.4248181818181818,
          0.4349090909090909,
          0.445,
          0.4550909090909091,
          0.4651818181818182,
          0.4752727272727273,
          0.4853636363636364,
          0.4954545454545455,
          0.5055454545454545,
          0.5156363636363637,
          0.5257272727272727,
          0.5358181818181819,
          0.5459090909090909,
          0.556,
          0.5660909090909091,
          0.5761818181818182,
          0.5862727272727273,
          0.5963636363636364,
          0.6064545454545455,
          0.6165454545454546,
          0.6266363636363637,
          0.6367272727272728,
          0.6468181818181818,
          0.6569090909090909,
          0.667,
          0.6770909090909091,
          0.6871818181818182,
          0.6972727272727273,
          0.7073636363636364,
          0.7174545454545455,
          0.7275454545454546,
          0.7376363636363636,
          0.7477272727272728,
          0.7578181818181818,
          0.767909090909091,
          0.778,
          0.7880909090909092,
          0.7981818181818182,
          0.8082727272727274,
          0.8183636363636364,
          0.8284545454545454,
          0.8385454545454546,
          0.8486363636363636,
          0.8587272727272728,
          0.8688181818181818,
          0.878909090909091,
          0.889,
          0.8990909090909092,
          0.9091818181818182,
          0.9192727272727274,
          0.9293636363636364,
          0.9394545454545455,
          0.9495454545454546,
          0.9596363636363637,
          0.9697272727272728,
          0.9798181818181818,
          0.989909090909091,
          1.0
         ],
         "y": [
          6.907755278982137,
          4.501629507047251,
          3.854612098214807,
          3.4650088944071094,
          3.1853531328295572,
          2.9670564735773244,
          2.7879792788682325,
          2.6361524619226286,
          2.504367517308887,
          2.3879449419452023,
          2.2836741287083475,
          2.1892564076870427,
          2.10298935525727,
          2.023576893687043,
          1.950009448806254,
          1.8814852707384793,
          1.8173570366210796,
          1.7570945726106344,
          1.700258186965573,
          1.6464791841144493,
          1.595445357347975,
          1.546890007622845,
          1.5005835075220182,
          1.4563267337399468,
          1.4139458924504007,
          1.3732883974407566,
          1.3342195540111572,
          1.2966198667107771,
          1.2603828351727044,
          1.2254131355638054,
          1.191625109423751,
          1.158941499577189,
          1.1272923861746715,
          1.0966142860054366,
          1.0668493859089583,
          1.0379448870180819,
          1.009852441144363,
          0.9825276641927727,
          0.9559297143080189,
          0.9300209246860569,
          0.9047664827646532,
          0.8801341489361743,
          0.8560940090800814,
          0.8326182561500399,
          0.8096809968158968,
          0.787258079788788,
          0.7653269429754157,
          0.743866477036395,
          0.7228569032803214,
          0.7022796641232177,
          0.6821173245929436,
          0.6623534835685441,
          0.6429726936222894,
          0.6239603884828675,
          0.6053028172664237,
          0.5869869847315546,
          0.5690005969080556,
          0.5513320115296414,
          0.5339701927701302,
          0.5169046698423727,
          0.5001254990709921,
          0.48362322909492356,
          0.46738886889485576,
          0.451413858374765,
          0.4356900412565548,
          0.4202096400729221,
          0.4049652330665133,
          0.3899497328236046,
          0.37515636648833084,
          0.36057865741920575,
          0.3462104081635774,
          0.3320456846380016,
          0.31807880141346134,
          0.30430430801411507,
          0.29071697614693487,
          0.27731178778735943,
          0.26408392405301084,
          0.2510287548037454,
          0.23814182891186708,
          0.2254188651513452,
          0.2128557436593685,
          0.20044849792762953,
          0.18819330728438077,
          0.1760864898316126,
          0.1641244958046846,
          0.1523039013244451,
          0.14062140251432792,
          0.12907380995713388,
          0.11765804346823246,
          0.10637112716374972,
          0.09521018480399153,
          0.08417243539386884,
          0.07325518902349351,
          0.06245584293337758,
          0.051771877789841395,
          0.04120085415729281,
          0.030740409155024722,
          0.0203882532870656,
          0.010142167434446589,
          -0.0
         ],
         "type": "scatter"
        },
        {
         "marker": {
          "size": 5
         },
         "mode": "lines",
         "name": "",
         "visible": true,
         "x": [
          0.001,
          0.011090909090909092,
          0.021181818181818184,
          0.03127272727272727,
          0.041363636363636366,
          0.05145454545454546,
          0.06154545454545455,
          0.07163636363636364,
          0.08172727272727273,
          0.09181818181818183,
          0.10190909090909092,
          0.112,
          0.1220909090909091,
          0.13218181818181818,
          0.14227272727272727,
          0.15236363636363637,
          0.16245454545454546,
          0.17254545454545456,
          0.18263636363636365,
          0.19272727272727275,
          0.20281818181818184,
          0.2129090909090909,
          0.223,
          0.2330909090909091,
          0.2431818181818182,
          0.25327272727272726,
          0.26336363636363636,
          0.27345454545454545,
          0.28354545454545454,
          0.29363636363636364,
          0.30372727272727273,
          0.31381818181818183,
          0.3239090909090909,
          0.334,
          0.3440909090909091,
          0.3541818181818182,
          0.3642727272727273,
          0.3743636363636364,
          0.3844545454545455,
          0.3945454545454546,
          0.4046363636363637,
          0.4147272727272727,
          0.4248181818181818,
          0.4349090909090909,
          0.445,
          0.4550909090909091,
          0.4651818181818182,
          0.4752727272727273,
          0.4853636363636364,
          0.4954545454545455,
          0.5055454545454545,
          0.5156363636363637,
          0.5257272727272727,
          0.5358181818181819,
          0.5459090909090909,
          0.556,
          0.5660909090909091,
          0.5761818181818182,
          0.5862727272727273,
          0.5963636363636364,
          0.6064545454545455,
          0.6165454545454546,
          0.6266363636363637,
          0.6367272727272728,
          0.6468181818181818,
          0.6569090909090909,
          0.667,
          0.6770909090909091,
          0.6871818181818182,
          0.6972727272727273,
          0.7073636363636364,
          0.7174545454545455,
          0.7275454545454546,
          0.7376363636363636,
          0.7477272727272728,
          0.7578181818181818,
          0.767909090909091,
          0.778,
          0.7880909090909092,
          0.7981818181818182,
          0.8082727272727274,
          0.8183636363636364,
          0.8284545454545454,
          0.8385454545454546,
          0.8486363636363636,
          0.8587272727272728,
          0.8688181818181818,
          0.878909090909091,
          0.889,
          0.8990909090909092,
          0.9091818181818182,
          0.9192727272727274,
          0.9293636363636364,
          0.9394545454545455,
          0.9495454545454546,
          0.9596363636363637,
          0.9697272727272728,
          0.9798181818181818,
          0.989909090909091,
          1.0
         ],
         "y": [
          0.0010005003335835344,
          0.01115287179760149,
          0.021409371964790647,
          0.031772159000337176,
          0.042243458867632644,
          0.052825568198169526,
          0.06352085731491755,
          0.07433177341913312,
          0.08526084395132345,
          0.09631068013790837,
          0.10748398073603367,
          0.11878353598996698,
          0.1302122318135898,
          0.1417730542146657,
          0.15346909397785707,
          0.16530355162485985,
          0.17727974267157548,
          0.18940110320392037,
          0.20167119579573478,
          0.21409371579429187,
          0.22667249800115194,
          0.23941152377858177,
          0.25231492861448956,
          0.2653870101818424,
          0.278632236931863,
          0.2920552572640038,
          0.3056609093197823,
          0.31945423145211804,
          0.33344047342685806,
          0.34762510841881455,
          0.36201384587091406,
          0.3766126452920667,
          0.3914277310772074,
          0.406465608441748,
          0.4217330805725364,
          0.4372372671085016,
          0.45298562407664084,
          0.4689859654230821,
          0.4852464862948623,
          0.5017757882460727,
          0.5185829065624541,
          0.5356773399217541,
          0.5530690826336232,
          0.5707686597330243,
          0.5887871652357026,
          0.607136303903899,
          0.6258284369160515,
          0.6448766318867462,
          0.6642947177438479,
          0.6840973450400275,
          0.7043000523575468,
          0.7249193395602826,
          0.7459727487581148,
          0.7674789539790785,
          0.7894578606978537,
          0.8119307165499124,
          0.8349202347746111,
          0.8584507321848053,
          0.8825482837638656,
          0.9072408963542373,
          0.9325587043385271,
          0.9585341907417879,
          0.9852024378239491,
          1.0126014120120637,
          1.0407722889787598,
          1.069759825852012,
          1.0996127890016933,
          1.1303844476684468,
          1.1621331459830273,
          1.1949229688060181,
          1.2288245204816997,
          1.2639158402929696,
          1.3002834844638447,
          1.3380238124466914,
          1.377244525599973,
          1.4180665201202278,
          1.4606261345390241,
          1.5050778971098577,
          1.5515979127447508,
          1.6003880769141827,
          1.6516813713017335,
          1.705748592572009,
          1.7629070064119574,
          1.8235316282283924,
          1.8880701493659633,
          1.9570630208529152,
          2.031170993006637,
          2.1112137006801737,
          2.198225077669803,
          2.2935352574741286,
          2.3988957731319545,
          2.5166788087883387,
          2.6502102014128606,
          2.80436088124012,
          2.986682438034074,
          3.209825989348285,
          3.4975080618000653,
          3.9029731699082277,
          4.596120350468179,
          null
         ],
         "type": "scatter"
        }
       ],
       "layout": {
        "height": 700,
        "title": {
         "text": "",
         "x": 0.5
        },
        "width": 1000,
        "template": {
         "data": {
          "histogram2dcontour": [
           {
            "type": "histogram2dcontour",
            "colorbar": {
             "outlinewidth": 0,
             "ticks": ""
            },
            "colorscale": [
             [
              0.0,
              "#0d0887"
             ],
             [
              0.1111111111111111,
              "#46039f"
             ],
             [
              0.2222222222222222,
              "#7201a8"
             ],
             [
              0.3333333333333333,
              "#9c179e"
             ],
             [
              0.4444444444444444,
              "#bd3786"
             ],
             [
              0.5555555555555556,
              "#d8576b"
             ],
             [
              0.6666666666666666,
              "#ed7953"
             ],
             [
              0.7777777777777778,
              "#fb9f3a"
             ],
             [
              0.8888888888888888,
              "#fdca26"
             ],
             [
              1.0,
              "#f0f921"
             ]
            ]
           }
          ],
          "choropleth": [
           {
            "type": "choropleth",
            "colorbar": {
             "outlinewidth": 0,
             "ticks": ""
            }
           }
          ],
          "histogram2d": [
           {
            "type": "histogram2d",
            "colorbar": {
             "outlinewidth": 0,
             "ticks": ""
            },
            "colorscale": [
             [
              0.0,
              "#0d0887"
             ],
             [
              0.1111111111111111,
              "#46039f"
             ],
             [
              0.2222222222222222,
              "#7201a8"
             ],
             [
              0.3333333333333333,
              "#9c179e"
             ],
             [
              0.4444444444444444,
              "#bd3786"
             ],
             [
              0.5555555555555556,
              "#d8576b"
             ],
             [
              0.6666666666666666,
              "#ed7953"
             ],
             [
              0.7777777777777778,
              "#fb9f3a"
             ],
             [
              0.8888888888888888,
              "#fdca26"
             ],
             [
              1.0,
              "#f0f921"
             ]
            ]
           }
          ],
          "heatmap": [
           {
            "type": "heatmap",
            "colorbar": {
             "outlinewidth": 0,
             "ticks": ""
            },
            "colorscale": [
             [
              0.0,
              "#0d0887"
             ],
             [
              0.1111111111111111,
              "#46039f"
             ],
             [
              0.2222222222222222,
              "#7201a8"
             ],
             [
              0.3333333333333333,
              "#9c179e"
             ],
             [
              0.4444444444444444,
              "#bd3786"
             ],
             [
              0.5555555555555556,
              "#d8576b"
             ],
             [
              0.6666666666666666,
              "#ed7953"
             ],
             [
              0.7777777777777778,
              "#fb9f3a"
             ],
             [
              0.8888888888888888,
              "#fdca26"
             ],
             [
              1.0,
              "#f0f921"
             ]
            ]
           }
          ],
          "heatmapgl": [
           {
            "type": "heatmapgl",
            "colorbar": {
             "outlinewidth": 0,
             "ticks": ""
            },
            "colorscale": [
             [
              0.0,
              "#0d0887"
             ],
             [
              0.1111111111111111,
              "#46039f"
             ],
             [
              0.2222222222222222,
              "#7201a8"
             ],
             [
              0.3333333333333333,
              "#9c179e"
             ],
             [
              0.4444444444444444,
              "#bd3786"
             ],
             [
              0.5555555555555556,
              "#d8576b"
             ],
             [
              0.6666666666666666,
              "#ed7953"
             ],
             [
              0.7777777777777778,
              "#fb9f3a"
             ],
             [
              0.8888888888888888,
              "#fdca26"
             ],
             [
              1.0,
              "#f0f921"
             ]
            ]
           }
          ],
          "contourcarpet": [
           {
            "type": "contourcarpet",
            "colorbar": {
             "outlinewidth": 0,
             "ticks": ""
            }
           }
          ],
          "contour": [
           {
            "type": "contour",
            "colorbar": {
             "outlinewidth": 0,
             "ticks": ""
            },
            "colorscale": [
             [
              0.0,
              "#0d0887"
             ],
             [
              0.1111111111111111,
              "#46039f"
             ],
             [
              0.2222222222222222,
              "#7201a8"
             ],
             [
              0.3333333333333333,
              "#9c179e"
             ],
             [
              0.4444444444444444,
              "#bd3786"
             ],
             [
              0.5555555555555556,
              "#d8576b"
             ],
             [
              0.6666666666666666,
              "#ed7953"
             ],
             [
              0.7777777777777778,
              "#fb9f3a"
             ],
             [
              0.8888888888888888,
              "#fdca26"
             ],
             [
              1.0,
              "#f0f921"
             ]
            ]
           }
          ],
          "surface": [
           {
            "type": "surface",
            "colorbar": {
             "outlinewidth": 0,
             "ticks": ""
            },
            "colorscale": [
             [
              0.0,
              "#0d0887"
             ],
             [
              0.1111111111111111,
              "#46039f"
             ],
             [
              0.2222222222222222,
              "#7201a8"
             ],
             [
              0.3333333333333333,
              "#9c179e"
             ],
             [
              0.4444444444444444,
              "#bd3786"
             ],
             [
              0.5555555555555556,
              "#d8576b"
             ],
             [
              0.6666666666666666,
              "#ed7953"
             ],
             [
              0.7777777777777778,
              "#fb9f3a"
             ],
             [
              0.8888888888888888,
              "#fdca26"
             ],
             [
              1.0,
              "#f0f921"
             ]
            ]
           }
          ],
          "mesh3d": [
           {
            "type": "mesh3d",
            "colorbar": {
             "outlinewidth": 0,
             "ticks": ""
            }
           }
          ],
          "scatter": [
           {
            "fillpattern": {
             "fillmode": "overlay",
             "size": 10,
             "solidity": 0.2
            },
            "type": "scatter"
           }
          ],
          "parcoords": [
           {
            "type": "parcoords",
            "line": {
             "colorbar": {
              "outlinewidth": 0,
              "ticks": ""
             }
            }
           }
          ],
          "scatterpolargl": [
           {
            "type": "scatterpolargl",
            "marker": {
             "colorbar": {
              "outlinewidth": 0,
              "ticks": ""
             }
            }
           }
          ],
          "bar": [
           {
            "error_x": {
             "color": "#2a3f5f"
            },
            "error_y": {
             "color": "#2a3f5f"
            },
            "marker": {
             "line": {
              "color": "#E5ECF6",
              "width": 0.5
             },
             "pattern": {
              "fillmode": "overlay",
              "size": 10,
              "solidity": 0.2
             }
            },
            "type": "bar"
           }
          ],
          "scattergeo": [
           {
            "type": "scattergeo",
            "marker": {
             "colorbar": {
              "outlinewidth": 0,
              "ticks": ""
             }
            }
           }
          ],
          "scatterpolar": [
           {
            "type": "scatterpolar",
            "marker": {
             "colorbar": {
              "outlinewidth": 0,
              "ticks": ""
             }
            }
           }
          ],
          "histogram": [
           {
            "marker": {
             "pattern": {
              "fillmode": "overlay",
              "size": 10,
              "solidity": 0.2
             }
            },
            "type": "histogram"
           }
          ],
          "scattergl": [
           {
            "type": "scattergl",
            "marker": {
             "colorbar": {
              "outlinewidth": 0,
              "ticks": ""
             }
            }
           }
          ],
          "scatter3d": [
           {
            "type": "scatter3d",
            "line": {
             "colorbar": {
              "outlinewidth": 0,
              "ticks": ""
             }
            },
            "marker": {
             "colorbar": {
              "outlinewidth": 0,
              "ticks": ""
             }
            }
           }
          ],
          "scattermapbox": [
           {
            "type": "scattermapbox",
            "marker": {
             "colorbar": {
              "outlinewidth": 0,
              "ticks": ""
             }
            }
           }
          ],
          "scatterternary": [
           {
            "type": "scatterternary",
            "marker": {
             "colorbar": {
              "outlinewidth": 0,
              "ticks": ""
             }
            }
           }
          ],
          "scattercarpet": [
           {
            "type": "scattercarpet",
            "marker": {
             "colorbar": {
              "outlinewidth": 0,
              "ticks": ""
             }
            }
           }
          ],
          "carpet": [
           {
            "aaxis": {
             "endlinecolor": "#2a3f5f",
             "gridcolor": "white",
             "linecolor": "white",
             "minorgridcolor": "white",
             "startlinecolor": "#2a3f5f"
            },
            "baxis": {
             "endlinecolor": "#2a3f5f",
             "gridcolor": "white",
             "linecolor": "white",
             "minorgridcolor": "white",
             "startlinecolor": "#2a3f5f"
            },
            "type": "carpet"
           }
          ],
          "table": [
           {
            "cells": {
             "fill": {
              "color": "#EBF0F8"
             },
             "line": {
              "color": "white"
             }
            },
            "header": {
             "fill": {
              "color": "#C8D4E3"
             },
             "line": {
              "color": "white"
             }
            },
            "type": "table"
           }
          ],
          "barpolar": [
           {
            "marker": {
             "line": {
              "color": "#E5ECF6",
              "width": 0.5
             },
             "pattern": {
              "fillmode": "overlay",
              "size": 10,
              "solidity": 0.2
             }
            },
            "type": "barpolar"
           }
          ],
          "pie": [
           {
            "automargin": true,
            "type": "pie"
           }
          ]
         },
         "layout": {
          "autotypenumbers": "strict",
          "colorway": [
           "#636efa",
           "#EF553B",
           "#00cc96",
           "#ab63fa",
           "#FFA15A",
           "#19d3f3",
           "#FF6692",
           "#B6E880",
           "#FF97FF",
           "#FECB52"
          ],
          "font": {
           "color": "#2a3f5f"
          },
          "hovermode": "closest",
          "hoverlabel": {
           "align": "left"
          },
          "paper_bgcolor": "white",
          "plot_bgcolor": "#E5ECF6",
          "polar": {
           "bgcolor": "#E5ECF6",
           "angularaxis": {
            "gridcolor": "white",
            "linecolor": "white",
            "ticks": ""
           },
           "radialaxis": {
            "gridcolor": "white",
            "linecolor": "white",
            "ticks": ""
           }
          },
          "ternary": {
           "bgcolor": "#E5ECF6",
           "aaxis": {
            "gridcolor": "white",
            "linecolor": "white",
            "ticks": ""
           },
           "baxis": {
            "gridcolor": "white",
            "linecolor": "white",
            "ticks": ""
           },
           "caxis": {
            "gridcolor": "white",
            "linecolor": "white",
            "ticks": ""
           }
          },
          "coloraxis": {
           "colorbar": {
            "outlinewidth": 0,
            "ticks": ""
           }
          },
          "colorscale": {
           "sequential": [
            [
             0.0,
             "#0d0887"
            ],
            [
             0.1111111111111111,
             "#46039f"
            ],
            [
             0.2222222222222222,
             "#7201a8"
            ],
            [
             0.3333333333333333,
             "#9c179e"
            ],
            [
             0.4444444444444444,
             "#bd3786"
            ],
            [
             0.5555555555555556,
             "#d8576b"
            ],
            [
             0.6666666666666666,
             "#ed7953"
            ],
            [
             0.7777777777777778,
             "#fb9f3a"
            ],
            [
             0.8888888888888888,
             "#fdca26"
            ],
            [
             1.0,
             "#f0f921"
            ]
           ],
           "sequentialminus": [
            [
             0.0,
             "#0d0887"
            ],
            [
             0.1111111111111111,
             "#46039f"
            ],
            [
             0.2222222222222222,
             "#7201a8"
            ],
            [
             0.3333333333333333,
             "#9c179e"
            ],
            [
             0.4444444444444444,
             "#bd3786"
            ],
            [
             0.5555555555555556,
             "#d8576b"
            ],
            [
             0.6666666666666666,
             "#ed7953"
            ],
            [
             0.7777777777777778,
             "#fb9f3a"
            ],
            [
             0.8888888888888888,
             "#fdca26"
            ],
            [
             1.0,
             "#f0f921"
            ]
           ],
           "diverging": [
            [
             0,
             "#8e0152"
            ],
            [
             0.1,
             "#c51b7d"
            ],
            [
             0.2,
             "#de77ae"
            ],
            [
             0.3,
             "#f1b6da"
            ],
            [
             0.4,
             "#fde0ef"
            ],
            [
             0.5,
             "#f7f7f7"
            ],
            [
             0.6,
             "#e6f5d0"
            ],
            [
             0.7,
             "#b8e186"
            ],
            [
             0.8,
             "#7fbc41"
            ],
            [
             0.9,
             "#4d9221"
            ],
            [
             1,
             "#276419"
            ]
           ]
          },
          "xaxis": {
           "gridcolor": "white",
           "linecolor": "white",
           "ticks": "",
           "title": {
            "standoff": 15
           },
           "zerolinecolor": "white",
           "automargin": true,
           "zerolinewidth": 2
          },
          "yaxis": {
           "gridcolor": "white",
           "linecolor": "white",
           "ticks": "",
           "title": {
            "standoff": 15
           },
           "zerolinecolor": "white",
           "automargin": true,
           "zerolinewidth": 2
          },
          "scene": {
           "xaxis": {
            "backgroundcolor": "#E5ECF6",
            "gridcolor": "white",
            "linecolor": "white",
            "showbackground": true,
            "ticks": "",
            "zerolinecolor": "white",
            "gridwidth": 2
           },
           "yaxis": {
            "backgroundcolor": "#E5ECF6",
            "gridcolor": "white",
            "linecolor": "white",
            "showbackground": true,
            "ticks": "",
            "zerolinecolor": "white",
            "gridwidth": 2
           },
           "zaxis": {
            "backgroundcolor": "#E5ECF6",
            "gridcolor": "white",
            "linecolor": "white",
            "showbackground": true,
            "ticks": "",
            "zerolinecolor": "white",
            "gridwidth": 2
           }
          },
          "shapedefaults": {
           "line": {
            "color": "#2a3f5f"
           }
          },
          "annotationdefaults": {
           "arrowcolor": "#2a3f5f",
           "arrowhead": 0,
           "arrowwidth": 1
          },
          "geo": {
           "bgcolor": "white",
           "landcolor": "#E5ECF6",
           "subunitcolor": "white",
           "showland": true,
           "showlakes": true,
           "lakecolor": "white"
          },
          "title": {
           "x": 0.05
          },
          "mapbox": {
           "style": "light"
          }
         }
        }
       },
       "config": {
        "plotlyServerURL": "https://plot.ly"
       }
      },
      "text/html": "<div>                            <div id=\"7d78c887-7c4e-4873-a35d-2eccde0e1864\" class=\"plotly-graph-div\" style=\"height:700px; width:1000px;\"></div>            <script type=\"text/javascript\">                require([\"plotly\"], function(Plotly) {                    window.PLOTLYENV=window.PLOTLYENV || {};                                    if (document.getElementById(\"7d78c887-7c4e-4873-a35d-2eccde0e1864\")) {                    Plotly.newPlot(                        \"7d78c887-7c4e-4873-a35d-2eccde0e1864\",                        [{\"marker\":{\"size\":5},\"mode\":\"lines\",\"name\":\"\",\"visible\":true,\"x\":[0.001,0.011090909090909092,0.021181818181818184,0.03127272727272727,0.041363636363636366,0.05145454545454546,0.06154545454545455,0.07163636363636364,0.08172727272727273,0.09181818181818183,0.10190909090909092,0.112,0.1220909090909091,0.13218181818181818,0.14227272727272727,0.15236363636363637,0.16245454545454546,0.17254545454545456,0.18263636363636365,0.19272727272727275,0.20281818181818184,0.2129090909090909,0.223,0.2330909090909091,0.2431818181818182,0.25327272727272726,0.26336363636363636,0.27345454545454545,0.28354545454545454,0.29363636363636364,0.30372727272727273,0.31381818181818183,0.3239090909090909,0.334,0.3440909090909091,0.3541818181818182,0.3642727272727273,0.3743636363636364,0.3844545454545455,0.3945454545454546,0.4046363636363637,0.4147272727272727,0.4248181818181818,0.4349090909090909,0.445,0.4550909090909091,0.4651818181818182,0.4752727272727273,0.4853636363636364,0.4954545454545455,0.5055454545454545,0.5156363636363637,0.5257272727272727,0.5358181818181819,0.5459090909090909,0.556,0.5660909090909091,0.5761818181818182,0.5862727272727273,0.5963636363636364,0.6064545454545455,0.6165454545454546,0.6266363636363637,0.6367272727272728,0.6468181818181818,0.6569090909090909,0.667,0.6770909090909091,0.6871818181818182,0.6972727272727273,0.7073636363636364,0.7174545454545455,0.7275454545454546,0.7376363636363636,0.7477272727272728,0.7578181818181818,0.767909090909091,0.778,0.7880909090909092,0.7981818181818182,0.8082727272727274,0.8183636363636364,0.8284545454545454,0.8385454545454546,0.8486363636363636,0.8587272727272728,0.8688181818181818,0.878909090909091,0.889,0.8990909090909092,0.9091818181818182,0.9192727272727274,0.9293636363636364,0.9394545454545455,0.9495454545454546,0.9596363636363637,0.9697272727272728,0.9798181818181818,0.989909090909091,1.0],\"y\":[6.907755278982137,4.501629507047251,3.854612098214807,3.4650088944071094,3.1853531328295572,2.9670564735773244,2.7879792788682325,2.6361524619226286,2.504367517308887,2.3879449419452023,2.2836741287083475,2.1892564076870427,2.10298935525727,2.023576893687043,1.950009448806254,1.8814852707384793,1.8173570366210796,1.7570945726106344,1.700258186965573,1.6464791841144493,1.595445357347975,1.546890007622845,1.5005835075220182,1.4563267337399468,1.4139458924504007,1.3732883974407566,1.3342195540111572,1.2966198667107771,1.2603828351727044,1.2254131355638054,1.191625109423751,1.158941499577189,1.1272923861746715,1.0966142860054366,1.0668493859089583,1.0379448870180819,1.009852441144363,0.9825276641927727,0.9559297143080189,0.9300209246860569,0.9047664827646532,0.8801341489361743,0.8560940090800814,0.8326182561500399,0.8096809968158968,0.787258079788788,0.7653269429754157,0.743866477036395,0.7228569032803214,0.7022796641232177,0.6821173245929436,0.6623534835685441,0.6429726936222894,0.6239603884828675,0.6053028172664237,0.5869869847315546,0.5690005969080556,0.5513320115296414,0.5339701927701302,0.5169046698423727,0.5001254990709921,0.48362322909492356,0.46738886889485576,0.451413858374765,0.4356900412565548,0.4202096400729221,0.4049652330665133,0.3899497328236046,0.37515636648833084,0.36057865741920575,0.3462104081635774,0.3320456846380016,0.31807880141346134,0.30430430801411507,0.29071697614693487,0.27731178778735943,0.26408392405301084,0.2510287548037454,0.23814182891186708,0.2254188651513452,0.2128557436593685,0.20044849792762953,0.18819330728438077,0.1760864898316126,0.1641244958046846,0.1523039013244451,0.14062140251432792,0.12907380995713388,0.11765804346823246,0.10637112716374972,0.09521018480399153,0.08417243539386884,0.07325518902349351,0.06245584293337758,0.051771877789841395,0.04120085415729281,0.030740409155024722,0.0203882532870656,0.010142167434446589,-0.0],\"type\":\"scatter\"},{\"marker\":{\"size\":5},\"mode\":\"lines\",\"name\":\"\",\"visible\":true,\"x\":[0.001,0.011090909090909092,0.021181818181818184,0.03127272727272727,0.041363636363636366,0.05145454545454546,0.06154545454545455,0.07163636363636364,0.08172727272727273,0.09181818181818183,0.10190909090909092,0.112,0.1220909090909091,0.13218181818181818,0.14227272727272727,0.15236363636363637,0.16245454545454546,0.17254545454545456,0.18263636363636365,0.19272727272727275,0.20281818181818184,0.2129090909090909,0.223,0.2330909090909091,0.2431818181818182,0.25327272727272726,0.26336363636363636,0.27345454545454545,0.28354545454545454,0.29363636363636364,0.30372727272727273,0.31381818181818183,0.3239090909090909,0.334,0.3440909090909091,0.3541818181818182,0.3642727272727273,0.3743636363636364,0.3844545454545455,0.3945454545454546,0.4046363636363637,0.4147272727272727,0.4248181818181818,0.4349090909090909,0.445,0.4550909090909091,0.4651818181818182,0.4752727272727273,0.4853636363636364,0.4954545454545455,0.5055454545454545,0.5156363636363637,0.5257272727272727,0.5358181818181819,0.5459090909090909,0.556,0.5660909090909091,0.5761818181818182,0.5862727272727273,0.5963636363636364,0.6064545454545455,0.6165454545454546,0.6266363636363637,0.6367272727272728,0.6468181818181818,0.6569090909090909,0.667,0.6770909090909091,0.6871818181818182,0.6972727272727273,0.7073636363636364,0.7174545454545455,0.7275454545454546,0.7376363636363636,0.7477272727272728,0.7578181818181818,0.767909090909091,0.778,0.7880909090909092,0.7981818181818182,0.8082727272727274,0.8183636363636364,0.8284545454545454,0.8385454545454546,0.8486363636363636,0.8587272727272728,0.8688181818181818,0.878909090909091,0.889,0.8990909090909092,0.9091818181818182,0.9192727272727274,0.9293636363636364,0.9394545454545455,0.9495454545454546,0.9596363636363637,0.9697272727272728,0.9798181818181818,0.989909090909091,1.0],\"y\":[0.0010005003335835344,0.01115287179760149,0.021409371964790647,0.031772159000337176,0.042243458867632644,0.052825568198169526,0.06352085731491755,0.07433177341913312,0.08526084395132345,0.09631068013790837,0.10748398073603367,0.11878353598996698,0.1302122318135898,0.1417730542146657,0.15346909397785707,0.16530355162485985,0.17727974267157548,0.18940110320392037,0.20167119579573478,0.21409371579429187,0.22667249800115194,0.23941152377858177,0.25231492861448956,0.2653870101818424,0.278632236931863,0.2920552572640038,0.3056609093197823,0.31945423145211804,0.33344047342685806,0.34762510841881455,0.36201384587091406,0.3766126452920667,0.3914277310772074,0.406465608441748,0.4217330805725364,0.4372372671085016,0.45298562407664084,0.4689859654230821,0.4852464862948623,0.5017757882460727,0.5185829065624541,0.5356773399217541,0.5530690826336232,0.5707686597330243,0.5887871652357026,0.607136303903899,0.6258284369160515,0.6448766318867462,0.6642947177438479,0.6840973450400275,0.7043000523575468,0.7249193395602826,0.7459727487581148,0.7674789539790785,0.7894578606978537,0.8119307165499124,0.8349202347746111,0.8584507321848053,0.8825482837638656,0.9072408963542373,0.9325587043385271,0.9585341907417879,0.9852024378239491,1.0126014120120637,1.0407722889787598,1.069759825852012,1.0996127890016933,1.1303844476684468,1.1621331459830273,1.1949229688060181,1.2288245204816997,1.2639158402929696,1.3002834844638447,1.3380238124466914,1.377244525599973,1.4180665201202278,1.4606261345390241,1.5050778971098577,1.5515979127447508,1.6003880769141827,1.6516813713017335,1.705748592572009,1.7629070064119574,1.8235316282283924,1.8880701493659633,1.9570630208529152,2.031170993006637,2.1112137006801737,2.198225077669803,2.2935352574741286,2.3988957731319545,2.5166788087883387,2.6502102014128606,2.80436088124012,2.986682438034074,3.209825989348285,3.4975080618000653,3.9029731699082277,4.596120350468179,null],\"type\":\"scatter\"}],                        {\"height\":700,\"title\":{\"text\":\"\",\"x\":0.5},\"width\":1000,\"template\":{\"data\":{\"histogram2dcontour\":[{\"type\":\"histogram2dcontour\",\"colorbar\":{\"outlinewidth\":0,\"ticks\":\"\"},\"colorscale\":[[0.0,\"#0d0887\"],[0.1111111111111111,\"#46039f\"],[0.2222222222222222,\"#7201a8\"],[0.3333333333333333,\"#9c179e\"],[0.4444444444444444,\"#bd3786\"],[0.5555555555555556,\"#d8576b\"],[0.6666666666666666,\"#ed7953\"],[0.7777777777777778,\"#fb9f3a\"],[0.8888888888888888,\"#fdca26\"],[1.0,\"#f0f921\"]]}],\"choropleth\":[{\"type\":\"choropleth\",\"colorbar\":{\"outlinewidth\":0,\"ticks\":\"\"}}],\"histogram2d\":[{\"type\":\"histogram2d\",\"colorbar\":{\"outlinewidth\":0,\"ticks\":\"\"},\"colorscale\":[[0.0,\"#0d0887\"],[0.1111111111111111,\"#46039f\"],[0.2222222222222222,\"#7201a8\"],[0.3333333333333333,\"#9c179e\"],[0.4444444444444444,\"#bd3786\"],[0.5555555555555556,\"#d8576b\"],[0.6666666666666666,\"#ed7953\"],[0.7777777777777778,\"#fb9f3a\"],[0.8888888888888888,\"#fdca26\"],[1.0,\"#f0f921\"]]}],\"heatmap\":[{\"type\":\"heatmap\",\"colorbar\":{\"outlinewidth\":0,\"ticks\":\"\"},\"colorscale\":[[0.0,\"#0d0887\"],[0.1111111111111111,\"#46039f\"],[0.2222222222222222,\"#7201a8\"],[0.3333333333333333,\"#9c179e\"],[0.4444444444444444,\"#bd3786\"],[0.5555555555555556,\"#d8576b\"],[0.6666666666666666,\"#ed7953\"],[0.7777777777777778,\"#fb9f3a\"],[0.8888888888888888,\"#fdca26\"],[1.0,\"#f0f921\"]]}],\"heatmapgl\":[{\"type\":\"heatmapgl\",\"colorbar\":{\"outlinewidth\":0,\"ticks\":\"\"},\"colorscale\":[[0.0,\"#0d0887\"],[0.1111111111111111,\"#46039f\"],[0.2222222222222222,\"#7201a8\"],[0.3333333333333333,\"#9c179e\"],[0.4444444444444444,\"#bd3786\"],[0.5555555555555556,\"#d8576b\"],[0.6666666666666666,\"#ed7953\"],[0.7777777777777778,\"#fb9f3a\"],[0.8888888888888888,\"#fdca26\"],[1.0,\"#f0f921\"]]}],\"contourcarpet\":[{\"type\":\"contourcarpet\",\"colorbar\":{\"outlinewidth\":0,\"ticks\":\"\"}}],\"contour\":[{\"type\":\"contour\",\"colorbar\":{\"outlinewidth\":0,\"ticks\":\"\"},\"colorscale\":[[0.0,\"#0d0887\"],[0.1111111111111111,\"#46039f\"],[0.2222222222222222,\"#7201a8\"],[0.3333333333333333,\"#9c179e\"],[0.4444444444444444,\"#bd3786\"],[0.5555555555555556,\"#d8576b\"],[0.6666666666666666,\"#ed7953\"],[0.7777777777777778,\"#fb9f3a\"],[0.8888888888888888,\"#fdca26\"],[1.0,\"#f0f921\"]]}],\"surface\":[{\"type\":\"surface\",\"colorbar\":{\"outlinewidth\":0,\"ticks\":\"\"},\"colorscale\":[[0.0,\"#0d0887\"],[0.1111111111111111,\"#46039f\"],[0.2222222222222222,\"#7201a8\"],[0.3333333333333333,\"#9c179e\"],[0.4444444444444444,\"#bd3786\"],[0.5555555555555556,\"#d8576b\"],[0.6666666666666666,\"#ed7953\"],[0.7777777777777778,\"#fb9f3a\"],[0.8888888888888888,\"#fdca26\"],[1.0,\"#f0f921\"]]}],\"mesh3d\":[{\"type\":\"mesh3d\",\"colorbar\":{\"outlinewidth\":0,\"ticks\":\"\"}}],\"scatter\":[{\"fillpattern\":{\"fillmode\":\"overlay\",\"size\":10,\"solidity\":0.2},\"type\":\"scatter\"}],\"parcoords\":[{\"type\":\"parcoords\",\"line\":{\"colorbar\":{\"outlinewidth\":0,\"ticks\":\"\"}}}],\"scatterpolargl\":[{\"type\":\"scatterpolargl\",\"marker\":{\"colorbar\":{\"outlinewidth\":0,\"ticks\":\"\"}}}],\"bar\":[{\"error_x\":{\"color\":\"#2a3f5f\"},\"error_y\":{\"color\":\"#2a3f5f\"},\"marker\":{\"line\":{\"color\":\"#E5ECF6\",\"width\":0.5},\"pattern\":{\"fillmode\":\"overlay\",\"size\":10,\"solidity\":0.2}},\"type\":\"bar\"}],\"scattergeo\":[{\"type\":\"scattergeo\",\"marker\":{\"colorbar\":{\"outlinewidth\":0,\"ticks\":\"\"}}}],\"scatterpolar\":[{\"type\":\"scatterpolar\",\"marker\":{\"colorbar\":{\"outlinewidth\":0,\"ticks\":\"\"}}}],\"histogram\":[{\"marker\":{\"pattern\":{\"fillmode\":\"overlay\",\"size\":10,\"solidity\":0.2}},\"type\":\"histogram\"}],\"scattergl\":[{\"type\":\"scattergl\",\"marker\":{\"colorbar\":{\"outlinewidth\":0,\"ticks\":\"\"}}}],\"scatter3d\":[{\"type\":\"scatter3d\",\"line\":{\"colorbar\":{\"outlinewidth\":0,\"ticks\":\"\"}},\"marker\":{\"colorbar\":{\"outlinewidth\":0,\"ticks\":\"\"}}}],\"scattermapbox\":[{\"type\":\"scattermapbox\",\"marker\":{\"colorbar\":{\"outlinewidth\":0,\"ticks\":\"\"}}}],\"scatterternary\":[{\"type\":\"scatterternary\",\"marker\":{\"colorbar\":{\"outlinewidth\":0,\"ticks\":\"\"}}}],\"scattercarpet\":[{\"type\":\"scattercarpet\",\"marker\":{\"colorbar\":{\"outlinewidth\":0,\"ticks\":\"\"}}}],\"carpet\":[{\"aaxis\":{\"endlinecolor\":\"#2a3f5f\",\"gridcolor\":\"white\",\"linecolor\":\"white\",\"minorgridcolor\":\"white\",\"startlinecolor\":\"#2a3f5f\"},\"baxis\":{\"endlinecolor\":\"#2a3f5f\",\"gridcolor\":\"white\",\"linecolor\":\"white\",\"minorgridcolor\":\"white\",\"startlinecolor\":\"#2a3f5f\"},\"type\":\"carpet\"}],\"table\":[{\"cells\":{\"fill\":{\"color\":\"#EBF0F8\"},\"line\":{\"color\":\"white\"}},\"header\":{\"fill\":{\"color\":\"#C8D4E3\"},\"line\":{\"color\":\"white\"}},\"type\":\"table\"}],\"barpolar\":[{\"marker\":{\"line\":{\"color\":\"#E5ECF6\",\"width\":0.5},\"pattern\":{\"fillmode\":\"overlay\",\"size\":10,\"solidity\":0.2}},\"type\":\"barpolar\"}],\"pie\":[{\"automargin\":true,\"type\":\"pie\"}]},\"layout\":{\"autotypenumbers\":\"strict\",\"colorway\":[\"#636efa\",\"#EF553B\",\"#00cc96\",\"#ab63fa\",\"#FFA15A\",\"#19d3f3\",\"#FF6692\",\"#B6E880\",\"#FF97FF\",\"#FECB52\"],\"font\":{\"color\":\"#2a3f5f\"},\"hovermode\":\"closest\",\"hoverlabel\":{\"align\":\"left\"},\"paper_bgcolor\":\"white\",\"plot_bgcolor\":\"#E5ECF6\",\"polar\":{\"bgcolor\":\"#E5ECF6\",\"angularaxis\":{\"gridcolor\":\"white\",\"linecolor\":\"white\",\"ticks\":\"\"},\"radialaxis\":{\"gridcolor\":\"white\",\"linecolor\":\"white\",\"ticks\":\"\"}},\"ternary\":{\"bgcolor\":\"#E5ECF6\",\"aaxis\":{\"gridcolor\":\"white\",\"linecolor\":\"white\",\"ticks\":\"\"},\"baxis\":{\"gridcolor\":\"white\",\"linecolor\":\"white\",\"ticks\":\"\"},\"caxis\":{\"gridcolor\":\"white\",\"linecolor\":\"white\",\"ticks\":\"\"}},\"coloraxis\":{\"colorbar\":{\"outlinewidth\":0,\"ticks\":\"\"}},\"colorscale\":{\"sequential\":[[0.0,\"#0d0887\"],[0.1111111111111111,\"#46039f\"],[0.2222222222222222,\"#7201a8\"],[0.3333333333333333,\"#9c179e\"],[0.4444444444444444,\"#bd3786\"],[0.5555555555555556,\"#d8576b\"],[0.6666666666666666,\"#ed7953\"],[0.7777777777777778,\"#fb9f3a\"],[0.8888888888888888,\"#fdca26\"],[1.0,\"#f0f921\"]],\"sequentialminus\":[[0.0,\"#0d0887\"],[0.1111111111111111,\"#46039f\"],[0.2222222222222222,\"#7201a8\"],[0.3333333333333333,\"#9c179e\"],[0.4444444444444444,\"#bd3786\"],[0.5555555555555556,\"#d8576b\"],[0.6666666666666666,\"#ed7953\"],[0.7777777777777778,\"#fb9f3a\"],[0.8888888888888888,\"#fdca26\"],[1.0,\"#f0f921\"]],\"diverging\":[[0,\"#8e0152\"],[0.1,\"#c51b7d\"],[0.2,\"#de77ae\"],[0.3,\"#f1b6da\"],[0.4,\"#fde0ef\"],[0.5,\"#f7f7f7\"],[0.6,\"#e6f5d0\"],[0.7,\"#b8e186\"],[0.8,\"#7fbc41\"],[0.9,\"#4d9221\"],[1,\"#276419\"]]},\"xaxis\":{\"gridcolor\":\"white\",\"linecolor\":\"white\",\"ticks\":\"\",\"title\":{\"standoff\":15},\"zerolinecolor\":\"white\",\"automargin\":true,\"zerolinewidth\":2},\"yaxis\":{\"gridcolor\":\"white\",\"linecolor\":\"white\",\"ticks\":\"\",\"title\":{\"standoff\":15},\"zerolinecolor\":\"white\",\"automargin\":true,\"zerolinewidth\":2},\"scene\":{\"xaxis\":{\"backgroundcolor\":\"#E5ECF6\",\"gridcolor\":\"white\",\"linecolor\":\"white\",\"showbackground\":true,\"ticks\":\"\",\"zerolinecolor\":\"white\",\"gridwidth\":2},\"yaxis\":{\"backgroundcolor\":\"#E5ECF6\",\"gridcolor\":\"white\",\"linecolor\":\"white\",\"showbackground\":true,\"ticks\":\"\",\"zerolinecolor\":\"white\",\"gridwidth\":2},\"zaxis\":{\"backgroundcolor\":\"#E5ECF6\",\"gridcolor\":\"white\",\"linecolor\":\"white\",\"showbackground\":true,\"ticks\":\"\",\"zerolinecolor\":\"white\",\"gridwidth\":2}},\"shapedefaults\":{\"line\":{\"color\":\"#2a3f5f\"}},\"annotationdefaults\":{\"arrowcolor\":\"#2a3f5f\",\"arrowhead\":0,\"arrowwidth\":1},\"geo\":{\"bgcolor\":\"white\",\"landcolor\":\"#E5ECF6\",\"subunitcolor\":\"white\",\"showland\":true,\"showlakes\":true,\"lakecolor\":\"white\"},\"title\":{\"x\":0.05},\"mapbox\":{\"style\":\"light\"}}}},                        {\"responsive\": true}                    ).then(function(){\n                            \nvar gd = document.getElementById('7d78c887-7c4e-4873-a35d-2eccde0e1864');\nvar x = new MutationObserver(function (mutations, observer) {{\n        var display = window.getComputedStyle(gd).display;\n        if (!display || display === 'none') {{\n            console.log([gd, 'removed!']);\n            Plotly.purge(gd);\n            observer.disconnect();\n        }}\n}});\n\n// Listen for the removal of the full notebook cells\nvar notebookContainer = gd.closest('#notebook-container');\nif (notebookContainer) {{\n    x.observe(notebookContainer, {childList: true});\n}}\n\n// Listen for the clearing of the current output cell\nvar outputEl = gd.closest('.output');\nif (outputEl) {{\n    x.observe(outputEl, {childList: true});\n}}\n\n                        })                };                });            </script>        </div>"
     },
     "metadata": {},
     "output_type": "display_data"
    }
   ],
   "source": [
    "x_axis = np.linspace(0.001, 1, 100)\n",
    "show([\n",
    "    line_plot(x_data=x_axis, y_data=-np.log(x_axis), marker=dict(size=5), visible=True),\n",
    "    line_plot(x_data=x_axis, y_data=-np.log(1 - x_axis), marker=dict(size=5), visible=True),\n",
    "])"
   ],
   "metadata": {
    "collapsed": false,
    "pycharm": {
     "name": "#%%\n"
    }
   }
  },
  {
   "cell_type": "code",
   "execution_count": null,
   "outputs": [],
   "source": [],
   "metadata": {
    "collapsed": false,
    "pycharm": {
     "name": "#%%\n"
    }
   }
  }
 ],
 "metadata": {
  "kernelspec": {
   "display_name": "Python 3",
   "language": "python",
   "name": "python3"
  },
  "language_info": {
   "codemirror_mode": {
    "name": "ipython",
    "version": 2
   },
   "file_extension": ".py",
   "mimetype": "text/x-python",
   "name": "python",
   "nbconvert_exporter": "python",
   "pygments_lexer": "ipython2",
   "version": "2.7.6"
  }
 },
 "nbformat": 4,
 "nbformat_minor": 0
}