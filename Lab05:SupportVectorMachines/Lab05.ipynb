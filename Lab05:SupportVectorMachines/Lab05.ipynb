{
 "cells": [
  {
   "cell_type": "markdown",
   "source": [
    "# Lab05: Support Vector Machine"
   ],
   "metadata": {
    "collapsed": false,
    "pycharm": {
     "name": "#%% md\n"
    }
   }
  },
  {
   "cell_type": "code",
   "execution_count": 6,
   "outputs": [],
   "source": [
    "from IPython.display import clear_output\n",
    "!pip3 install..Libs / plotting_funcs-0.0.1-py3-none-any.whl  --force-reinstall\n",
    "clear_output()"
   ],
   "metadata": {
    "collapsed": false,
    "pycharm": {
     "name": "#%%\n"
    }
   }
  },
  {
   "cell_type": "code",
   "execution_count": 73,
   "outputs": [],
   "source": [
    "import numpy as np\n",
    "import pandas as pd\n",
    "import plotly.graph_objects as go\n",
    "from typing import Optional, Dict, Any, Tuple, Union, Mapping\n",
    "from plotting_funcs.graphs import show, list_plot, line_plot, show_multi, confusion_graph"
   ],
   "metadata": {
    "collapsed": false,
    "pycharm": {
     "name": "#%%\n"
    }
   }
  },
  {
   "cell_type": "code",
   "execution_count": 74,
   "outputs": [],
   "source": [
    "import torch\n",
    "from torch import nn, Tensor\n",
    "from tqdm import tqdm, trange\n",
    "from functools import partial\n",
    "from torch.utils.data import Dataset, DataLoader"
   ],
   "metadata": {
    "collapsed": false,
    "pycharm": {
     "name": "#%%\n"
    }
   }
  },
  {
   "cell_type": "code",
   "execution_count": 75,
   "metadata": {
    "collapsed": true,
    "pycharm": {
     "name": "#%%\n"
    }
   },
   "outputs": [],
   "source": [
    "class SupportVectorMachines(nn.Module):\n",
    "    def __init__(self, n):\n",
    "        super(SupportVectorMachines, self).__init__()\n",
    "        self.multipliers = nn.Parameter(torch.rand(n, 1))\n",
    "\n",
    "    def forward(self, dataset):\n",
    "        inputs, outputs = dataset\n",
    "        weights = self.multipliers[:-1] * outputs * inputs\n",
    "        w, w_0 = weights, outputs - (weights @ inputs).sum()\n",
    "        predictions = (w * inputs) + w_0\n",
    "        return torch.sign(predictions)\n",
    "\n",
    "    def fit(self, dataset, n=1_000, optimizer=None):\n",
    "\n",
    "        inputs, outputs = dataset\n",
    "        optimizer = torch.optim.Adam(self.parameters(), lr=0.001) if optimizer is None else optimizer\n",
    "\n",
    "        with tqdm(total=n, prefix=\"epoch\", postfix={\"loss\": torch.inf}) as tqdm_:\n",
    "            for epoch in range(n):\n",
    "                alpha = self.multipliers.abs()\n",
    "                loss = alpha.sum() - (0.5 * alpha * alpha * inputs * inputs * outputs * outputs).sum()\n",
    "                loss.backward()\n",
    "                optimizer.step()\n",
    "                optimizer.zero_grad()\n",
    "\n",
    "                tqdm_.update()\n",
    "                if epoch % 10:\n",
    "                    tqdm_.set_postfix({\"loss\": loss})"
   ]
  },
  {
   "cell_type": "code",
   "execution_count": 71,
   "outputs": [],
   "source": [
    "nn.Parameter(torch.arange(1, 4, dtype=torch.float)).sum().backward()"
   ],
   "metadata": {
    "collapsed": false,
    "pycharm": {
     "name": "#%%\n"
    }
   }
  },
  {
   "cell_type": "code",
   "execution_count": 70,
   "outputs": [
    {
     "data": {
      "text/plain": "tensor([ 1, 16])"
     },
     "execution_count": 70,
     "metadata": {},
     "output_type": "execute_result"
    }
   ],
   "source": [
    "torch.arange(1, 3) * torch.arange(1, 3) * torch.arange(1, 3) * torch.arange(1, 3)"
   ],
   "metadata": {
    "collapsed": false,
    "pycharm": {
     "name": "#%%\n"
    }
   }
  },
  {
   "cell_type": "code",
   "execution_count": null,
   "outputs": [],
   "source": [
    "import torch.nn.functional as F\n",
    "\n",
    "nn.Sequential(\n",
    "    nn.Linear(1,1),\n",
    "    F.relu\n",
    ")"
   ],
   "metadata": {
    "collapsed": false,
    "pycharm": {
     "name": "#%%\n"
    }
   }
  }
 ],
 "metadata": {
  "kernelspec": {
   "display_name": "Python 3",
   "language": "python",
   "name": "python3"
  },
  "language_info": {
   "codemirror_mode": {
    "name": "ipython",
    "version": 2
   },
   "file_extension": ".py",
   "mimetype": "text/x-python",
   "name": "python",
   "nbconvert_exporter": "python",
   "pygments_lexer": "ipython2",
   "version": "2.7.6"
  }
 },
 "nbformat": 4,
 "nbformat_minor": 0
}